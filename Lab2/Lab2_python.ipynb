{
 "cells": [
  {
   "cell_type": "markdown",
   "id": "e92d036b",
   "metadata": {},
   "source": [
    "#  Laboratorio 2 - Python\n",
    "## @author: Roberto Mendoza "
   ]
  },
  {
   "cell_type": "markdown",
   "id": "836ca442",
   "metadata": {},
   "source": [
    "## <a id='1.0'> 1.0 If statement </a> "
   ]
  },
  {
   "cell_type": "code",
   "execution_count": 10,
   "id": "8db08323",
   "metadata": {},
   "outputs": [
    {
     "name": "stdout",
     "output_type": "stream",
     "text": [
      "0\n"
     ]
    }
   ],
   "source": [
    "import random\n",
    "import numpy as np\n",
    "import math\n",
    "\n",
    "#Ejercicio 1: evaluar es media de vector es >< que media\n",
    "\n",
    "#1. generar vector de n1 a n2 con n elementos\n",
    "    # np.random.randint(-n1, n2, n)  \n",
    "\n",
    "y = np.random.randint(-10, 10, 10)\n",
    "y   # vector \n",
    "\n",
    "if np.mean(y) > 0 :  \n",
    "    \n",
    "    dummy = 1\n",
    "    \n",
    "else :\n",
    "    dummy = 0\n",
    "        \n",
    "print(dummy)"
   ]
  },
  {
   "cell_type": "markdown",
   "id": "1eba3380",
   "metadata": {},
   "source": [
    "## <a id='1.1'> 1.1 Nested if statement </a> "
   ]
  },
  {
   "cell_type": "code",
   "execution_count": 72,
   "id": "900ee2e0",
   "metadata": {},
   "outputs": [
    {
     "name": "stdout",
     "output_type": "stream",
     "text": [
      "nan  es un missing\n"
     ]
    }
   ],
   "source": [
    "v = [2, np.nan, \"String\", False]\n",
    "a = int(np.random.randint(0,4,1))\n",
    "v = v[a]\n",
    "\n",
    "#Ejercicio 2: evaluar si objeto de lista es de clase  ==> isinstance(objeto, nombre_clase) ==> evalua ==> True/False\n",
    "\n",
    "if isinstance( v, int ):      # si se cumple, imprime\n",
    "    print(v, \" es numero entero (no missing)\")\n",
    "elif math.isnan(v):\n",
    "    print(v, \" es un missing\")\n",
    "elif isinstance( v, str ):\n",
    "    print(v, \" es un string\") \n",
    "elif isinstance( v, bool ):\n",
    "    print(v, \" es un logical\")     \n",
    "else:\n",
    "    print(\"Sin resultado\")       \n",
    "    "
   ]
  },
  {
   "cell_type": "markdown",
   "id": "5be0bb17",
   "metadata": {},
   "source": [
    "## <a id='1.1'> 1.? While </a> \n",
    "### If I have my savings today of S/.1,000.00. How much will my savings be worth in 10 years at an interest rate of 2.5%?\n",
    "\n",
    "$$\n",
    "    S_{y+1}\t=S_{y}(1+i)\n",
    "$$"
   ]
  },
  {
   "cell_type": "code",
   "execution_count": 73,
   "id": "6bbab811",
   "metadata": {},
   "outputs": [
    {
     "name": "stdout",
     "output_type": "stream",
     "text": [
      "2 1025.0\n",
      "3 1050.625\n",
      "4 1076.890625\n",
      "5 1103.812890625\n",
      "6 1131.4082128906248\n",
      "7 1159.6934182128903\n",
      "8 1188.6857536682123\n",
      "9 1218.4028975099175\n",
      "10 1248.8629699476653\n"
     ]
    }
   ],
   "source": [
    "#Ejercicio 3: interes compuesto\n",
    "\n",
    "#  save\n",
    "S = 1000\n",
    "# Periods\n",
    "n = 10\n",
    "# interes rate\n",
    "i = 0.025\n",
    "\n",
    "year = 1\n",
    "while year < n:\n",
    "    S =  S * (1+i)\n",
    "    year += 1\n",
    "    print( year, S)"
   ]
  },
  {
   "cell_type": "markdown",
   "id": "7906f97e",
   "metadata": {},
   "source": [
    "## <a id='1.2'> 1.2 While if statement </a> "
   ]
  },
  {
   "cell_type": "code",
   "execution_count": 214,
   "id": "3e8d448b",
   "metadata": {},
   "outputs": [
    {
     "name": "stdout",
     "output_type": "stream",
     "text": [
      "0\n"
     ]
    }
   ],
   "source": [
    "#Ejercicio 4: Aumentar salario condicionado a valor aleatorio se aproxime a 0 o 1\n",
    "    #NOta, SÍ se imprime TODOS LOS VALORES\n",
    "w = 10\n",
    "\n",
    "while (w > 7  & w <= 15) :   #1. mientras que el salario está entre 7 y 15\n",
    "      \n",
    "    coin = round( np.random.uniform(0,1) ) # 1. se va a rendondear un numero aleatorio entre 0 y 1 (solo un numero)\n",
    "  \n",
    "    if coin == 1:          #2. luego, si ese numero se aproxima a 1 ==, se suma 2soles al salario\n",
    "        w =  w + 2\n",
    "    else :\n",
    "        w = w - 10         #2. luego, si ese numero se aproxima a 0, restar 10 soles (no se ve) y mostrar salario\n",
    "        print(w)             \n",
    "                            #3. el valor de 'w' se pasa a while otra vez ==> #1.\n",
    "                            #3. si falla a requisito de while ==> se muestra resultado de #2."
   ]
  },
  {
   "cell_type": "markdown",
   "id": "7cab8604",
   "metadata": {},
   "source": [
    "## <a id='1.3'> 1.3 For Loop </a> "
   ]
  },
  {
   "cell_type": "code",
   "execution_count": 174,
   "id": "01e25ba8",
   "metadata": {},
   "outputs": [
    {
     "name": "stdout",
     "output_type": "stream",
     "text": [
      "31\n",
      "33\n",
      "35\n",
      "34\n",
      "30\n"
     ]
    }
   ],
   "source": [
    "#Ejercicio 5: en el loop cada elemento del vector se evalúa por separado, todos los resultados se muestran\n",
    "\n",
    "ages = np.array([21, 23, 25, 24, 20])   #vector\n",
    "\n",
    "for age in ages:\n",
    "\n",
    "    print(age+10 )  "
   ]
  },
  {
   "cell_type": "code",
   "execution_count": 180,
   "id": "cb78e1c0",
   "metadata": {},
   "outputs": [
    {
     "name": "stdout",
     "output_type": "stream",
     "text": [
      "Ejecutanto 0 \n",
      "\n",
      "Ejecutanto 1 \n",
      "\n",
      "Ejecutanto 2 \n",
      "\n",
      "Ejecutanto 3 \n",
      "\n",
      "Ejecutanto 4 \n",
      "\n",
      "Ejecutanto 5 \n",
      "\n",
      "Ejecutanto 6 \n",
      "\n",
      "Ejecutanto 7 \n",
      "\n",
      "Ejecutanto 8 \n",
      "\n",
      "Ejecutanto 9 \n",
      "\n",
      "Ejecutanto 10 \n",
      "\n",
      "Ejecutanto 11 \n",
      "\n",
      "Ejecutanto 12 \n",
      "\n",
      "Ejecutanto 13 \n",
      "\n",
      "Ejecutanto 14 \n",
      "\n",
      "Ejecutanto 21 \n",
      "\n",
      "Ejecutanto 22 \n",
      "\n",
      "Ejecutanto 23 \n",
      "\n",
      "Ejecutanto 24 \n",
      "\n",
      "Ejecutanto 25 \n",
      "\n",
      "Ejecutanto 26 \n",
      "\n",
      "Ejecutanto 27 \n",
      "\n",
      "Ejecutanto 28 \n",
      "\n",
      "Ejecutanto 29 \n",
      "\n",
      "Ejecutanto 30 \n",
      "\n",
      "Ejecutanto 31 \n",
      "\n",
      "Ejecutanto 32 \n",
      "\n",
      "Ejecutanto 33 \n",
      "\n",
      "Ejecutanto 34 \n",
      "\n",
      "Ejecutanto 35 \n",
      "\n",
      "Ejecutanto 36 \n",
      "\n",
      "Ejecutanto 37 \n",
      "\n",
      "Ejecutanto 38 \n",
      "\n",
      "Ejecutanto 39 \n",
      "\n",
      "Ejecutanto 40 \n",
      "\n",
      "Ejecutanto 41 \n",
      "\n",
      "Ejecutanto 42 \n",
      "\n",
      "Ejecutanto 43 \n",
      "\n",
      "Ejecutanto 44 \n",
      "\n",
      "Ejecutanto 45 \n",
      "\n",
      "Ejecutanto 46 \n",
      "\n",
      "Ejecutanto 47 \n",
      "\n",
      "Ejecutanto 48 \n",
      "\n",
      "Ejecutanto 49 \n",
      "\n",
      "0\n",
      "1\n",
      "2\n",
      "3\n",
      "4\n",
      "5\n",
      "6\n",
      "7\n",
      "8\n",
      "9\n",
      "10\n",
      "11\n",
      "12\n",
      "13\n",
      "14\n",
      "15\n",
      "16\n",
      "17\n",
      "18\n",
      "19\n",
      "20\n",
      "21\n",
      "20\n"
     ]
    }
   ],
   "source": [
    "#Ejercicio 6: \n",
    "\n",
    "for i in range(50):           #1. lista de 0 a 50-1=49\n",
    "    if i in range(15,21) :       #2. si elemento de la lista está entre 15 y 20=21-1 mostrar: \n",
    "        None                         #2.a. 'nada'\n",
    "    else :                       #2. en otro caso mostrar: \n",
    "        print(\"Ejecutanto\",i,\"\\n\")   #2.b.  frase con elemento  \n",
    "\n",
    "\n",
    "# Example 2\n",
    "\n",
    "for j in range(101):\n",
    "    print(j)\n",
    "    \n",
    "    if j > 20:\n",
    "        break               # se rompe toda la cadena que continua"
   ]
  },
  {
   "cell_type": "markdown",
   "id": "7ebf104e",
   "metadata": {},
   "source": [
    "## <a id='1.3'> 1.3 While + Break </a> "
   ]
  },
  {
   "cell_type": "code",
   "execution_count": 197,
   "id": "250b0845",
   "metadata": {},
   "outputs": [],
   "source": [
    "#Ejercicio 7: Bucle infinito  == While True\n",
    "    #el bucle continnuara imprimiendo hasta que el numero random 'coin' se aproxime a 1\n",
    "w = 10\n",
    "\n",
    "while True :\n",
    "    coin = round( np.random.uniform(0,1) ) # redondear al entero más cercano\n",
    "    if coin == 1 :\n",
    "        break \n",
    "    else:\n",
    "        w = w + 10\n",
    "        print(w)"
   ]
  },
  {
   "cell_type": "markdown",
   "id": "109394d6",
   "metadata": {},
   "source": [
    "## <a id='1.4'> 1.4 Function </a> "
   ]
  },
  {
   "cell_type": "code",
   "execution_count": 218,
   "id": "4cc7f700",
   "metadata": {},
   "outputs": [
    {
     "data": {
      "text/plain": [
       "60040"
      ]
     },
     "execution_count": 218,
     "metadata": {},
     "output_type": "execute_result"
    }
   ],
   "source": [
    "#1. fUNCION simple:\n",
    "        # def nombre_funcion(x,y,z)\n",
    "        #         f1(x,y,z)\n",
    "        #         f2(x,y,z)\n",
    "        #         f3(x,y,z)\n",
    "                    \n",
    "        #         output= (f1, f2, frase)\n",
    "        \n",
    "def calculator(x,y,z):\n",
    "    result = x*y*z\n",
    "    \n",
    "    return result\n",
    "\n",
    "\n",
    "##usando funcion definida:  ==> llamar nombre ==> colocar inputs (x,y,z...)\n",
    "calculator( 158, 38, 10 ) "
   ]
  },
  {
   "cell_type": "code",
   "execution_count": 223,
   "id": "526a4e97",
   "metadata": {},
   "outputs": [
    {
     "name": "stdout",
     "output_type": "stream",
     "text": [
      "(144, 9, 'La multiplicación del cuadrado es: 144')\n",
      "9\n"
     ]
    },
    {
     "data": {
      "text/plain": [
       "'La multiplicación del cuadrado es: 144'"
      ]
     },
     "execution_count": 223,
     "metadata": {},
     "output_type": "execute_result"
    }
   ],
   "source": [
    "#2. funcion multiples outputs\n",
    "\n",
    "def calculator_square( x, y ):\n",
    "    \n",
    "    x2 = x * x                            #operaciones (varias)\n",
    "    y2 = y * y\n",
    "    \n",
    "    result = x2 * y2   \n",
    "    \n",
    "    return result, x2, f\"La multiplicación del cuadrado es: {result}\"    #resultados que se muestran al llamar a funcion\n",
    "\n",
    "\n",
    "##usando funcion definida:  ==> llamar nombre ==> colocar inputs (x,y,z...)\n",
    "print(calculator_square(3, 4) )      \n",
    "\n",
    "##usando funcion definida:  ==> llamar nombre ==> colocar inputs (x,y,z) ==> seleccionar output específico a mostrar []\n",
    "print( calculator_square(3, 4)[1] )\n",
    "calculator_square(3, 4)[2]\n",
    "                "
   ]
  },
  {
   "cell_type": "code",
   "execution_count": 224,
   "id": "2d3747bc",
   "metadata": {},
   "outputs": [
    {
     "name": "stdout",
     "output_type": "stream",
     "text": [
      "Too large number. Do not return variables!\n"
     ]
    },
    {
     "data": {
      "text/plain": [
       "35"
      ]
     },
     "execution_count": 224,
     "metadata": {},
     "output_type": "execute_result"
    }
   ],
   "source": [
    "#3. funcion con statements\n",
    "\n",
    "#### el resultado al llamar la funcion dependera del valor de las operaciones internas\n",
    "def calculator_square_2( x, y ):\n",
    "    \n",
    "    x2 = x * x\n",
    "    y2 = y * y\n",
    "    \n",
    "    result = x2 * y2   \n",
    "    if result <= 200:\n",
    "           return f\"Large number. Get only the result variable {result}\"\n",
    "    else:\n",
    "           return  print( \"Too large number. Do not return variables!\")\n",
    "\n",
    "\n",
    "##usando funcion definida:  ==> llamar nombre ==> colocar inputs (x,y,z...)\n",
    "calculator_square_2(300, 4)"
   ]
  },
  {
   "cell_type": "code",
   "execution_count": 225,
   "id": "24096a3a",
   "metadata": {},
   "outputs": [
    {
     "data": {
      "text/plain": [
       "35"
      ]
     },
     "execution_count": 225,
     "metadata": {},
     "output_type": "execute_result"
    }
   ],
   "source": [
    "# 4. fUNCION CON 'y' tipo de variables FIJA\n",
    "\n",
    "def calculator_base_5( x , y = 5 ):\n",
    "    \n",
    "    result = x * y\n",
    "    \n",
    "    return result\n",
    "\n",
    "##usando funcion definida:  ==> llamar nombre ==> colocar inputs (x,z...), ojo: la variable FIJA NO SE COLOCA\n",
    "calculator_base_5( 7 )"
   ]
  },
  {
   "cell_type": "code",
   "execution_count": 231,
   "id": "50a723e8",
   "metadata": {},
   "outputs": [
    {
     "name": "stdout",
     "output_type": "stream",
     "text": [
      "24.0\n"
     ]
    },
    {
     "ename": "TypeError",
     "evalue": "X variable is not int type.",
     "output_type": "error",
     "traceback": [
      "\u001b[1;31m---------------------------------------------------------------------------\u001b[0m",
      "\u001b[1;31mTypeError\u001b[0m                                 Traceback (most recent call last)",
      "Input \u001b[1;32mIn [231]\u001b[0m, in \u001b[0;36m<cell line: 17>\u001b[1;34m()\u001b[0m\n\u001b[0;32m     12\u001b[0m     \u001b[38;5;28;01mreturn\u001b[39;00m result_correct                                         \u001b[38;5;66;03m#2.c. mostrar el resultado correcto\u001b[39;00m\n\u001b[0;32m     15\u001b[0m \u001b[38;5;28mprint\u001b[39m(calculator_base_5( \u001b[38;5;241m8\u001b[39m, \u001b[38;5;241m3.0\u001b[39m ))\n\u001b[1;32m---> 17\u001b[0m \u001b[43mcalculator_base_5\u001b[49m\u001b[43m(\u001b[49m\u001b[43m \u001b[49m\u001b[43mnp\u001b[49m\u001b[38;5;241;43m.\u001b[39;49m\u001b[43mnan\u001b[49m\u001b[43m,\u001b[49m\u001b[43m \u001b[49m\u001b[38;5;241;43m3.0\u001b[39;49m\u001b[43m)\u001b[49m\n",
      "Input \u001b[1;32mIn [231]\u001b[0m, in \u001b[0;36mcalculator_base_5\u001b[1;34m(x, y)\u001b[0m\n\u001b[0;32m      3\u001b[0m \u001b[38;5;28;01mdef\u001b[39;00m \u001b[38;5;21mcalculator_base_5\u001b[39m( x : \u001b[38;5;28mint\u001b[39m, y : \u001b[38;5;28mfloat\u001b[39m ) \u001b[38;5;241m-\u001b[39m\u001b[38;5;241m>\u001b[39m \u001b[38;5;28mfloat\u001b[39m:\n\u001b[0;32m      5\u001b[0m     \u001b[38;5;28;01mif\u001b[39;00m \u001b[38;5;129;01mnot\u001b[39;00m \u001b[38;5;28misinstance\u001b[39m( x , \u001b[38;5;28mint\u001b[39m ):                        \u001b[38;5;66;03m#2. si x es False, mostrar: \u001b[39;00m\n\u001b[1;32m----> 6\u001b[0m         \u001b[38;5;28;01mraise\u001b[39;00m \u001b[38;5;167;01mTypeError\u001b[39;00m( \u001b[38;5;124m\"\u001b[39m\u001b[38;5;124mX variable is not int type.\u001b[39m\u001b[38;5;124m\"\u001b[39m)     \u001b[38;5;66;03m#2.a. mostrar el tipo de error\u001b[39;00m\n\u001b[0;32m      8\u001b[0m     \u001b[38;5;28;01mif\u001b[39;00m \u001b[38;5;129;01mnot\u001b[39;00m \u001b[38;5;28misinstance\u001b[39m( y, \u001b[38;5;28mfloat\u001b[39m ):                      \u001b[38;5;66;03m#2. si y es False, mostrar: \u001b[39;00m\n\u001b[0;32m      9\u001b[0m         \u001b[38;5;28;01mraise\u001b[39;00m \u001b[38;5;167;01mTypeError\u001b[39;00m( \u001b[38;5;124m\"\u001b[39m\u001b[38;5;124mY variable is not float type.\u001b[39m\u001b[38;5;124m\"\u001b[39m)   \u001b[38;5;66;03m#2.b. mostrar el tipo de error\u001b[39;00m\n",
      "\u001b[1;31mTypeError\u001b[0m: X variable is not int type."
     ]
    }
   ],
   "source": [
    "# 5. fUNCION con clases de elementos definidos  inputs -> outputs\n",
    "\n",
    "def calculator_base_5( x : int, y : float ) -> float:\n",
    "    \n",
    "    if not isinstance( x , int ):                        #2. si x es False, mostrar: \n",
    "        raise TypeError( \"X variable is not int type.\")     #2.a. mostrar el tipo de error\n",
    "        \n",
    "    if not isinstance( y, float ):                      #2. si y es False, mostrar: \n",
    "        raise TypeError( \"Y variable is not float type.\")   #2.b. mostrar el tipo de error\n",
    "\n",
    "    result_correct = x * y                                      #2. si x , y son True ==> operar, mostrar:\n",
    "    return result_correct                                         #2.c. mostrar el resultado correcto\n",
    "\n",
    "\n",
    "print(calculator_base_5( 8, 3.0 ))   #24\n",
    "\n",
    "calculator_base_5( np.nan, 3.0)      #TypeError"
   ]
  },
  {
   "cell_type": "code",
   "execution_count": 247,
   "id": "19aa06f0",
   "metadata": {},
   "outputs": [
    {
     "data": {
      "text/plain": [
       "array([[  0,   1,   2,   3,   4,   5,   6,   7,   8,   9],\n",
       "       [ 10,  11,  12,  13,  14,  15,  16,  17,  18,  19],\n",
       "       [ 30,  31,  32,  33,  34,  35,  36,  37,  38,  39],\n",
       "       [-20, -19, -18, -17, -16, -15, -14, -13, -12, -11],\n",
       "       [  2,   4,   6,   8,  10,  12,  14,  16,  18,  20]])"
      ]
     },
     "execution_count": 247,
     "metadata": {},
     "output_type": "execute_result"
    }
   ],
   "source": [
    "#### 6. Function y valore predeterminados de parámetros\n",
    "\n",
    "def transpose(M, est = True, z = None):\n",
    "    \n",
    "    if not isinstance( M , np.ndarray ) :       #2. Si M no es una Matriz  \n",
    "        raise TypeError( \"x must be a n-array\")     #2.a mostrar error\n",
    "  \n",
    "    \n",
    "    elif (est and (z is None) ) :               #2. Si est=True & z=None\n",
    "                                                  #Operaciones:\n",
    "        M = M.T                                   #transpuesta de M\n",
    "        Z = np.zeros((M.shape[0], M.shape[1]))    #matriz de ceros Z, con igual filas y columnas que M\n",
    "        for i in range(M.shape[1]):               #para cada elemento en el rango(numero_columnas) de 0 hasta num_col-1\n",
    "    \n",
    "            a = np.mean(M[:,i])                     #media para cada columna i\n",
    "            b = np.std(M[:,i])                      #desviacion para cada columna i\n",
    "            Z[:,i] = (M[:,i]-a)/b                   #reemplazar en Z la columna i con = (i - media) /desviacion\n",
    "            \n",
    "        return Z                                  #mostrar Z \n",
    "    \n",
    "    elif not z is None:                         #2. Si z es un número\n",
    "        \n",
    "        M = M*z                                     #multiplicar M con z\n",
    "        return M                                    #mostrar M\n",
    "    \n",
    "    else:\n",
    "        print('no hay opcion')\n",
    "        \n",
    "A = np.array([np.arange(0,10), np.arange(10,20), np.arange(30,40), np.arange(-20,-10), np.arange(2,21,2)])\n",
    "A"
   ]
  },
  {
   "cell_type": "code",
   "execution_count": 251,
   "id": "36c651c5",
   "metadata": {},
   "outputs": [
    {
     "name": "stdout",
     "output_type": "stream",
     "text": [
      "[[-1.5666989  -1.5666989  -1.5666989  -1.5666989  -1.5666989 ]\n",
      " [-1.21854359 -1.21854359 -1.21854359 -1.21854359 -1.21854359]\n",
      " [-0.87038828 -0.87038828 -0.87038828 -0.87038828 -0.87038828]\n",
      " [-0.52223297 -0.52223297 -0.52223297 -0.52223297 -0.52223297]\n",
      " [-0.17407766 -0.17407766 -0.17407766 -0.17407766 -0.17407766]\n",
      " [ 0.17407766  0.17407766  0.17407766  0.17407766  0.17407766]\n",
      " [ 0.52223297  0.52223297  0.52223297  0.52223297  0.52223297]\n",
      " [ 0.87038828  0.87038828  0.87038828  0.87038828  0.87038828]\n",
      " [ 1.21854359  1.21854359  1.21854359  1.21854359  1.21854359]\n",
      " [ 1.5666989   1.5666989   1.5666989   1.5666989   1.5666989 ]]\n"
     ]
    }
   ],
   "source": [
    "print(transpose(A, est = True, z = None))"
   ]
  },
  {
   "cell_type": "code",
   "execution_count": 249,
   "id": "ea67acaa",
   "metadata": {},
   "outputs": [
    {
     "name": "stdout",
     "output_type": "stream",
     "text": [
      "[[  0   2   4   6   8  10  12  14  16  18]\n",
      " [ 20  22  24  26  28  30  32  34  36  38]\n",
      " [ 60  62  64  66  68  70  72  74  76  78]\n",
      " [-40 -38 -36 -34 -32 -30 -28 -26 -24 -22]\n",
      " [  4   8  12  16  20  24  28  32  36  40]]\n"
     ]
    }
   ],
   "source": [
    "print(transpose(A, est = False, z = 2))"
   ]
  },
  {
   "cell_type": "markdown",
   "id": "880ac631",
   "metadata": {},
   "source": [
    "## <a id='1.5'> 1.5 Try and Exception </a> "
   ]
  },
  {
   "cell_type": "code",
   "execution_count": 297,
   "id": "2931e731",
   "metadata": {},
   "outputs": [
    {
     "name": "stdout",
     "output_type": "stream",
     "text": [
      "0\n",
      "El argumento  deberia ser un número\n",
      "nan\n",
      "nan\n",
      "Esta parte siempre se ejecuta\n"
     ]
    }
   ],
   "source": [
    "a = [\"2\", 2]\n",
    "i=int(np.random.randint(0,1))\n",
    "a=a[i]\n",
    "print(i)\n",
    "# caso 1\n",
    "\n",
    "try:     \n",
    "    \n",
    "    print(a/7)   # Si No corre el código porque se detecta un error ==> sale el Except\n",
    "    \n",
    "except TypeError:\n",
    "      print(\"El argumento  deberia ser un número\")\n",
    "    \n",
    "# caso 2\n",
    "\n",
    "try:\n",
    "    \n",
    "    print(a/7)\n",
    "    \n",
    "except Exception:\n",
    "    a = np.nan\n",
    "    print(a)\n",
    "\n",
    "# caso 3\n",
    "\n",
    "try:\n",
    "    \n",
    "    print(a/7)\n",
    "\n",
    "except Exception:\n",
    "    a = np.nan\n",
    "    print(a)\n",
    "\n",
    "finally:\n",
    "    \n",
    "    print(\"Esta parte siempre se ejecuta\")\n"
   ]
  },
  {
   "cell_type": "markdown",
   "id": "a32f07c3",
   "metadata": {},
   "source": [
    "## <a id='1.5'> 1.6 *args </a> \n",
    "\n",
    "\n",
    "The special syntax **\\*args** in function definitions in python is used to pass a variable number of arguments to a function. The object **\\*args** is a **tuple** that contains all the arguments. When you build your code, you should consider **\\*args** as a **tuple**."
   ]
  },
  {
   "cell_type": "code",
   "execution_count": 298,
   "id": "94c9bf8a",
   "metadata": {},
   "outputs": [
    {
     "name": "stdout",
     "output_type": "stream",
     "text": [
      "args is a <class 'tuple'>\n"
     ]
    },
    {
     "data": {
      "text/plain": [
       "1440000"
      ]
     },
     "execution_count": 298,
     "metadata": {},
     "output_type": "execute_result"
    }
   ],
   "source": [
    "#Ejercicio 7: con elementos tupla ==>   name_funcion(*tupla_name)\n",
    "\n",
    "def calculator( *args ):\n",
    "    \n",
    "    print( f\" args is a {type( args )} \" )    #indicar que es una tupla  ==> siempre aparece\n",
    "    \n",
    "    # Get the first value\n",
    "    result = args[ 0 ]                       #sacar el primer argumento = es un numero\n",
    "    \n",
    "    # Keep the rest of values\n",
    "    args1 = args[ 1: ]                       #demás argumentos mantenerlos como tupla\n",
    "    \n",
    "    # multiply all elements\n",
    "    for element in args1:                    #para los element' en la tupla: multiplicarlo por el result' incial y de ahí \n",
    "        result = result * element            #el result' cambiado es el producto\n",
    "                                             #iniciar for de nuevo\n",
    "    \n",
    "    return result                            # return ==> es el resultado\n",
    "\n",
    "calculator( 8, 9, 50, 40, 10, 1)\n"
   ]
  },
  {
   "cell_type": "markdown",
   "id": "b1e6ca4f",
   "metadata": {},
   "source": [
    "### <a id='#1.7.'>1.7. Kwargs </a> \n",
    "\n",
    "The special syntax **\\*kwargs** in function definitions in python is used to pass a keyworded, variable-length argument list. We use the name kwargs with the double star. The reason is because the double star allows us to pass through keyword arguments (and any number of them)."
   ]
  },
  {
   "cell_type": "code",
   "execution_count": 301,
   "id": "c9d640f9",
   "metadata": {},
   "outputs": [
    {
     "name": "stdout",
     "output_type": "stream",
     "text": [
      "<class 'tuple'>\n",
      "<class 'dict'>\n"
     ]
    },
    {
     "data": {
      "text/plain": [
       "6.0"
      ]
     },
     "execution_count": 301,
     "metadata": {},
     "output_type": "execute_result"
    }
   ],
   "source": [
    "#Ejercio 8\n",
    "\n",
    "def calculator( *list_vars, **kwargs):\n",
    "    \n",
    "    print( type( list_vars ) )                     #indicar que es una tupla  ==> siempre aparece\n",
    "    print( type( kwargs ) )                         #indicar que es una diccionario  ==> siempre aparece\n",
    "    \n",
    "    if   ( kwargs[ 'function' ] == \"media\" ) :     #2. si la funcion albergada es == media, mostrar:\n",
    "        \n",
    "        result = np.mean( list_vars )                  #2.a. sacar media de tupla \n",
    "    \n",
    "    elif ( kwargs[ 'function' ] == \"adicion\" ) :   #2. si la funcion albergada es == adicion, mostrar:\n",
    "\n",
    "        result = sum(list_vars)                        #2.a. sacar suma de tupla\n",
    "    else:\n",
    "        raise ValueError( f\"The function argument {kwargs[ 'function' ]} is not supported.\" )\n",
    "\n",
    "    return result\n",
    "\n",
    "\n",
    "#calculator( 4, 5, 6, 7, 8, function = \"adicion\" )\n",
    "\n",
    "calculator( 4, 5, 6, 7, 8, function = \"media\" )\n",
    "\n",
    "# calculator( 4, 5, 6, 7, 8, function = \"inversa\" )"
   ]
  },
  {
   "cell_type": "markdown",
   "id": "98e9223d",
   "metadata": {},
   "source": [
    "### <a id='#1.8.'>1.8 Class </a> \n",
    "\n",
    "A class is a user-defined blueprint or prototype from which objects are created. Classes provide a means of bundling data and functionality together. Creating a new class creates a new type of object, allowing new instances of that type to be made."
   ]
  },
  {
   "cell_type": "markdown",
   "id": "8cf7d525",
   "metadata": {},
   "source": [
    "### <a id='#1.8.1.'>1.8.1. The Importance of Python Classes </a> \n",
    "\n",
    "Classes are a way to organize your code into generic, reusable peices. At their best they are generic blueprints for things that will be used over and over again with little modification. The original concept was inspired by independent biological systems or organism unique from other organisms by the set or collection of features (attributes) and abilities (methods).\n",
    "\n",
    "Functions are great to use when data is central to the work being done. Classes are great when you need to represent a collection of attributes and methods that will be used over and over again in other places.\n",
    "\n",
    "Generally if you find your self writing functions inside of functions you should consider writing a class instead. If you only have one function in a class then stick with just writing a function.\n",
    "\n",
    "\n",
    "\n",
    "- Classes provide an easy way of keeping the data members and methods together in one place which helps in keeping the program more organized.\n",
    "- Using classes also provides another functionality of this object-oriented programming paradigm, that is, inheritance.\n",
    "- Classes also help in overriding any standard operator.\n",
    "- Using classes provides the ability to reuse the code which makes the program more efficient.\n",
    "- Grouping related functions and keeping them in one place (inside a class) provides a clean structure to the code which increases the readability of the program."
   ]
  },
  {
   "cell_type": "markdown",
   "id": "f71a75f1",
   "metadata": {},
   "source": [
    "###  <a id='#5.2.2.'> 1.8.2. Defining a class </a> \n",
    "it is considered to be a good practice to include a brief description about the class to increase the readability and understandability of the code."
   ]
  },
  {
   "cell_type": "code",
   "execution_count": null,
   "id": "36f4588c",
   "metadata": {},
   "outputs": [],
   "source": [
    "class class_name:\n",
    "    \n",
    "    def __init__(self, parameter1, parameter2):\n",
    "        None\n",
    "        \n",
    "## Atributos"
   ]
  },
  {
   "cell_type": "markdown",
   "id": "69191501",
   "metadata": {},
   "source": [
    "### <a id='#5.2.3.'>  Attributes </a> \n",
    "A value associated with an object which is referenced by name using dotted expressions. For example, `np.size`.\n",
    "\n",
    "### <a id='#5.2.5.'> Method </a>\n",
    "A function which is defined inside a class body. If called as an attribute of an instance of that class, the method will get the instance object as its first argument (which is usually called self). See function and nested scope."
   ]
  },
  {
   "cell_type": "code",
   "execution_count": 309,
   "id": "91fb702a",
   "metadata": {},
   "outputs": [
    {
     "name": "stdout",
     "output_type": "stream",
     "text": [
      "[ 8  9 10 11 12 13 14 15 16 17 18 19 20 21 22 23 24]\n",
      "17\n"
     ]
    },
    {
     "data": {
      "text/plain": [
       "['T',\n",
       " '__abs__',\n",
       " '__add__',\n",
       " '__and__',\n",
       " '__array__',\n",
       " '__array_finalize__',\n",
       " '__array_function__',\n",
       " '__array_interface__',\n",
       " '__array_prepare__',\n",
       " '__array_priority__',\n",
       " '__array_struct__',\n",
       " '__array_ufunc__',\n",
       " '__array_wrap__',\n",
       " '__bool__',\n",
       " '__class__',\n",
       " '__complex__',\n",
       " '__contains__',\n",
       " '__copy__',\n",
       " '__deepcopy__',\n",
       " '__delattr__',\n",
       " '__delitem__',\n",
       " '__dir__',\n",
       " '__divmod__',\n",
       " '__doc__',\n",
       " '__eq__',\n",
       " '__float__',\n",
       " '__floordiv__',\n",
       " '__format__',\n",
       " '__ge__',\n",
       " '__getattribute__',\n",
       " '__getitem__',\n",
       " '__gt__',\n",
       " '__hash__',\n",
       " '__iadd__',\n",
       " '__iand__',\n",
       " '__ifloordiv__',\n",
       " '__ilshift__',\n",
       " '__imatmul__',\n",
       " '__imod__',\n",
       " '__imul__',\n",
       " '__index__',\n",
       " '__init__',\n",
       " '__init_subclass__',\n",
       " '__int__',\n",
       " '__invert__',\n",
       " '__ior__',\n",
       " '__ipow__',\n",
       " '__irshift__',\n",
       " '__isub__',\n",
       " '__iter__',\n",
       " '__itruediv__',\n",
       " '__ixor__',\n",
       " '__le__',\n",
       " '__len__',\n",
       " '__lshift__',\n",
       " '__lt__',\n",
       " '__matmul__',\n",
       " '__mod__',\n",
       " '__mul__',\n",
       " '__ne__',\n",
       " '__neg__',\n",
       " '__new__',\n",
       " '__or__',\n",
       " '__pos__',\n",
       " '__pow__',\n",
       " '__radd__',\n",
       " '__rand__',\n",
       " '__rdivmod__',\n",
       " '__reduce__',\n",
       " '__reduce_ex__',\n",
       " '__repr__',\n",
       " '__rfloordiv__',\n",
       " '__rlshift__',\n",
       " '__rmatmul__',\n",
       " '__rmod__',\n",
       " '__rmul__',\n",
       " '__ror__',\n",
       " '__rpow__',\n",
       " '__rrshift__',\n",
       " '__rshift__',\n",
       " '__rsub__',\n",
       " '__rtruediv__',\n",
       " '__rxor__',\n",
       " '__setattr__',\n",
       " '__setitem__',\n",
       " '__setstate__',\n",
       " '__sizeof__',\n",
       " '__str__',\n",
       " '__sub__',\n",
       " '__subclasshook__',\n",
       " '__truediv__',\n",
       " '__xor__',\n",
       " 'all',\n",
       " 'any',\n",
       " 'argmax',\n",
       " 'argmin',\n",
       " 'argpartition',\n",
       " 'argsort',\n",
       " 'astype',\n",
       " 'base',\n",
       " 'byteswap',\n",
       " 'choose',\n",
       " 'clip',\n",
       " 'compress',\n",
       " 'conj',\n",
       " 'conjugate',\n",
       " 'copy',\n",
       " 'ctypes',\n",
       " 'cumprod',\n",
       " 'cumsum',\n",
       " 'data',\n",
       " 'diagonal',\n",
       " 'dot',\n",
       " 'dtype',\n",
       " 'dump',\n",
       " 'dumps',\n",
       " 'fill',\n",
       " 'flags',\n",
       " 'flat',\n",
       " 'flatten',\n",
       " 'getfield',\n",
       " 'imag',\n",
       " 'item',\n",
       " 'itemset',\n",
       " 'itemsize',\n",
       " 'max',\n",
       " 'mean',\n",
       " 'min',\n",
       " 'nbytes',\n",
       " 'ndim',\n",
       " 'newbyteorder',\n",
       " 'nonzero',\n",
       " 'partition',\n",
       " 'prod',\n",
       " 'ptp',\n",
       " 'put',\n",
       " 'ravel',\n",
       " 'real',\n",
       " 'repeat',\n",
       " 'reshape',\n",
       " 'resize',\n",
       " 'round',\n",
       " 'searchsorted',\n",
       " 'setfield',\n",
       " 'setflags',\n",
       " 'shape',\n",
       " 'size',\n",
       " 'sort',\n",
       " 'squeeze',\n",
       " 'std',\n",
       " 'strides',\n",
       " 'sum',\n",
       " 'swapaxes',\n",
       " 'take',\n",
       " 'tobytes',\n",
       " 'tofile',\n",
       " 'tolist',\n",
       " 'tostring',\n",
       " 'trace',\n",
       " 'transpose',\n",
       " 'var',\n",
       " 'view']"
      ]
     },
     "execution_count": 309,
     "metadata": {},
     "output_type": "execute_result"
    }
   ],
   "source": [
    "import numpy as np \n",
    "\n",
    "A = np.arange( 8, 25 )\n",
    "print(A)\n",
    "print(A.size)\n",
    "A.shape\n",
    "A.mean()\n",
    "        \n",
    "dir(A)    # list de atributo"
   ]
  },
  {
   "cell_type": "code",
   "execution_count": 310,
   "id": "5ef23749",
   "metadata": {},
   "outputs": [
    {
     "name": "stdout",
     "output_type": "stream",
     "text": [
      "['ARDRegression', 'BayesianRidge', 'ElasticNet', 'ElasticNetCV', 'GammaRegressor', 'Hinge', 'Huber', 'HuberRegressor', 'Lars', 'LarsCV', 'Lasso', 'LassoCV', 'LassoLars', 'LassoLarsCV', 'LassoLarsIC', 'LinearRegression', 'Log', 'LogisticRegression', 'LogisticRegressionCV', 'ModifiedHuber', 'MultiTaskElasticNet', 'MultiTaskElasticNetCV', 'MultiTaskLasso', 'MultiTaskLassoCV', 'OrthogonalMatchingPursuit', 'OrthogonalMatchingPursuitCV', 'PassiveAggressiveClassifier', 'PassiveAggressiveRegressor', 'Perceptron', 'PoissonRegressor', 'QuantileRegressor', 'RANSACRegressor', 'Ridge', 'RidgeCV', 'RidgeClassifier', 'RidgeClassifierCV', 'SGDClassifier', 'SGDOneClassSVM', 'SGDRegressor', 'SquaredLoss', 'TheilSenRegressor', 'TweedieRegressor', '__all__', '__builtins__', '__cached__', '__doc__', '__file__', '__loader__', '__name__', '__package__', '__path__', '__spec__', '_base', '_bayes', '_cd_fast', '_coordinate_descent', '_glm', '_huber', '_least_angle', '_logistic', '_omp', '_passive_aggressive', '_perceptron', '_quantile', '_ransac', '_ridge', '_sag', '_sag_fast', '_sgd_fast', '_stochastic_gradient', '_theil_sen', 'enet_path', 'lars_path', 'lars_path_gram', 'lasso_path', 'orthogonal_mp', 'orthogonal_mp_gram', 'ridge_regression']\n"
     ]
    }
   ],
   "source": [
    "\"\"\"\n",
    "Method \n",
    "A function which is defined inside a class body. \n",
    "If called as an attribute of an instance of that class,\n",
    " the method will get the instance object as its first argument (which is usually called self). \n",
    " See function and nested scope.\n",
    "\"\"\"\n",
    "\n",
    "from sklearn import linear_model\n",
    "print(dir(linear_model))   #lista de atributos"
   ]
  },
  {
   "cell_type": "code",
   "execution_count": 328,
   "id": "8c95fa07",
   "metadata": {},
   "outputs": [],
   "source": [
    "#### __init__\n",
    "\n",
    "class MyFirstClass:\n",
    "    \n",
    "    def __init__( self, name, age ):\n",
    "        self.name = name\n",
    "        self.age = age\n",
    "    \n",
    "    # best way to define a method\n",
    "    def print_name_1( self ):\n",
    "        print( f'I am { self.name }.' )\n",
    "    \n",
    "    # wrong way to define a method \n",
    "    def print_name_2():\n",
    "        print( f'This is my { name }.' )\n",
    "    \n",
    "    \n",
    "    # the worst way to call a parameter\n",
    "    # we need to define them as attributes\n",
    "    def print_name_3( self ):\n",
    "        print( f'This is my { name }.' )\n",
    "        "
   ]
  },
  {
   "cell_type": "code",
   "execution_count": 329,
   "id": "0076bebb",
   "metadata": {},
   "outputs": [],
   "source": [
    "        \n",
    "class MyFirstClass:\n",
    "    \n",
    "    def __init__( self, name, age, school ):\n",
    "        self.name = name\n",
    "        self.age = age\n",
    "        self.school = school\n",
    "    \n",
    "    # how to define a method\n",
    "    def print_name_1( self ):\n",
    "        print( f'I am { self.name }.' )\n",
    "    \n",
    "    # other method\n",
    "    def person_age( self ):\n",
    "        print( f' I am { self.name } , I am { self.age } old. ' )\n",
    "    \n",
    "    # other method\n",
    "    def person_school( self ):\n",
    "        print( f' I am {self.name} , I study at {self.school}. ' )\n",
    "      \n",
    "    # wrong way to define a method \n",
    "    def print_name_2():\n",
    "        print( f'This is my { name }.' )\n",
    "    \n",
    "    # the worst way to call a parameter\n",
    "    # we need to define them as attributes\n",
    "    def print_name_3( self ):\n",
    "        print( f'This is my { name }.' )    "
   ]
  },
  {
   "cell_type": "code",
   "execution_count": 331,
   "id": "05e9e074",
   "metadata": {},
   "outputs": [
    {
     "name": "stdout",
     "output_type": "stream",
     "text": [
      "Jose\n",
      "22\n",
      "Saco Oliveros\n",
      "I am Jose.\n",
      " I am Jose , I am 22 old. \n",
      " I am Jose , I study at Saco Oliveros. \n"
     ]
    }
   ],
   "source": [
    "student = MyFirstClass( name = \"Jose\" , age = 22, school = \"Saco Oliveros\" )\n",
    "print(student.name)\n",
    "print(student.age)          # == student.age\n",
    "print(student.school)\n",
    "\n",
    "student.print_name_1()\n",
    "                            # sale error: student.print_name_2()\n",
    "student.person_age()\n",
    "student.person_school()"
   ]
  },
  {
   "cell_type": "markdown",
   "id": "58e0bac0",
   "metadata": {},
   "source": [
    "###  <a id='#5.2.2.'> 1.9 Loop replacement </a> \n"
   ]
  },
  {
   "cell_type": "code",
   "execution_count": 332,
   "id": "d706ef48",
   "metadata": {},
   "outputs": [
    {
     "name": "stdout",
     "output_type": "stream",
     "text": [
      "9\n",
      "25\n"
     ]
    }
   ],
   "source": [
    "#10. FUNCION LAMBDA:\n",
    "\n",
    "# Función Lambda para calcular \n",
    "square = lambda x: x ** 2\n",
    "\n",
    "print(square(3)) # = 9\n",
    "\n",
    "# Funcion tradicional \n",
    "def square1(num):\n",
    "  return num ** 2\n",
    "\n",
    "print(square1(5)) # Resultado: 25"
   ]
  },
  {
   "cell_type": "code",
   "execution_count": 336,
   "id": "b0349768",
   "metadata": {},
   "outputs": [
    {
     "data": {
      "text/plain": [
       "[0,\n",
       " 1,\n",
       " 4,\n",
       " 9,\n",
       " 16,\n",
       " 25,\n",
       " 36,\n",
       " 49,\n",
       " 64,\n",
       " 81,\n",
       " 100,\n",
       " 121,\n",
       " 144,\n",
       " 169,\n",
       " 196,\n",
       " 225,\n",
       " 256,\n",
       " 289,\n",
       " 324,\n",
       " 361,\n",
       " 400,\n",
       " 441,\n",
       " 484,\n",
       " 529,\n",
       " 576,\n",
       " 625,\n",
       " 676,\n",
       " 729,\n",
       " 784,\n",
       " 841,\n",
       " 900,\n",
       " 961,\n",
       " 1024,\n",
       " 1089,\n",
       " 1156,\n",
       " 1225,\n",
       " 1296,\n",
       " 1369,\n",
       " 1444,\n",
       " 1521,\n",
       " 1600,\n",
       " 1681,\n",
       " 1764,\n",
       " 1849,\n",
       " 1936,\n",
       " 2025,\n",
       " 2116,\n",
       " 2209,\n",
       " 2304,\n",
       " 2401,\n",
       " 2500,\n",
       " 2601,\n",
       " 2704,\n",
       " 2809,\n",
       " 2916,\n",
       " 3025,\n",
       " 3136,\n",
       " 3249,\n",
       " 3364,\n",
       " 3481,\n",
       " 3600,\n",
       " 3721,\n",
       " 3844,\n",
       " 3969,\n",
       " 4096,\n",
       " 4225,\n",
       " 4356,\n",
       " 4489,\n",
       " 4624,\n",
       " 4761,\n",
       " 4900,\n",
       " 5041,\n",
       " 5184,\n",
       " 5329,\n",
       " 5476,\n",
       " 5625,\n",
       " 5776,\n",
       " 5929,\n",
       " 6084,\n",
       " 6241,\n",
       " 6400,\n",
       " 6561,\n",
       " 6724,\n",
       " 6889,\n",
       " 7056,\n",
       " 7225,\n",
       " 7396,\n",
       " 7569,\n",
       " 7744,\n",
       " 7921,\n",
       " 8100,\n",
       " 8281,\n",
       " 8464,\n",
       " 8649,\n",
       " 8836,\n",
       " 9025,\n",
       " 9216,\n",
       " 9409,\n",
       " 9604,\n",
       " 9801]"
      ]
     },
     "execution_count": 336,
     "metadata": {},
     "output_type": "execute_result"
    }
   ],
   "source": [
    "vector = list(np.arange(100))    #lista de 100 valores \n",
    "\n",
    "vector = np.arange(100)          #lista de 100 valores \n",
    "\n",
    "list( map( lambda x: x**2 , vector)   )         #map (funcion, lista de valores a los que se le aplicará la funcion)\n",
    "     # a la lista de 100 valores se le aplicará la funcion x^2 ==> se crea lista de resultados"
   ]
  },
  {
   "cell_type": "markdown",
   "id": "7ebad99b",
   "metadata": {},
   "source": [
    "## PANDAS"
   ]
  },
  {
   "cell_type": "code",
   "execution_count": 338,
   "id": "99ccb743",
   "metadata": {},
   "outputs": [
    {
     "data": {
      "text/plain": [
       "{'v1': array([0.76209784, 0.01061185, 0.20752948, ..., 0.92438914, 0.18468508,\n",
       "        0.45949253]),\n",
       " 'v2': array([    0,     1,     2, ..., 49997, 49998, 49999]),\n",
       " 'v3': array([8.58780432e-01, 8.32697070e-01, 2.94629096e-01, ...,\n",
       "        7.19265767e-01, 8.08480051e-04, 1.84536067e-01])}"
      ]
     },
     "execution_count": 338,
     "metadata": {},
     "output_type": "execute_result"
    }
   ],
   "source": [
    "import pandas as pd \n",
    "\n",
    "##1. CREAR DICCIONARIO\n",
    "\n",
    "# list of name, degree, score\n",
    "\n",
    "var1 = np.random.rand(50000)\n",
    "var2 = np.arange(0,50000)      #numeros ordenados DE 0 A 50000-1=49999\n",
    "var3 =  np.random.rand(50000)\n",
    "  \n",
    "# dictionary of lists \n",
    "dict = {'v1': var1, 'v2': var2, 'v3': var3} \n",
    "dict"
   ]
  },
  {
   "cell_type": "code",
   "execution_count": 344,
   "id": "156da20f",
   "metadata": {},
   "outputs": [
    {
     "data": {
      "text/html": [
       "<div>\n",
       "<style scoped>\n",
       "    .dataframe tbody tr th:only-of-type {\n",
       "        vertical-align: middle;\n",
       "    }\n",
       "\n",
       "    .dataframe tbody tr th {\n",
       "        vertical-align: top;\n",
       "    }\n",
       "\n",
       "    .dataframe thead th {\n",
       "        text-align: right;\n",
       "    }\n",
       "</style>\n",
       "<table border=\"1\" class=\"dataframe\">\n",
       "  <thead>\n",
       "    <tr style=\"text-align: right;\">\n",
       "      <th></th>\n",
       "      <th>v1</th>\n",
       "      <th>v2</th>\n",
       "      <th>v3</th>\n",
       "    </tr>\n",
       "  </thead>\n",
       "  <tbody>\n",
       "    <tr>\n",
       "      <th>0</th>\n",
       "      <td>0.762098</td>\n",
       "      <td>0</td>\n",
       "      <td>0.858780</td>\n",
       "    </tr>\n",
       "    <tr>\n",
       "      <th>1</th>\n",
       "      <td>0.010612</td>\n",
       "      <td>1</td>\n",
       "      <td>0.832697</td>\n",
       "    </tr>\n",
       "    <tr>\n",
       "      <th>2</th>\n",
       "      <td>0.207529</td>\n",
       "      <td>2</td>\n",
       "      <td>0.294629</td>\n",
       "    </tr>\n",
       "    <tr>\n",
       "      <th>3</th>\n",
       "      <td>0.789049</td>\n",
       "      <td>3</td>\n",
       "      <td>0.661005</td>\n",
       "    </tr>\n",
       "    <tr>\n",
       "      <th>4</th>\n",
       "      <td>0.707556</td>\n",
       "      <td>4</td>\n",
       "      <td>0.134282</td>\n",
       "    </tr>\n",
       "    <tr>\n",
       "      <th>...</th>\n",
       "      <td>...</td>\n",
       "      <td>...</td>\n",
       "      <td>...</td>\n",
       "    </tr>\n",
       "    <tr>\n",
       "      <th>49995</th>\n",
       "      <td>0.584889</td>\n",
       "      <td>49995</td>\n",
       "      <td>0.751622</td>\n",
       "    </tr>\n",
       "    <tr>\n",
       "      <th>49996</th>\n",
       "      <td>0.369572</td>\n",
       "      <td>49996</td>\n",
       "      <td>0.177458</td>\n",
       "    </tr>\n",
       "    <tr>\n",
       "      <th>49997</th>\n",
       "      <td>0.924389</td>\n",
       "      <td>49997</td>\n",
       "      <td>0.719266</td>\n",
       "    </tr>\n",
       "    <tr>\n",
       "      <th>49998</th>\n",
       "      <td>0.184685</td>\n",
       "      <td>49998</td>\n",
       "      <td>0.000808</td>\n",
       "    </tr>\n",
       "    <tr>\n",
       "      <th>49999</th>\n",
       "      <td>0.459493</td>\n",
       "      <td>49999</td>\n",
       "      <td>0.184536</td>\n",
       "    </tr>\n",
       "  </tbody>\n",
       "</table>\n",
       "<p>50000 rows × 3 columns</p>\n",
       "</div>"
      ],
      "text/plain": [
       "             v1     v2        v3\n",
       "0      0.762098      0  0.858780\n",
       "1      0.010612      1  0.832697\n",
       "2      0.207529      2  0.294629\n",
       "3      0.789049      3  0.661005\n",
       "4      0.707556      4  0.134282\n",
       "...         ...    ...       ...\n",
       "49995  0.584889  49995  0.751622\n",
       "49996  0.369572  49996  0.177458\n",
       "49997  0.924389  49997  0.719266\n",
       "49998  0.184685  49998  0.000808\n",
       "49999  0.459493  49999  0.184536\n",
       "\n",
       "[50000 rows x 3 columns]"
      ]
     },
     "execution_count": 344,
     "metadata": {},
     "output_type": "execute_result"
    }
   ],
   "source": [
    "#2. CONVERTIRLO EN HOJA DE CALCULO\n",
    "\n",
    "df = pd.DataFrame(dict)\n",
    "df"
   ]
  },
  {
   "cell_type": "code",
   "execution_count": 357,
   "id": "437f2b02",
   "metadata": {},
   "outputs": [
    {
     "name": "stdout",
     "output_type": "stream",
     "text": [
      "[[1 2 3]\n",
      " [4 5 6]]\n",
      "[5 7 9]\n",
      "[ 6 15]\n"
     ]
    }
   ],
   "source": [
    "# df.apply(np.sum, axis = 0)  # columna por columna \n",
    "# df.apply(np.sum, axis = 1)  # fila por fila\n",
    "\n",
    "M = np.array( [ [1, 2, 3], [4, 5, 6] ] )\n",
    "print(M)\n",
    "print(np.sum(M, axis=0))   # suma de columnas |\n",
    "print(np.sum(M, axis=1))   # suma de filas __\n"
   ]
  },
  {
   "cell_type": "code",
   "execution_count": null,
   "id": "6c72c7a2",
   "metadata": {},
   "outputs": [],
   "source": [
    "# Agregar una COlumna\n",
    "df['nueva_var'] = df['v2'].apply(lambda x : x**99)\n",
    "df.head()"
   ]
  },
  {
   "cell_type": "code",
   "execution_count": null,
   "id": "d7d3374a",
   "metadata": {},
   "outputs": [
    {
     "name": "stdout",
     "output_type": "stream",
     "text": [
      "Collecting swifter\n",
      "  Downloading swifter-1.3.4.tar.gz (830 kB)\n",
      "Requirement already satisfied: pandas>=1.0.0 in c:\\users\\acwe\\anaconda3\\lib\\site-packages (from swifter) (1.4.2)\n",
      "Requirement already satisfied: psutil>=5.6.6 in c:\\users\\acwe\\anaconda3\\lib\\site-packages (from swifter) (5.8.0)\n",
      "Requirement already satisfied: dask[dataframe]>=2.10.0 in c:\\users\\acwe\\anaconda3\\lib\\site-packages (from swifter) (2022.2.1)\n",
      "Requirement already satisfied: tqdm>=4.33.0 in c:\\users\\acwe\\anaconda3\\lib\\site-packages (from swifter) (4.64.0)\n",
      "Requirement already satisfied: ipywidgets>=7.0.0 in c:\\users\\acwe\\anaconda3\\lib\\site-packages (from swifter) (7.6.5)\n",
      "Requirement already satisfied: cloudpickle>=0.2.2 in c:\\users\\acwe\\anaconda3\\lib\\site-packages (from swifter) (2.0.0)\n",
      "Requirement already satisfied: parso>0.4.0 in c:\\users\\acwe\\anaconda3\\lib\\site-packages (from swifter) (0.8.3)\n",
      "Requirement already satisfied: bleach>=3.1.1 in c:\\users\\acwe\\anaconda3\\lib\\site-packages (from swifter) (4.1.0)\n",
      "Requirement already satisfied: packaging in c:\\users\\acwe\\anaconda3\\lib\\site-packages (from bleach>=3.1.1->swifter) (21.3)\n",
      "Requirement already satisfied: six>=1.9.0 in c:\\users\\acwe\\anaconda3\\lib\\site-packages (from bleach>=3.1.1->swifter) (1.16.0)\n",
      "Requirement already satisfied: webencodings in c:\\users\\acwe\\anaconda3\\lib\\site-packages (from bleach>=3.1.1->swifter) (0.5.1)\n",
      "Requirement already satisfied: partd>=0.3.10 in c:\\users\\acwe\\anaconda3\\lib\\site-packages (from dask[dataframe]>=2.10.0->swifter) (1.2.0)\n",
      "Requirement already satisfied: toolz>=0.8.2 in c:\\users\\acwe\\anaconda3\\lib\\site-packages (from dask[dataframe]>=2.10.0->swifter) (0.11.2)\n",
      "Requirement already satisfied: fsspec>=0.6.0 in c:\\users\\acwe\\anaconda3\\lib\\site-packages (from dask[dataframe]>=2.10.0->swifter) (2022.2.0)\n",
      "Requirement already satisfied: pyyaml>=5.3.1 in c:\\users\\acwe\\anaconda3\\lib\\site-packages (from dask[dataframe]>=2.10.0->swifter) (6.0)\n",
      "Requirement already satisfied: numpy>=1.18 in c:\\users\\acwe\\anaconda3\\lib\\site-packages (from dask[dataframe]>=2.10.0->swifter) (1.21.5)\n",
      "Requirement already satisfied: ipykernel>=4.5.1 in c:\\users\\acwe\\anaconda3\\lib\\site-packages (from ipywidgets>=7.0.0->swifter) (6.9.1)\n",
      "Requirement already satisfied: ipython-genutils~=0.2.0 in c:\\users\\acwe\\anaconda3\\lib\\site-packages (from ipywidgets>=7.0.0->swifter) (0.2.0)\n",
      "Requirement already satisfied: jupyterlab-widgets>=1.0.0 in c:\\users\\acwe\\anaconda3\\lib\\site-packages (from ipywidgets>=7.0.0->swifter) (1.0.0)\n",
      "Requirement already satisfied: nbformat>=4.2.0 in c:\\users\\acwe\\anaconda3\\lib\\site-packages (from ipywidgets>=7.0.0->swifter) (5.3.0)\n",
      "Requirement already satisfied: ipython>=4.0.0 in c:\\users\\acwe\\anaconda3\\lib\\site-packages (from ipywidgets>=7.0.0->swifter) (8.2.0)\n",
      "Requirement already satisfied: traitlets>=4.3.1 in c:\\users\\acwe\\anaconda3\\lib\\site-packages (from ipywidgets>=7.0.0->swifter) (5.1.1)\n",
      "Requirement already satisfied: widgetsnbextension~=3.5.0 in c:\\users\\acwe\\anaconda3\\lib\\site-packages (from ipywidgets>=7.0.0->swifter) (3.5.2)\n",
      "Requirement already satisfied: matplotlib-inline<0.2.0,>=0.1.0 in c:\\users\\acwe\\anaconda3\\lib\\site-packages (from ipykernel>=4.5.1->ipywidgets>=7.0.0->swifter) (0.1.2)\n",
      "Requirement already satisfied: jupyter-client<8.0 in c:\\users\\acwe\\anaconda3\\lib\\site-packages (from ipykernel>=4.5.1->ipywidgets>=7.0.0->swifter) (6.1.12)\n",
      "Requirement already satisfied: debugpy<2.0,>=1.0.0 in c:\\users\\acwe\\anaconda3\\lib\\site-packages (from ipykernel>=4.5.1->ipywidgets>=7.0.0->swifter) (1.5.1)\n",
      "Requirement already satisfied: tornado<7.0,>=4.2 in c:\\users\\acwe\\anaconda3\\lib\\site-packages (from ipykernel>=4.5.1->ipywidgets>=7.0.0->swifter) (6.1)\n",
      "Requirement already satisfied: nest-asyncio in c:\\users\\acwe\\anaconda3\\lib\\site-packages (from ipykernel>=4.5.1->ipywidgets>=7.0.0->swifter) (1.5.5)\n",
      "Requirement already satisfied: backcall in c:\\users\\acwe\\anaconda3\\lib\\site-packages (from ipython>=4.0.0->ipywidgets>=7.0.0->swifter) (0.2.0)\n",
      "Requirement already satisfied: setuptools>=18.5 in c:\\users\\acwe\\anaconda3\\lib\\site-packages (from ipython>=4.0.0->ipywidgets>=7.0.0->swifter) (61.2.0)\n",
      "Requirement already satisfied: pygments>=2.4.0 in c:\\users\\acwe\\anaconda3\\lib\\site-packages (from ipython>=4.0.0->ipywidgets>=7.0.0->swifter) (2.11.2)\n",
      "Requirement already satisfied: stack-data in c:\\users\\acwe\\anaconda3\\lib\\site-packages (from ipython>=4.0.0->ipywidgets>=7.0.0->swifter) (0.2.0)\n",
      "Requirement already satisfied: decorator in c:\\users\\acwe\\anaconda3\\lib\\site-packages (from ipython>=4.0.0->ipywidgets>=7.0.0->swifter) (5.1.1)\n",
      "Requirement already satisfied: jedi>=0.16 in c:\\users\\acwe\\anaconda3\\lib\\site-packages (from ipython>=4.0.0->ipywidgets>=7.0.0->swifter) (0.18.1)\n",
      "Requirement already satisfied: pickleshare in c:\\users\\acwe\\anaconda3\\lib\\site-packages (from ipython>=4.0.0->ipywidgets>=7.0.0->swifter) (0.7.5)\n",
      "Requirement already satisfied: colorama in c:\\users\\acwe\\anaconda3\\lib\\site-packages (from ipython>=4.0.0->ipywidgets>=7.0.0->swifter) (0.4.4)\n",
      "Requirement already satisfied: prompt-toolkit!=3.0.0,!=3.0.1,<3.1.0,>=2.0.0 in c:\\users\\acwe\\anaconda3\\lib\\site-packages (from ipython>=4.0.0->ipywidgets>=7.0.0->swifter) (3.0.20)\n",
      "Requirement already satisfied: pyzmq>=13 in c:\\users\\acwe\\anaconda3\\lib\\site-packages (from jupyter-client<8.0->ipykernel>=4.5.1->ipywidgets>=7.0.0->swifter) (22.3.0)\n",
      "Requirement already satisfied: jupyter-core>=4.6.0 in c:\\users\\acwe\\anaconda3\\lib\\site-packages (from jupyter-client<8.0->ipykernel>=4.5.1->ipywidgets>=7.0.0->swifter) (4.9.2)\n",
      "Requirement already satisfied: python-dateutil>=2.1 in c:\\users\\acwe\\anaconda3\\lib\\site-packages (from jupyter-client<8.0->ipykernel>=4.5.1->ipywidgets>=7.0.0->swifter) (2.8.2)\n",
      "Requirement already satisfied: pywin32>=1.0 in c:\\users\\acwe\\anaconda3\\lib\\site-packages (from jupyter-core>=4.6.0->jupyter-client<8.0->ipykernel>=4.5.1->ipywidgets>=7.0.0->swifter) (302)\n",
      "Requirement already satisfied: jsonschema>=2.6 in c:\\users\\acwe\\anaconda3\\lib\\site-packages (from nbformat>=4.2.0->ipywidgets>=7.0.0->swifter) (4.4.0)\n",
      "Requirement already satisfied: fastjsonschema in c:\\users\\acwe\\anaconda3\\lib\\site-packages (from nbformat>=4.2.0->ipywidgets>=7.0.0->swifter) (2.15.1)\n",
      "Requirement already satisfied: pyrsistent!=0.17.0,!=0.17.1,!=0.17.2,>=0.14.0 in c:\\users\\acwe\\anaconda3\\lib\\site-packages (from jsonschema>=2.6->nbformat>=4.2.0->ipywidgets>=7.0.0->swifter) (0.18.0)\n",
      "Requirement already satisfied: attrs>=17.4.0 in c:\\users\\acwe\\anaconda3\\lib\\site-packages (from jsonschema>=2.6->nbformat>=4.2.0->ipywidgets>=7.0.0->swifter) (21.4.0)\n",
      "Requirement already satisfied: pyparsing!=3.0.5,>=2.0.2 in c:\\users\\acwe\\anaconda3\\lib\\site-packages (from packaging->bleach>=3.1.1->swifter) (3.0.4)\n",
      "Requirement already satisfied: pytz>=2020.1 in c:\\users\\acwe\\anaconda3\\lib\\site-packages (from pandas>=1.0.0->swifter) (2021.3)\n",
      "Requirement already satisfied: locket in c:\\users\\acwe\\anaconda3\\lib\\site-packages (from partd>=0.3.10->dask[dataframe]>=2.10.0->swifter) (0.2.1)\n",
      "Requirement already satisfied: wcwidth in c:\\users\\acwe\\anaconda3\\lib\\site-packages (from prompt-toolkit!=3.0.0,!=3.0.1,<3.1.0,>=2.0.0->ipython>=4.0.0->ipywidgets>=7.0.0->swifter) (0.2.5)\n",
      "Requirement already satisfied: notebook>=4.4.1 in c:\\users\\acwe\\anaconda3\\lib\\site-packages (from widgetsnbextension~=3.5.0->ipywidgets>=7.0.0->swifter) (6.4.8)\n",
      "Requirement already satisfied: terminado>=0.8.3 in c:\\users\\acwe\\anaconda3\\lib\\site-packages (from notebook>=4.4.1->widgetsnbextension~=3.5.0->ipywidgets>=7.0.0->swifter) (0.13.1)\n",
      "Requirement already satisfied: prometheus-client in c:\\users\\acwe\\anaconda3\\lib\\site-packages (from notebook>=4.4.1->widgetsnbextension~=3.5.0->ipywidgets>=7.0.0->swifter) (0.13.1)\n",
      "Requirement already satisfied: nbconvert in c:\\users\\acwe\\anaconda3\\lib\\site-packages (from notebook>=4.4.1->widgetsnbextension~=3.5.0->ipywidgets>=7.0.0->swifter) (6.4.4)\n",
      "Requirement already satisfied: Send2Trash>=1.8.0 in c:\\users\\acwe\\anaconda3\\lib\\site-packages (from notebook>=4.4.1->widgetsnbextension~=3.5.0->ipywidgets>=7.0.0->swifter) (1.8.0)\n",
      "Requirement already satisfied: jinja2 in c:\\users\\acwe\\anaconda3\\lib\\site-packages (from notebook>=4.4.1->widgetsnbextension~=3.5.0->ipywidgets>=7.0.0->swifter) (2.11.3)\n",
      "Requirement already satisfied: argon2-cffi in c:\\users\\acwe\\anaconda3\\lib\\site-packages (from notebook>=4.4.1->widgetsnbextension~=3.5.0->ipywidgets>=7.0.0->swifter) (21.3.0)\n",
      "Requirement already satisfied: pywinpty>=1.1.0 in c:\\users\\acwe\\anaconda3\\lib\\site-packages (from terminado>=0.8.3->notebook>=4.4.1->widgetsnbextension~=3.5.0->ipywidgets>=7.0.0->swifter) (2.0.2)\n",
      "Requirement already satisfied: argon2-cffi-bindings in c:\\users\\acwe\\anaconda3\\lib\\site-packages (from argon2-cffi->notebook>=4.4.1->widgetsnbextension~=3.5.0->ipywidgets>=7.0.0->swifter) (21.2.0)\n",
      "Requirement already satisfied: cffi>=1.0.1 in c:\\users\\acwe\\anaconda3\\lib\\site-packages (from argon2-cffi-bindings->argon2-cffi->notebook>=4.4.1->widgetsnbextension~=3.5.0->ipywidgets>=7.0.0->swifter) (1.15.0)\n",
      "Requirement already satisfied: pycparser in c:\\users\\acwe\\anaconda3\\lib\\site-packages (from cffi>=1.0.1->argon2-cffi-bindings->argon2-cffi->notebook>=4.4.1->widgetsnbextension~=3.5.0->ipywidgets>=7.0.0->swifter) (2.21)\n",
      "Requirement already satisfied: MarkupSafe>=0.23 in c:\\users\\acwe\\anaconda3\\lib\\site-packages (from jinja2->notebook>=4.4.1->widgetsnbextension~=3.5.0->ipywidgets>=7.0.0->swifter) (2.0.1)\n",
      "Requirement already satisfied: entrypoints>=0.2.2 in c:\\users\\acwe\\anaconda3\\lib\\site-packages (from nbconvert->notebook>=4.4.1->widgetsnbextension~=3.5.0->ipywidgets>=7.0.0->swifter) (0.4)\n",
      "Requirement already satisfied: mistune<2,>=0.8.1 in c:\\users\\acwe\\anaconda3\\lib\\site-packages (from nbconvert->notebook>=4.4.1->widgetsnbextension~=3.5.0->ipywidgets>=7.0.0->swifter) (0.8.4)\n",
      "Requirement already satisfied: pandocfilters>=1.4.1 in c:\\users\\acwe\\anaconda3\\lib\\site-packages (from nbconvert->notebook>=4.4.1->widgetsnbextension~=3.5.0->ipywidgets>=7.0.0->swifter) (1.5.0)\n",
      "Requirement already satisfied: defusedxml in c:\\users\\acwe\\anaconda3\\lib\\site-packages (from nbconvert->notebook>=4.4.1->widgetsnbextension~=3.5.0->ipywidgets>=7.0.0->swifter) (0.7.1)\n",
      "Requirement already satisfied: beautifulsoup4 in c:\\users\\acwe\\anaconda3\\lib\\site-packages (from nbconvert->notebook>=4.4.1->widgetsnbextension~=3.5.0->ipywidgets>=7.0.0->swifter) (4.11.1)\n",
      "Requirement already satisfied: jupyterlab-pygments in c:\\users\\acwe\\anaconda3\\lib\\site-packages (from nbconvert->notebook>=4.4.1->widgetsnbextension~=3.5.0->ipywidgets>=7.0.0->swifter) (0.1.2)\n",
      "Requirement already satisfied: nbclient<0.6.0,>=0.5.0 in c:\\users\\acwe\\anaconda3\\lib\\site-packages (from nbconvert->notebook>=4.4.1->widgetsnbextension~=3.5.0->ipywidgets>=7.0.0->swifter) (0.5.13)\n",
      "Requirement already satisfied: testpath in c:\\users\\acwe\\anaconda3\\lib\\site-packages (from nbconvert->notebook>=4.4.1->widgetsnbextension~=3.5.0->ipywidgets>=7.0.0->swifter) (0.5.0)\n",
      "Requirement already satisfied: soupsieve>1.2 in c:\\users\\acwe\\anaconda3\\lib\\site-packages (from beautifulsoup4->nbconvert->notebook>=4.4.1->widgetsnbextension~=3.5.0->ipywidgets>=7.0.0->swifter) (2.3.1)\n",
      "Requirement already satisfied: executing in c:\\users\\acwe\\anaconda3\\lib\\site-packages (from stack-data->ipython>=4.0.0->ipywidgets>=7.0.0->swifter) (0.8.3)\n",
      "Requirement already satisfied: pure-eval in c:\\users\\acwe\\anaconda3\\lib\\site-packages (from stack-data->ipython>=4.0.0->ipywidgets>=7.0.0->swifter) (0.2.2)\n",
      "Requirement already satisfied: asttokens in c:\\users\\acwe\\anaconda3\\lib\\site-packages (from stack-data->ipython>=4.0.0->ipywidgets>=7.0.0->swifter) (2.0.5)\n",
      "Building wheels for collected packages: swifter\n",
      "  Building wheel for swifter (setup.py): started\n",
      "  Building wheel for swifter (setup.py): finished with status 'done'\n",
      "  Created wheel for swifter: filename=swifter-1.3.4-py3-none-any.whl size=16321 sha256=b73d56d50a8a5805b5125259187509e68a42a59ce603ffbddfcb23af0a5f9c5b\n",
      "  Stored in directory: c:\\users\\acwe\\appdata\\local\\pip\\cache\\wheels\\2b\\5e\\f2\\3931524f702ffd03309e96d35ee2fbf9c61c27377511ee8d4c\n",
      "Successfully built swifter\n",
      "Installing collected packages: swifter\n",
      "Successfully installed swifter-1.3.4\n"
     ]
    }
   ],
   "source": [
    "!pip install swifter\n",
    "\n",
    "import swifter\n",
    "\n",
    "df['nueva_var'] = df['v2'].swifter.apply(lambda x : x**99) # parallel procesing \n",
    "df"
   ]
  },
  {
   "cell_type": "markdown",
   "id": "6d183645",
   "metadata": {},
   "source": [
    "###  <a id='#2.0.'> 2.0 OLS method </a> "
   ]
  },
  {
   "cell_type": "code",
   "execution_count": null,
   "id": "0ca42fa0",
   "metadata": {},
   "outputs": [],
   "source": [
    "from scipy.stats import t # t - student \n",
    "\n",
    "random.seed(175)\n",
    "\n",
    "x1 = np.random.rand(500) # uniform distribution  [0,1]\n",
    "x2 = np.random.rand(500) # uniform distribution [0,1]\n",
    "x3 = np.random.rand(500) # uniform distribution [0,1]\n",
    "x4 = np.random.rand(500) # uniform distribution [0,1]\n",
    "e = np.random.normal(0,1,500) # normal distribution mean = 0 and sd = 1\n",
    "z = np.random.rand(500)\n",
    "\n",
    "# Poblacional regression (Data Generating Process GDP)\n",
    "\n",
    "Y = 1 + 0.8*x1 + 1.2*x2 + 0.5*x3 + 1.5*x4 + e\n",
    "\n",
    "X = np.column_stack((np.ones(500),x1,x2,x3,x4))"
   ]
  },
  {
   "cell_type": "code",
   "execution_count": 307,
   "id": "c66f440b",
   "metadata": {},
   "outputs": [
    {
     "data": {
      "text/html": [
       "<div>\n",
       "<style scoped>\n",
       "    .dataframe tbody tr th:only-of-type {\n",
       "        vertical-align: middle;\n",
       "    }\n",
       "\n",
       "    .dataframe tbody tr th {\n",
       "        vertical-align: top;\n",
       "    }\n",
       "\n",
       "    .dataframe thead th {\n",
       "        text-align: right;\n",
       "    }\n",
       "</style>\n",
       "<table border=\"1\" class=\"dataframe\">\n",
       "  <thead>\n",
       "    <tr style=\"text-align: right;\">\n",
       "      <th></th>\n",
       "      <th>OLS</th>\n",
       "      <th>OLS_IV</th>\n",
       "    </tr>\n",
       "  </thead>\n",
       "  <tbody>\n",
       "    <tr>\n",
       "      <th>0</th>\n",
       "      <td>0.865902</td>\n",
       "      <td>0.456812</td>\n",
       "    </tr>\n",
       "    <tr>\n",
       "      <th>1</th>\n",
       "      <td>0.908194</td>\n",
       "      <td>1.199205</td>\n",
       "    </tr>\n",
       "    <tr>\n",
       "      <th>2</th>\n",
       "      <td>1.223719</td>\n",
       "      <td>1.523232</td>\n",
       "    </tr>\n",
       "    <tr>\n",
       "      <th>3</th>\n",
       "      <td>0.561198</td>\n",
       "      <td>0.887494</td>\n",
       "    </tr>\n",
       "    <tr>\n",
       "      <th>4</th>\n",
       "      <td>1.738741</td>\n",
       "      <td>2.020196</td>\n",
       "    </tr>\n",
       "  </tbody>\n",
       "</table>\n",
       "</div>"
      ],
      "text/plain": [
       "        OLS    OLS_IV\n",
       "0  0.865902  0.456812\n",
       "1  0.908194  1.199205\n",
       "2  1.223719  1.523232\n",
       "3  0.561198  0.887494\n",
       "4  1.738741  2.020196"
      ]
     },
     "execution_count": 307,
     "metadata": {},
     "output_type": "execute_result"
    }
   ],
   "source": [
    "def ols(M,Y, standar = True, Pvalue = True , instrumento = None, index = None):\n",
    "\n",
    "    if standar and Pvalue and (instrumento is None)  and (index is None) :     #2. si se cumple todo, mostrar\n",
    "        \n",
    "        beta = np.linalg.inv(X.T @ X) @ ((X.T) @ Y )                             #2.a. estimar beta\n",
    "        \n",
    "        y_est =  X @ beta                                                        #2.b. Y estimado \n",
    "        n = X.shape[0]                                                           #2.c. numero de observaciones\n",
    "        k = X.shape[1] - 1                                                       #2.d. numeros de x - unos\n",
    "        nk = n - k                                                               #2.e. grados de libertad\n",
    "        \n",
    "        \n",
    "        #falta ver el lambda***********************\n",
    "        sigma =  sum(list( map( lambda x: x**2 , Y - y_est)   )) / nk \n",
    "        Var = sigma*np.linalg.inv(X.T @ X)\n",
    "        sd = np.sqrt( np.diag(Var) )  ## raíz cuadrado a los datos de la diagonal principal de Var\n",
    "        t_est = np.absolute(beta/sd)\n",
    "        pvalue = (1 - t.cdf(t_est, df=nk) ) * 2\n",
    "        df = pd.DataFrame( {\"OLS\": beta , \"standar_error\" : sd ,\n",
    "                                 \"Pvalue\" : pvalue})    \n",
    "\n",
    "    \n",
    "    elif (not instrumento is None) and (not index is None) :\n",
    "        \n",
    "        beta = np.linalg.inv(X.T @ X) @ ((X.T) @ Y )\n",
    "        \n",
    "        index = index  - 1 \n",
    "        Z = X\n",
    "        Z[:,index] = z ## reemplazamos la variable endógena por el instrumento en la matrix de covariables\n",
    "        beta_x = np.linalg.inv(Z.T @ Z) @ ((Z.T) @ X[:,index] ) \n",
    "        x_est  = Z @ beta_x\n",
    "        X[:,index] = x_est ## se reemplaza la variable x endógena por su estimado \n",
    "        beta_iv = np.linalg.inv(X.T @ X) @ ((X.T) @ Y )\n",
    "        df = pd.DataFrame( {\"OLS\": beta , \"OLS_IV\" : beta_iv})  \n",
    "\n",
    "    return df\n",
    "\n",
    "\n",
    "\n",
    "ols(X,Y)\n",
    "\n",
    "ols(X,Y,instrumento = z, index = 1)\n"
   ]
  },
  {
   "cell_type": "code",
   "execution_count": null,
   "id": "2fe8a728",
   "metadata": {},
   "outputs": [],
   "source": []
  }
 ],
 "metadata": {
  "kernelspec": {
   "display_name": "Python 3 (ipykernel)",
   "language": "python",
   "name": "python3"
  },
  "language_info": {
   "codemirror_mode": {
    "name": "ipython",
    "version": 3
   },
   "file_extension": ".py",
   "mimetype": "text/x-python",
   "name": "python",
   "nbconvert_exporter": "python",
   "pygments_lexer": "ipython3",
   "version": "3.9.12"
  }
 },
 "nbformat": 4,
 "nbformat_minor": 5
}
