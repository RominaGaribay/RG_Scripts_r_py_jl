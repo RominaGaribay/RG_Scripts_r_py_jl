{
 "cells": [
  {
   "cell_type": "markdown",
   "metadata": {},
   "source": [
    "# Laboratorio 1 Python\n",
    "\n",
    "## <a id='1.0'> 1.0 Types of variables  </a> \n"
   ]
  },
  {
   "cell_type": "code",
   "execution_count": null,
   "metadata": {},
   "outputs": [],
   "source": [
    "#En el espacio de cuadro: no dentro del código\n",
    "\n",
    "# Crtl + Enter  correr\n",
    "# B             añadir linea de codigo\n",
    "# DD            borrar linea de codigo\n",
    "# Z             recuperar\n",
    "\n",
    "# (seleccionar):\n",
    "# Crtl +  /                pasar de código a comentario (vicev)\n",
    "# Shift + M                unir celdas de codigo\n",
    "# Crtl  + Shift + -        dividir celdas de codigo\n",
    "#  Shift + tecla ↑↓        seleccionar varias líneas de codigo  "
   ]
  },
  {
   "cell_type": "code",
   "execution_count": 4,
   "metadata": {},
   "outputs": [
    {
     "data": {
      "text/plain": [
       "float"
      ]
     },
     "execution_count": 4,
     "metadata": {},
     "output_type": "execute_result"
    }
   ],
   "source": [
    "a1 = 3.141\n",
    "type(a1)\n",
    "\n",
    "# from float to int \n",
    "\n",
    "c = int(a1)\n",
    "\n",
    "type(c)\n",
    "\n",
    "b1 = 10000\n",
    "type(b1)"
   ]
  },
  {
   "cell_type": "code",
   "execution_count": 7,
   "metadata": {},
   "outputs": [
    {
     "data": {
      "text/plain": [
       "10000.0"
      ]
     },
     "execution_count": 7,
     "metadata": {},
     "output_type": "execute_result"
    }
   ],
   "source": [
    "# from int to float \n",
    "\n",
    "float(b1)  #para que tenga decimal"
   ]
  },
  {
   "cell_type": "code",
   "execution_count": 10,
   "metadata": {},
   "outputs": [
    {
     "data": {
      "text/plain": [
       "int"
      ]
     },
     "execution_count": 10,
     "metadata": {},
     "output_type": "execute_result"
    }
   ],
   "source": [
    "b2 = 8\n",
    "type(b2)"
   ]
  },
  {
   "cell_type": "markdown",
   "metadata": {},
   "source": [
    "Variables tipos string: "
   ]
  },
  {
   "cell_type": "code",
   "execution_count": 8,
   "metadata": {},
   "outputs": [
    {
     "name": "stdout",
     "output_type": "stream",
     "text": [
      "My first python code\n"
     ]
    },
    {
     "data": {
      "text/plain": [
       "str"
      ]
     },
     "execution_count": 8,
     "metadata": {},
     "output_type": "execute_result"
    }
   ],
   "source": [
    "\n",
    "\n",
    "c1 = 'My first python code'  # \"My first python code\" usando doble comilla\n",
    "print(c1)  # show that varaible's content OBSERVAR \n",
    "type(c1) # providing varaibles's type "
   ]
  },
  {
   "cell_type": "code",
   "execution_count": 9,
   "metadata": {},
   "outputs": [
    {
     "name": "stdout",
     "output_type": "stream",
     "text": [
      "First python code \n",
      " at R y python Class\n"
     ]
    }
   ],
   "source": [
    "# including a space using \\n\n",
    "\n",
    "c1 = \"First python code\"\n",
    "c2 = \"at R y python Class\"\n",
    "print(c1,'\\n',c2)   # \\n es para ser abajo"
   ]
  },
  {
   "cell_type": "code",
   "execution_count": 20,
   "metadata": {},
   "outputs": [
    {
     "name": "stdout",
     "output_type": "stream",
     "text": [
      "First python code : at R y python Class\n"
     ]
    }
   ],
   "source": [
    "# join string \n",
    "\n",
    "print(c1 + \" : \" + c2)"
   ]
  },
  {
   "cell_type": "code",
   "execution_count": 25,
   "metadata": {},
   "outputs": [
    {
     "name": "stdout",
     "output_type": "stream",
     "text": [
      "First python code : semester 2022-1\n"
     ]
    }
   ],
   "source": [
    "# f-string\n",
    "    # crear un string llamando a un string\n",
    "    # f'{es una variable string c1} ==> no hay coma\n",
    "print(f'{c1} : semester 2022-1')"
   ]
  },
  {
   "cell_type": "code",
   "execution_count": 12,
   "metadata": {},
   "outputs": [
    {
     "name": "stdout",
     "output_type": "stream",
     "text": [
      "First python code : semester 2022-1\n"
     ]
    }
   ],
   "source": [
    "d = 2022\n",
    "\n",
    "print(f'{c1} : semester {d}-1')"
   ]
  },
  {
   "cell_type": "code",
   "execution_count": 23,
   "metadata": {},
   "outputs": [
    {
     "name": "stdout",
     "output_type": "stream",
     "text": [
      "First python code : semester 2022-1\n"
     ]
    }
   ],
   "source": [
    "print('{} : semester {}-1'.format(c1,d))  #???"
   ]
  },
  {
   "cell_type": "code",
   "execution_count": 25,
   "metadata": {},
   "outputs": [
    {
     "data": {
      "text/plain": [
       "'First'"
      ]
     },
     "execution_count": 25,
     "metadata": {},
     "output_type": "execute_result"
    }
   ],
   "source": [
    "# Substr elements from string\n",
    "  # no se vio\n",
    "c1[0:5]"
   ]
  },
  {
   "cell_type": "code",
   "execution_count": 17,
   "metadata": {},
   "outputs": [
    {
     "name": "stdout",
     "output_type": "stream",
     "text": [
      "Fisrt letter is : F\n"
     ]
    }
   ],
   "source": [
    "#first character\n",
    "print('Fisrt letter is :',c1[0])"
   ]
  },
  {
   "cell_type": "code",
   "execution_count": 35,
   "metadata": {},
   "outputs": [
    {
     "name": "stdout",
     "output_type": "stream",
     "text": [
      "Fisrt word is : First\n"
     ]
    }
   ],
   "source": [
    "#first word\n",
    "print('Fisrt word is :',c1[0:5])"
   ]
  },
  {
   "cell_type": "markdown",
   "metadata": {},
   "source": [
    "## <a id='1.2'> 1.2 Boolean  </a> \n",
    "\n",
    "It’s used to represent the truth value of an expression."
   ]
  },
  {
   "cell_type": "code",
   "execution_count": 26,
   "metadata": {
    "scrolled": true
   },
   "outputs": [
    {
     "data": {
      "text/plain": [
       "True"
      ]
     },
     "execution_count": 26,
     "metadata": {},
     "output_type": "execute_result"
    }
   ],
   "source": [
    "\"a\" == \"a\""
   ]
  },
  {
   "cell_type": "code",
   "execution_count": 27,
   "metadata": {},
   "outputs": [
    {
     "data": {
      "text/plain": [
       "False"
      ]
     },
     "execution_count": 27,
     "metadata": {},
     "output_type": "execute_result"
    }
   ],
   "source": [
    "1 > 1"
   ]
  },
  {
   "cell_type": "code",
   "execution_count": 41,
   "metadata": {},
   "outputs": [
    {
     "data": {
      "text/plain": [
       "True"
      ]
     },
     "execution_count": 41,
     "metadata": {},
     "output_type": "execute_result"
    }
   ],
   "source": [
    "z1 = (1==1)  # z1 = (true) = true\n",
    "z1 "
   ]
  },
  {
   "cell_type": "code",
   "execution_count": 43,
   "metadata": {},
   "outputs": [
    {
     "data": {
      "text/plain": [
       "1"
      ]
     },
     "execution_count": 43,
     "metadata": {},
     "output_type": "execute_result"
    }
   ],
   "source": [
    "int(z1)  # true is 1 in numerical system"
   ]
  },
  {
   "cell_type": "code",
   "execution_count": 28,
   "metadata": {},
   "outputs": [
    {
     "data": {
      "text/plain": [
       "0"
      ]
     },
     "execution_count": 28,
     "metadata": {},
     "output_type": "execute_result"
    }
   ],
   "source": [
    "z2 = (10 > 20) \n",
    "int(z2) # false is 0 in numerical system"
   ]
  },
  {
   "cell_type": "markdown",
   "metadata": {},
   "source": [
    "## <a id='1.3'> 1.3 Tuple  </a> \n",
    "\n",
    "It is an ordered and immutable Python object, ES INMUTABLE"
   ]
  },
  {
   "cell_type": "code",
   "execution_count": 14,
   "metadata": {},
   "outputs": [
    {
     "data": {
      "text/plain": [
       "tuple"
      ]
     },
     "execution_count": 14,
     "metadata": {},
     "output_type": "execute_result"
    }
   ],
   "source": [
    "# Se define con ()\n",
    "# Es inmutable\n",
    "\n",
    "T1 = (1,4,8,10,20,15,4,5,3,8)\n",
    "\n",
    "type(T1)"
   ]
  },
  {
   "cell_type": "code",
   "execution_count": 17,
   "metadata": {},
   "outputs": [
    {
     "name": "stdout",
     "output_type": "stream",
     "text": [
      " Suma: 78 \n",
      " Minimo: 1 \n",
      " Maximo: 20\n"
     ]
    }
   ],
   "source": [
    "# aritmethic operations\n",
    "\n",
    "print(' Suma:', sum(T1),\"\\n\", \"Minimo:\", min(T1), '\\n', \"Maximo:\", max(T1))"
   ]
  },
  {
   "cell_type": "code",
   "execution_count": 53,
   "metadata": {},
   "outputs": [
    {
     "data": {
      "text/plain": [
       "10"
      ]
     },
     "execution_count": 53,
     "metadata": {},
     "output_type": "execute_result"
    }
   ],
   "source": [
    "# numero de elementos\n",
    "\n",
    "len(T1) # lenght of tuple"
   ]
  },
  {
   "cell_type": "markdown",
   "metadata": {},
   "source": [
    "### Indexing Tuple"
   ]
  },
  {
   "cell_type": "code",
   "execution_count": 19,
   "metadata": {},
   "outputs": [
    {
     "data": {
      "text/plain": [
       "(1, 4, 8, 10, 20)"
      ]
     },
     "execution_count": 19,
     "metadata": {},
     "output_type": "execute_result"
    }
   ],
   "source": [
    "T1 = (1,4,8,10,20,15,4,5,3,8)\n",
    "\n",
    "T1[0:5] # give us elements from 0 position until 4 position "
   ]
  },
  {
   "cell_type": "code",
   "execution_count": 23,
   "metadata": {},
   "outputs": [
    {
     "data": {
      "text/plain": [
       "1"
      ]
     },
     "execution_count": 23,
     "metadata": {},
     "output_type": "execute_result"
    }
   ],
   "source": [
    "T1[0] # get tuple's element "
   ]
  },
  {
   "cell_type": "code",
   "execution_count": 21,
   "metadata": {},
   "outputs": [
    {
     "data": {
      "text/plain": [
       "(1, 4, 8)"
      ]
     },
     "execution_count": 21,
     "metadata": {},
     "output_type": "execute_result"
    }
   ],
   "source": [
    "T1[0:3]\n"
   ]
  },
  {
   "cell_type": "code",
   "execution_count": 22,
   "metadata": {},
   "outputs": [
    {
     "ename": "TypeError",
     "evalue": "'tuple' object does not support item assignment",
     "output_type": "error",
     "traceback": [
      "\u001b[1;31m---------------------------------------------------------------------------\u001b[0m",
      "\u001b[1;31mTypeError\u001b[0m                                 Traceback (most recent call last)",
      "Input \u001b[1;32mIn [22]\u001b[0m, in \u001b[0;36m<cell line: 2>\u001b[1;34m()\u001b[0m\n\u001b[0;32m      1\u001b[0m \u001b[38;5;66;03m# It is not possible to change\u001b[39;00m\n\u001b[1;32m----> 2\u001b[0m T1[\u001b[38;5;241m0\u001b[39m] \u001b[38;5;241m=\u001b[39m \u001b[38;5;241m4\u001b[39m\n",
      "\u001b[1;31mTypeError\u001b[0m: 'tuple' object does not support item assignment"
     ]
    }
   ],
   "source": [
    "# It is not possible to change porque es una Tupla\n",
    "T1[0] = 4   "
   ]
  },
  {
   "cell_type": "code",
   "execution_count": 70,
   "metadata": {},
   "outputs": [
    {
     "data": {
      "text/plain": [
       "8"
      ]
     },
     "execution_count": 70,
     "metadata": {},
     "output_type": "execute_result"
    }
   ],
   "source": [
    "#El último elemento\n",
    "T1[-1]"
   ]
  },
  {
   "cell_type": "code",
   "execution_count": 68,
   "metadata": {},
   "outputs": [
    {
     "data": {
      "text/plain": [
       "2"
      ]
     },
     "execution_count": 68,
     "metadata": {},
     "output_type": "execute_result"
    }
   ],
   "source": [
    "#position \n",
    "    # de la tupla T1. indice(el numero 8) está en la posicion 2\n",
    "T1.index(8)"
   ]
  },
  {
   "cell_type": "markdown",
   "metadata": {},
   "source": [
    "## <a id='1.4'> 1.4 List  </a> \n",
    "\n",
    "#### It is an ordered and mutable Python container. Puede ser alterada."
   ]
  },
  {
   "cell_type": "code",
   "execution_count": 24,
   "metadata": {},
   "outputs": [
    {
     "name": "stdout",
     "output_type": "stream",
     "text": [
      "[]\n"
     ]
    },
    {
     "data": {
      "text/plain": [
       "list"
      ]
     },
     "execution_count": 24,
     "metadata": {},
     "output_type": "execute_result"
    }
   ],
   "source": [
    "L1 = []\n",
    "print(L1)\n",
    "type(L1)"
   ]
  },
  {
   "cell_type": "code",
   "execution_count": 25,
   "metadata": {},
   "outputs": [
    {
     "data": {
      "text/plain": [
       "['ATE', 'BARRANCO', 'BREÑA', 'CALLAO', 'CARABAYLLO']"
      ]
     },
     "execution_count": 25,
     "metadata": {},
     "output_type": "execute_result"
    }
   ],
   "source": [
    "dis1 = [\"ATE\", 'BARRANCO','BREÑA', 'CALLAO', 'CARABAYLLO']\n",
    "dis1"
   ]
  },
  {
   "cell_type": "code",
   "execution_count": 26,
   "metadata": {},
   "outputs": [],
   "source": [
    "dis2 = ['ATE', 'BARRANCO','BREÑA', 'CALLAO', 'CARABAYLLO','CHACLACAYO','CHORRILLOS','CIENEGUILLA'\n",
    "        ,'COMAS','EL_AGUSTINO','INDEPENDENCIA']"
   ]
  },
  {
   "cell_type": "code",
   "execution_count": 27,
   "metadata": {},
   "outputs": [
    {
     "data": {
      "text/plain": [
       "11"
      ]
     },
     "execution_count": 27,
     "metadata": {},
     "output_type": "execute_result"
    }
   ],
   "source": [
    "#Numero de elementos de lista\n",
    "\n",
    "len(dis2)"
   ]
  },
  {
   "cell_type": "code",
   "execution_count": 39,
   "metadata": {
    "scrolled": false
   },
   "outputs": [
    {
     "name": "stdout",
     "output_type": "stream",
     "text": [
      "['CALLAO', 'BARRANCO', 'BREÑA', 'CALLAO', 'CARABAYLLO', 'CHACLACAYO', 'CHORRILLOS', 'CIENEGUILLA', 'COMAS', 'EL_AGUSTINO', 'INDEPENDENCIA']\n"
     ]
    }
   ],
   "source": [
    "#Se puede ALTERAR los elementos de la lista\n",
    "\n",
    "dis2[0] = \"CALLAO\"\n",
    "print(dis2)"
   ]
  },
  {
   "cell_type": "code",
   "execution_count": 28,
   "metadata": {},
   "outputs": [
    {
     "data": {
      "text/plain": [
       "'BARRANCO'"
      ]
     },
     "execution_count": 28,
     "metadata": {},
     "output_type": "execute_result"
    }
   ],
   "source": [
    "# Idenxing: Que aparezca elemento en posicion 1\n",
    "\n",
    "dis2[1]"
   ]
  },
  {
   "cell_type": "code",
   "execution_count": 29,
   "metadata": {},
   "outputs": [
    {
     "data": {
      "text/plain": [
       "['BREÑA', 'CALLAO', 'CARABAYLLO']"
      ]
     },
     "execution_count": 29,
     "metadata": {},
     "output_type": "execute_result"
    }
   ],
   "source": [
    "dis2[2:5]   # (5-1=4)"
   ]
  },
  {
   "cell_type": "code",
   "execution_count": 30,
   "metadata": {},
   "outputs": [
    {
     "data": {
      "text/plain": [
       "['CALLAO', 'CARABAYLLO', 'CHACLACAYO', 'CHORRILLOS']"
      ]
     },
     "execution_count": 30,
     "metadata": {},
     "output_type": "execute_result"
    }
   ],
   "source": [
    "dis2[3:7]"
   ]
  },
  {
   "cell_type": "code",
   "execution_count": 31,
   "metadata": {},
   "outputs": [
    {
     "data": {
      "text/plain": [
       "['CHORRILLOS', 'CIENEGUILLA', 'COMAS', 'EL_AGUSTINO']"
      ]
     },
     "execution_count": 31,
     "metadata": {},
     "output_type": "execute_result"
    }
   ],
   "source": [
    "dis2[-5:-1]"
   ]
  },
  {
   "cell_type": "code",
   "execution_count": 32,
   "metadata": {},
   "outputs": [
    {
     "name": "stdout",
     "output_type": "stream",
     "text": [
      "[1, 5, 5, 5, 8, 8, 9, 10, 13, 13, 20]\n"
     ]
    }
   ],
   "source": [
    "num = [13,5,5,8,9,10,5,8,13,1,20]\n",
    "num.sort()\n",
    "print(num)"
   ]
  },
  {
   "cell_type": "code",
   "execution_count": 33,
   "metadata": {},
   "outputs": [
    {
     "name": "stdout",
     "output_type": "stream",
     "text": [
      "[1, 5, 5, 5, 8, 8, 9, 10, 13, 13, 20, 102]\n"
     ]
    }
   ],
   "source": [
    "# append new elements \n",
    "#AGREGAR ELEMENTOS A LISTA  = append\n",
    "\n",
    "num.append(102)\n",
    "print(num)"
   ]
  },
  {
   "cell_type": "code",
   "execution_count": 34,
   "metadata": {},
   "outputs": [
    {
     "name": "stdout",
     "output_type": "stream",
     "text": [
      "[1, 5, 5, 5, 8, 8, 9, 10, 13, 13, 20, 102, 10, 20, 30]\n"
     ]
    }
   ],
   "source": [
    "# append new list\n",
    "#AGREAGAR LISTA A LISTA = extend\n",
    "num2 = [10,20,30]\n",
    "num.extend(num2)\n",
    "print(num)"
   ]
  },
  {
   "cell_type": "code",
   "execution_count": 35,
   "metadata": {},
   "outputs": [
    {
     "name": "stdout",
     "output_type": "stream",
     "text": [
      "11\n"
     ]
    }
   ],
   "source": [
    "print(num.index(102))"
   ]
  },
  {
   "cell_type": "code",
   "execution_count": 49,
   "metadata": {
    "scrolled": true
   },
   "outputs": [
    {
     "name": "stdout",
     "output_type": "stream",
     "text": [
      "Suma: 361 \n",
      " Minimo: 1 \n",
      " Maximo: 102\n"
     ]
    }
   ],
   "source": [
    "print(\"Suma:\", sum(num),'\\n', \"Minimo:\", min(num), '\\n', \"Maximo:\", max(num))"
   ]
  },
  {
   "cell_type": "markdown",
   "metadata": {},
   "source": [
    "## <a id='1.5'> 1.5 Diccionario  </a> \n",
    "\n",
    "Hay un nombre y valor\n",
    "\n",
    "{ keys: valor }\n"
   ]
  },
  {
   "cell_type": "code",
   "execution_count": 40,
   "metadata": {},
   "outputs": [
    {
     "data": {
      "text/plain": [
       "dict"
      ]
     },
     "execution_count": 40,
     "metadata": {},
     "output_type": "execute_result"
    }
   ],
   "source": [
    "#  x = { 'Nombre etiqueta' : [x1 x2 x3], numero, string}\n",
    "\n",
    "Postal_code = {'Majes': 40520, 'Mollendo': 40701, 'Islay': 40704, 'Cotahuasi': 40801, 'Alca': 40802 }\n",
    "type(Postal_code)"
   ]
  },
  {
   "cell_type": "code",
   "execution_count": 39,
   "metadata": {},
   "outputs": [
    {
     "data": {
      "text/plain": [
       "{'Majes': 40520,\n",
       " 'Mollendo': 40701,\n",
       " 'Islay': 40704,\n",
       " 'Cotahuasi': 40801,\n",
       " 'Alca': 40802}"
      ]
     },
     "execution_count": 39,
     "metadata": {},
     "output_type": "execute_result"
    }
   ],
   "source": [
    "Postal_code"
   ]
  },
  {
   "cell_type": "code",
   "execution_count": 41,
   "metadata": {},
   "outputs": [
    {
     "data": {
      "text/plain": [
       "dict_keys(['Majes', 'Mollendo', 'Islay', 'Cotahuasi', 'Alca'])"
      ]
     },
     "execution_count": 41,
     "metadata": {},
     "output_type": "execute_result"
    }
   ],
   "source": [
    "Postal_code.keys()"
   ]
  },
  {
   "cell_type": "code",
   "execution_count": 42,
   "metadata": {},
   "outputs": [
    {
     "data": {
      "text/plain": [
       "40802"
      ]
     },
     "execution_count": 42,
     "metadata": {},
     "output_type": "execute_result"
    }
   ],
   "source": [
    "# Get information from key\n",
    "Postal_code['Alca']"
   ]
  },
  {
   "cell_type": "code",
   "execution_count": 43,
   "metadata": {},
   "outputs": [
    {
     "data": {
      "text/plain": [
       "40802"
      ]
     },
     "execution_count": 43,
     "metadata": {},
     "output_type": "execute_result"
    }
   ],
   "source": [
    "# Get information from key\n",
    "Postal_code.get('Alca')"
   ]
  },
  {
   "cell_type": "code",
   "execution_count": 101,
   "metadata": {},
   "outputs": [
    {
     "data": {
      "text/plain": [
       "{'Majes': 40520, 'Mollendo': 40701, 'Cotahuasi': 40801, 'Alca': 40802}"
      ]
     },
     "execution_count": 101,
     "metadata": {},
     "output_type": "execute_result"
    }
   ],
   "source": [
    "#Eliminar elemento llave + elemento \n",
    "#Drop key\n",
    "Postal_code.pop('Islay')\n",
    "Postal_code"
   ]
  },
  {
   "cell_type": "code",
   "execution_count": 44,
   "metadata": {},
   "outputs": [],
   "source": [
    "# add new elements \n",
    "    # llaves + elemento\n",
    "\n",
    "Postal_code.update( { \"CHARCANA\" :  40803 } )\n",
    "\n",
    "#diccioanrio dentro de otro diccionario\n",
    "Postal_code.update( {\"LOMAS\": {\"UBIGEO\": 40311, \"Poverty Rate\" : \"18.2%\", \"Population\" : \"20 mil\"}})\n"
   ]
  },
  {
   "cell_type": "code",
   "execution_count": 45,
   "metadata": {},
   "outputs": [
    {
     "data": {
      "text/plain": [
       "{'Majes': 40520,\n",
       " 'Mollendo': 40701,\n",
       " 'Islay': 40704,\n",
       " 'Cotahuasi': 40801,\n",
       " 'Alca': 40802,\n",
       " 'CHARCANA': 40803,\n",
       " 'LOMAS': {'UBIGEO': 40311, 'Poverty Rate': '18.2%', 'Population': '20 mil'}}"
      ]
     },
     "execution_count": 45,
     "metadata": {},
     "output_type": "execute_result"
    }
   ],
   "source": [
    "Postal_code"
   ]
  },
  {
   "cell_type": "code",
   "execution_count": 61,
   "metadata": {},
   "outputs": [
    {
     "data": {
      "text/plain": [
       "'18.2%'"
      ]
     },
     "execution_count": 61,
     "metadata": {},
     "output_type": "execute_result"
    }
   ],
   "source": [
    "Postal_code.get('LOMAS').get('Poverty Rate')"
   ]
  },
  {
   "cell_type": "code",
   "execution_count": 46,
   "metadata": {},
   "outputs": [
    {
     "data": {
      "text/plain": [
       "'18.2%'"
      ]
     },
     "execution_count": 46,
     "metadata": {},
     "output_type": "execute_result"
    }
   ],
   "source": [
    "# elemento dentro de llave:\n",
    "\n",
    "Postal_code['LOMAS']['Poverty Rate']"
   ]
  },
  {
   "cell_type": "code",
   "execution_count": 62,
   "metadata": {},
   "outputs": [],
   "source": [
    "# keys\n",
    "cities = ['Fray Martin','Santa Rosa de Puquio','Cuchicorral','Santiago de Punchauca','La Cruz (11 Amigos)','Cerro Cañon','Cabaña Suche','San Lorenzo','Jose Carlos Mariategui','Pascal','La Esperanza','Fundo Pancha Paula','Olfa','Rio Seco','Paraiso','El Rosario','Cerro Puquio','La Campana','Las Animas','Vetancio','Roma Alta','San Jose','San Pedro de Carabayllo','Huacoy','Fundo Pampa Libre','Ex Fundo Santa Ines','Reposo','Carmelito','Santa Elena','Don Luis','Santa Ines Parcela','Asociacion Santa Ines','Roma Baja','Residencial Santa Lucia','San Francisco','Santa Margarita - Molinos','Sipan Peru','Fundo Cuadros','Bello Horizonte','El Hueco','Ex Fundo Mariategui','Naranjito','Vista Hermosa','El Sabroso de Jose Carlos Mariategui','Granja Carabayllo','Agropecuario Valle el Chillon','Camino Real','Copacabana','El Trebol','Tablada la Virgen','San Fernando de Carabayllo','San Fernando de Copacabana','La Manzana','Chacra Grande','Torres de Copacabana','San Pedro de Carabayllo','San Lorenzo','Chaclacayo','Chorrillos','Cieneguilla','Lindero','Pichicato','San Isidro','San Vicente','Piedra Liza','Santa Rosa de Chontay (Chontay)','La Libertad','El Agustino','Independencia','Jesus Maria','La Molina','La Victoria','Lince','Las Palmeras','Chosica','Lurin','Los Almacigos','Rinconada del Puruhuay','Fundo Santa Genoveva','Los Maderos','Casco Viejo','Vista Alegre','Buena Vista Alta','Lomas Pucara','Fundo la Querencia','Magdalena del Mar','Pueblo Libre','Miraflores','Pachacamac','Puente Manchay','Tambo Inga','Pampa Flores','Manchay Alto Lote B','Invasion Cementerio','Manchay Bajo','Santa Rosa de Mal Paso','Cardal','Jatosisa','Tomina','Pucusana','Honda','Quipa','Los Pelicanos','Playa Puerto Bello','Ñaves','Granja Santa Elena','Alvatroz II','Poseidon - Lobo Varado','Playa Minka Mar','Playa Acantilado','Puente Piedra','Punta Hermosa','Capilla Lucumo','Cucuya','Pampapacta','Avicola San Cirilo de Loma Negra - 03','Avicola San Cirilo de Loma Negra - 02','Avicola San Cirilo de Loma Negra - 01','Pampa Mamay','Cerro Botija','Agricultores y Ganaderos','Pampa Malanche Avicola Puma','Punta Negra','Chancheria','Rimac','San Bartolo','Plantel 41','Granja 4','Granja 5','Granja 07','Granja 44','Granja 47','Santa Maria I','Las Torres Santa Fe','San Francisco de Borja','San Isidro','San Juan de Lurigancho','Ciudad de Dios','San Luis','Barrio Obrero Industrial','San Miguel','Santa Anita - los Ficus','Santa Maria del Mar','Don Bruno','Santa Rosa','Santiago de Surco','Surquillo','Villa el Salvador','Villa Maria del Triunfo', 'Pueblo libre']\n",
    "# values\n",
    "postal_code1 = [15001,15003,15004,15006,15018,15019,15046,15072,15079,15081,15082,15083,15088,15123,15004,15011,15012,15019,15022,15023,15026,15476,15479,15483,15487,15491,15494,15498,15047,15049,15063,15082,15083,15121,15122,15313,15316,15318,15319,15320,15321,15324,15320,15320,15320,15320,15320,15320,15121,15320,15320,15121,15320,15320,15121,15121,15122,15122,15121,15121,15121,15320,15320,15320,15320,15320,15320,15121,15121,15121,15320,15121,15319,15121,15121,15121,15320,15320,15121,15121,15121,15121,15320,15320,15320,15122,15122,15122,15122,15122,15122,15122,15122,15121,15121,15122,15122,15121,15121,15122,15122,15121,15122,15122,15122,15472,15476,15054,15056,15057,15058,15063,15064,15066,15067,15593,15594,15593,15593,15593,15593,15593,15593,15593,15311,15312,15313,15314,15316,15324,15326,15327,15328,15332,15003,15004,15006,15007,15008,15009,15011,15018,15022,15311,15328,15331,15332,15333,15046, 15001]"
   ]
  },
  {
   "cell_type": "code",
   "execution_count": 63,
   "metadata": {},
   "outputs": [],
   "source": [
    "# Return a dictionarie\n",
    "ct_pc = dict( zip( cities , postal_code1) )"
   ]
  },
  {
   "cell_type": "code",
   "execution_count": 64,
   "metadata": {
    "scrolled": true
   },
   "outputs": [
    {
     "data": {
      "text/plain": [
       "{'Fray Martin': 15001,\n",
       " 'Santa Rosa de Puquio': 15003,\n",
       " 'Cuchicorral': 15004,\n",
       " 'Santiago de Punchauca': 15006,\n",
       " 'La Cruz (11 Amigos)': 15018,\n",
       " 'Cerro Cañon': 15019,\n",
       " 'Cabaña Suche': 15046,\n",
       " 'San Lorenzo': 15122,\n",
       " 'Jose Carlos Mariategui': 15079,\n",
       " 'Pascal': 15081,\n",
       " 'La Esperanza': 15082,\n",
       " 'Fundo Pancha Paula': 15083,\n",
       " 'Olfa': 15088,\n",
       " 'Rio Seco': 15123,\n",
       " 'Paraiso': 15004,\n",
       " 'El Rosario': 15011,\n",
       " 'Cerro Puquio': 15012,\n",
       " 'La Campana': 15019,\n",
       " 'Las Animas': 15022,\n",
       " 'Vetancio': 15023,\n",
       " 'Roma Alta': 15026,\n",
       " 'San Jose': 15476,\n",
       " 'San Pedro de Carabayllo': 15121,\n",
       " 'Huacoy': 15483,\n",
       " 'Fundo Pampa Libre': 15487,\n",
       " 'Ex Fundo Santa Ines': 15491,\n",
       " 'Reposo': 15494,\n",
       " 'Carmelito': 15498,\n",
       " 'Santa Elena': 15047,\n",
       " 'Don Luis': 15049,\n",
       " 'Santa Ines Parcela': 15063,\n",
       " 'Asociacion Santa Ines': 15082,\n",
       " 'Roma Baja': 15083,\n",
       " 'Residencial Santa Lucia': 15121,\n",
       " 'San Francisco': 15122,\n",
       " 'Santa Margarita - Molinos': 15313,\n",
       " 'Sipan Peru': 15316,\n",
       " 'Fundo Cuadros': 15318,\n",
       " 'Bello Horizonte': 15319,\n",
       " 'El Hueco': 15320,\n",
       " 'Ex Fundo Mariategui': 15321,\n",
       " 'Naranjito': 15324,\n",
       " 'Vista Hermosa': 15320,\n",
       " 'El Sabroso de Jose Carlos Mariategui': 15320,\n",
       " 'Granja Carabayllo': 15320,\n",
       " 'Agropecuario Valle el Chillon': 15320,\n",
       " 'Camino Real': 15320,\n",
       " 'Copacabana': 15320,\n",
       " 'El Trebol': 15121,\n",
       " 'Tablada la Virgen': 15320,\n",
       " 'San Fernando de Carabayllo': 15320,\n",
       " 'San Fernando de Copacabana': 15121,\n",
       " 'La Manzana': 15320,\n",
       " 'Chacra Grande': 15320,\n",
       " 'Torres de Copacabana': 15121,\n",
       " 'Chaclacayo': 15122,\n",
       " 'Chorrillos': 15121,\n",
       " 'Cieneguilla': 15121,\n",
       " 'Lindero': 15121,\n",
       " 'Pichicato': 15320,\n",
       " 'San Isidro': 15004,\n",
       " 'San Vicente': 15320,\n",
       " 'Piedra Liza': 15320,\n",
       " 'Santa Rosa de Chontay (Chontay)': 15320,\n",
       " 'La Libertad': 15320,\n",
       " 'El Agustino': 15121,\n",
       " 'Independencia': 15121,\n",
       " 'Jesus Maria': 15121,\n",
       " 'La Molina': 15320,\n",
       " 'La Victoria': 15121,\n",
       " 'Lince': 15319,\n",
       " 'Las Palmeras': 15121,\n",
       " 'Chosica': 15121,\n",
       " 'Lurin': 15121,\n",
       " 'Los Almacigos': 15320,\n",
       " 'Rinconada del Puruhuay': 15320,\n",
       " 'Fundo Santa Genoveva': 15121,\n",
       " 'Los Maderos': 15121,\n",
       " 'Casco Viejo': 15121,\n",
       " 'Vista Alegre': 15121,\n",
       " 'Buena Vista Alta': 15320,\n",
       " 'Lomas Pucara': 15320,\n",
       " 'Fundo la Querencia': 15320,\n",
       " 'Magdalena del Mar': 15122,\n",
       " 'Pueblo Libre': 15122,\n",
       " 'Miraflores': 15122,\n",
       " 'Pachacamac': 15122,\n",
       " 'Puente Manchay': 15122,\n",
       " 'Tambo Inga': 15122,\n",
       " 'Pampa Flores': 15122,\n",
       " 'Manchay Alto Lote B': 15122,\n",
       " 'Invasion Cementerio': 15121,\n",
       " 'Manchay Bajo': 15121,\n",
       " 'Santa Rosa de Mal Paso': 15122,\n",
       " 'Cardal': 15122,\n",
       " 'Jatosisa': 15121,\n",
       " 'Tomina': 15121,\n",
       " 'Pucusana': 15122,\n",
       " 'Honda': 15122,\n",
       " 'Quipa': 15121,\n",
       " 'Los Pelicanos': 15122,\n",
       " 'Playa Puerto Bello': 15122,\n",
       " 'Ñaves': 15122,\n",
       " 'Granja Santa Elena': 15472,\n",
       " 'Alvatroz II': 15476,\n",
       " 'Poseidon - Lobo Varado': 15054,\n",
       " 'Playa Minka Mar': 15056,\n",
       " 'Playa Acantilado': 15057,\n",
       " 'Puente Piedra': 15058,\n",
       " 'Punta Hermosa': 15063,\n",
       " 'Capilla Lucumo': 15064,\n",
       " 'Cucuya': 15066,\n",
       " 'Pampapacta': 15067,\n",
       " 'Avicola San Cirilo de Loma Negra - 03': 15593,\n",
       " 'Avicola San Cirilo de Loma Negra - 02': 15594,\n",
       " 'Avicola San Cirilo de Loma Negra - 01': 15593,\n",
       " 'Pampa Mamay': 15593,\n",
       " 'Cerro Botija': 15593,\n",
       " 'Agricultores y Ganaderos': 15593,\n",
       " 'Pampa Malanche Avicola Puma': 15593,\n",
       " 'Punta Negra': 15593,\n",
       " 'Chancheria': 15593,\n",
       " 'Rimac': 15311,\n",
       " 'San Bartolo': 15312,\n",
       " 'Plantel 41': 15313,\n",
       " 'Granja 4': 15314,\n",
       " 'Granja 5': 15316,\n",
       " 'Granja 07': 15324,\n",
       " 'Granja 44': 15326,\n",
       " 'Granja 47': 15327,\n",
       " 'Santa Maria I': 15328,\n",
       " 'Las Torres Santa Fe': 15332,\n",
       " 'San Francisco de Borja': 15003,\n",
       " 'San Juan de Lurigancho': 15006,\n",
       " 'Ciudad de Dios': 15007,\n",
       " 'San Luis': 15008,\n",
       " 'Barrio Obrero Industrial': 15009,\n",
       " 'San Miguel': 15011,\n",
       " 'Santa Anita - los Ficus': 15018,\n",
       " 'Santa Maria del Mar': 15022,\n",
       " 'Don Bruno': 15311,\n",
       " 'Santa Rosa': 15328,\n",
       " 'Santiago de Surco': 15331,\n",
       " 'Surquillo': 15332,\n",
       " 'Villa el Salvador': 15333,\n",
       " 'Villa Maria del Triunfo': 15046,\n",
       " 'Pueblo libre': 15001}"
      ]
     },
     "execution_count": 64,
     "metadata": {},
     "output_type": "execute_result"
    }
   ],
   "source": [
    "ct_pc"
   ]
  },
  {
   "cell_type": "markdown",
   "metadata": {},
   "source": [
    "## <a id='1.6'> 1.6 Arrays and Matrix  </a> \n"
   ]
  },
  {
   "cell_type": "code",
   "execution_count": 48,
   "metadata": {},
   "outputs": [],
   "source": [
    "import numpy as np\n",
    "\n",
    "# A library is a collection of modules or a single module. Libraries are the tools we will use to make our program."
   ]
  },
  {
   "cell_type": "code",
   "execution_count": 50,
   "metadata": {},
   "outputs": [
    {
     "name": "stdout",
     "output_type": "stream",
     "text": [
      "[1 2 3 4 5]\n"
     ]
    }
   ],
   "source": [
    "# 1D array (vector)  1 DIMENSION\n",
    "a = np.array( [1, 2, 3, 4, 5] )\n",
    "print(a)"
   ]
  },
  {
   "cell_type": "code",
   "execution_count": 69,
   "metadata": {},
   "outputs": [
    {
     "data": {
      "text/plain": [
       "numpy.ndarray"
      ]
     },
     "execution_count": 69,
     "metadata": {},
     "output_type": "execute_result"
    }
   ],
   "source": [
    "type(a)"
   ]
  },
  {
   "cell_type": "code",
   "execution_count": 51,
   "metadata": {
    "scrolled": true
   },
   "outputs": [
    {
     "data": {
      "text/plain": [
       "3.0"
      ]
     },
     "execution_count": 51,
     "metadata": {},
     "output_type": "execute_result"
    }
   ],
   "source": [
    "np.mean(a)  #media de vector"
   ]
  },
  {
   "cell_type": "markdown",
   "metadata": {},
   "source": [
    "Standar deviation in Python by default\n",
    "\n",
    "\\begin{equation}\n",
    " sd(x) = \\sqrt{\\frac{\\sum(x_i-\\bar{x})^2}{N-1}}\n",
    "\\end{equation}"
   ]
  },
  {
   "cell_type": "code",
   "execution_count": 52,
   "metadata": {},
   "outputs": [
    {
     "data": {
      "text/plain": [
       "1.4142135623730951"
      ]
     },
     "execution_count": 52,
     "metadata": {},
     "output_type": "execute_result"
    }
   ],
   "source": [
    "np.std(a)  #desviacion N-1"
   ]
  },
  {
   "cell_type": "markdown",
   "metadata": {},
   "source": [
    "Standar deviation in Python \n",
    "\n",
    "\\begin{equation}\n",
    " sd(x) = \\sqrt{\\frac{\\sum(x_i-\\bar{x})^2}{N}}\n",
    "\\end{equation}"
   ]
  },
  {
   "cell_type": "code",
   "execution_count": 53,
   "metadata": {},
   "outputs": [
    {
     "data": {
      "text/plain": [
       "1.5811388300841898"
      ]
     },
     "execution_count": 53,
     "metadata": {},
     "output_type": "execute_result"
    }
   ],
   "source": [
    "np.std(a,ddof=1)  #desviacion N"
   ]
  },
  {
   "cell_type": "code",
   "execution_count": 55,
   "metadata": {},
   "outputs": [
    {
     "name": "stdout",
     "output_type": "stream",
     "text": [
      "[[1 2 3]\n",
      " [4 5 6]]\n"
     ]
    }
   ],
   "source": [
    "# 2D array    2 DIMENSIONES\n",
    "M = np.array( [ [1, 2, 3], [4, 5, 6] ] )\n",
    "\n",
    "print(M)"
   ]
  },
  {
   "cell_type": "code",
   "execution_count": 77,
   "metadata": {},
   "outputs": [
    {
     "data": {
      "text/plain": [
       "(2, 3)"
      ]
     },
     "execution_count": 77,
     "metadata": {},
     "output_type": "execute_result"
    }
   ],
   "source": [
    "# dimensiones   M.shape (filas, columnas) , cuenta 0\n",
    "\n",
    "M.shape"
   ]
  },
  {
   "cell_type": "code",
   "execution_count": 56,
   "metadata": {},
   "outputs": [
    {
     "name": "stdout",
     "output_type": "stream",
     "text": [
      "Rows : 2 \n",
      " Columns:  3\n"
     ]
    }
   ],
   "source": [
    "print(\"Rows :\",M.shape[0],\"\\n\", \"Columns: \", M.shape[1])\n"
   ]
  },
  {
   "cell_type": "code",
   "execution_count": 57,
   "metadata": {},
   "outputs": [
    {
     "name": "stdout",
     "output_type": "stream",
     "text": [
      "[ 0  2  4  6  8 10 12 14 16 18]\n"
     ]
    }
   ],
   "source": [
    "# Create a 1D NumPy array with values from 0 to 20 (exclusively) incremented by 2:\n",
    "y = np.arange( 0, 20, 2 )\n",
    "print(y)"
   ]
  },
  {
   "cell_type": "code",
   "execution_count": 74,
   "metadata": {},
   "outputs": [
    {
     "name": "stdout",
     "output_type": "stream",
     "text": [
      "[ 1  2  3  4  5  6  7  8  9 10]\n"
     ]
    },
    {
     "data": {
      "text/plain": [
       "[0, 1, 2, 3, 4, 5, 6, 7, 8, 9, 10]"
      ]
     },
     "execution_count": 74,
     "metadata": {},
     "output_type": "execute_result"
    }
   ],
   "source": [
    "# deafult one by one ==> y = np.arange( 1, 11, 1)\n",
    "\n",
    "y = np.arange( 1, 11)\n",
    "print(y)\n",
    "\n",
    "list(range(11))   #range(k) es lista de 0 hasta k-1"
   ]
  },
  {
   "cell_type": "markdown",
   "metadata": {},
   "source": []
  },
  {
   "cell_type": "code",
   "execution_count": 80,
   "metadata": {},
   "outputs": [
    {
     "name": "stdout",
     "output_type": "stream",
     "text": [
      "[2 2 2 2]\n",
      "[ 0  0  0  0  1  1  1  1  2  2  2  2  3  3  3  3  4  4  4  4  5  5  5  5\n",
      "  6  6  6  6  7  7  7  7  8  8  8  8  9  9  9  9 10 10 10 10]\n",
      "[1 2 1 2 1 2 1 2]\n",
      "[ 0  1  2  3  4  5  6  7  8  9 10  0  1  2  3  4  5  6  7  8  9 10  0  1\n",
      "  2  3  4  5  6  7  8  9 10  0  1  2  3  4  5  6  7  8  9 10  0  1  2  3\n",
      "  4  5  6  7  8  9 10]\n",
      "[array([0, 1, 2]), array([3, 4, 5]), array([6, 7]), array([8, 9])]\n"
     ]
    }
   ],
   "source": [
    "# rep() equivalent in python\n",
    "\n",
    "print(np.repeat(2, 4))  # 2 se repite 4 veces\n",
    "print(np.repeat(range(11), 4))  # el vector range(11) se repite 4 veces, en orden\n",
    "\n",
    "print(np.tile(np.array([1,2]), 4)) # se repite [1,2] 4 veces, en orden de lista\n",
    "print(np.tile(range(11),5))  # se repite [0,11] 5 veces, en orden de lista\n",
    "\n",
    "# split array\n",
    "\n",
    "print(np.array_split(np.arange(0,10),4))  # de [0,10] se agrupa en 4 grupos"
   ]
  },
  {
   "cell_type": "markdown",
   "metadata": {},
   "source": [
    "### Matrix"
   ]
  },
  {
   "cell_type": "code",
   "execution_count": 81,
   "metadata": {},
   "outputs": [],
   "source": [
    "#cada elemento debe ser un vector\n",
    "A = np.array([np.arange(0,10), np.arange(10,20), np.arange(30,40), np.arange(-20,-10), np.arange(2,21,2)])"
   ]
  },
  {
   "cell_type": "code",
   "execution_count": 82,
   "metadata": {},
   "outputs": [
    {
     "data": {
      "text/plain": [
       "array([[  0,   1,   2,   3,   4,   5,   6,   7,   8,   9],\n",
       "       [ 10,  11,  12,  13,  14,  15,  16,  17,  18,  19],\n",
       "       [ 30,  31,  32,  33,  34,  35,  36,  37,  38,  39],\n",
       "       [-20, -19, -18, -17, -16, -15, -14, -13, -12, -11],\n",
       "       [  2,   4,   6,   8,  10,  12,  14,  16,  18,  20]])"
      ]
     },
     "execution_count": 82,
     "metadata": {},
     "output_type": "execute_result"
    }
   ],
   "source": [
    "A"
   ]
  },
  {
   "cell_type": "code",
   "execution_count": 83,
   "metadata": {},
   "outputs": [
    {
     "data": {
      "text/plain": [
       "array([[ 30,  31,  32,  33,  34,  35,  36,  37,  38,  39],\n",
       "       [-20, -19, -18, -17, -16, -15, -14, -13, -12, -11],\n",
       "       [  2,   4,   6,   8,  10,  12,  14,  16,  18,  20]])"
      ]
     },
     "execution_count": 83,
     "metadata": {},
     "output_type": "execute_result"
    }
   ],
   "source": [
    "#Sacar filas\n",
    "A[2:5,:]  # rows selecrtion\n"
   ]
  },
  {
   "cell_type": "code",
   "execution_count": 84,
   "metadata": {},
   "outputs": [
    {
     "data": {
      "text/plain": [
       "array([[  0,   1,   2,   3,   4,   5],\n",
       "       [ 10,  11,  12,  13,  14,  15],\n",
       "       [ 30,  31,  32,  33,  34,  35],\n",
       "       [-20, -19, -18, -17, -16, -15],\n",
       "       [  2,   4,   6,   8,  10,  12]])"
      ]
     },
     "execution_count": 84,
     "metadata": {},
     "output_type": "execute_result"
    }
   ],
   "source": [
    "#Sacar columnas\n",
    "A[:,0:6]  # columns selecrtion"
   ]
  },
  {
   "cell_type": "code",
   "execution_count": 85,
   "metadata": {},
   "outputs": [
    {
     "name": "stdout",
     "output_type": "stream",
     "text": [
      "[[0. 0.]\n",
      " [0. 0.]\n",
      " [0. 0.]\n",
      " [0. 0.]\n",
      " [0. 0.]\n",
      " [0. 0.]\n",
      " [0. 0.]\n",
      " [0. 0.]]\n"
     ]
    }
   ],
   "source": [
    "M1 = np.zeros( (8, 2) )\n",
    "print(M1)"
   ]
  },
  {
   "cell_type": "code",
   "execution_count": 86,
   "metadata": {
    "scrolled": false
   },
   "outputs": [
    {
     "name": "stdout",
     "output_type": "stream",
     "text": [
      "[[1. 1. 1. 1.]\n",
      " [1. 1. 1. 1.]\n",
      " [1. 1. 1. 1.]\n",
      " [1. 1. 1. 1.]\n",
      " [1. 1. 1. 1.]\n",
      " [1. 1. 1. 1.]\n",
      " [1. 1. 1. 1.]\n",
      " [1. 1. 1. 1.]]\n"
     ]
    }
   ],
   "source": [
    "M2 = np.ones( (8, 4) )\n",
    "print(M2)"
   ]
  },
  {
   "cell_type": "markdown",
   "metadata": {},
   "source": [
    "## Join matrix"
   ]
  },
  {
   "cell_type": "code",
   "execution_count": 87,
   "metadata": {
    "scrolled": true
   },
   "outputs": [
    {
     "data": {
      "text/plain": [
       "array([[0., 0., 1., 1., 1., 1.],\n",
       "       [0., 0., 1., 1., 1., 1.],\n",
       "       [0., 0., 1., 1., 1., 1.],\n",
       "       [0., 0., 1., 1., 1., 1.],\n",
       "       [0., 0., 1., 1., 1., 1.],\n",
       "       [0., 0., 1., 1., 1., 1.],\n",
       "       [0., 0., 1., 1., 1., 1.],\n",
       "       [0., 0., 1., 1., 1., 1.]])"
      ]
     },
     "execution_count": 87,
     "metadata": {},
     "output_type": "execute_result"
    }
   ],
   "source": [
    "#Juntar matrices M1 + M2  con h (orizontal)\n",
    "\n",
    "M3 = np.hstack((M1,M2))  # stack horizontal \n",
    "M3"
   ]
  },
  {
   "cell_type": "code",
   "execution_count": 88,
   "metadata": {},
   "outputs": [
    {
     "name": "stdout",
     "output_type": "stream",
     "text": [
      "[[2 2 3 4 5 1]\n",
      " [1 5 5 9 8 2]]\n"
     ]
    }
   ],
   "source": [
    "M4 = np.array([[2,2,3,4,5,1],[1,5,5,9,8,2]])\n",
    "print(M4)"
   ]
  },
  {
   "cell_type": "code",
   "execution_count": 89,
   "metadata": {},
   "outputs": [
    {
     "name": "stdout",
     "output_type": "stream",
     "text": [
      "[[0. 0. 1. 1. 1. 1.]\n",
      " [0. 0. 1. 1. 1. 1.]\n",
      " [0. 0. 1. 1. 1. 1.]\n",
      " [0. 0. 1. 1. 1. 1.]\n",
      " [0. 0. 1. 1. 1. 1.]\n",
      " [0. 0. 1. 1. 1. 1.]\n",
      " [0. 0. 1. 1. 1. 1.]\n",
      " [0. 0. 1. 1. 1. 1.]\n",
      " [2. 2. 3. 4. 5. 1.]\n",
      " [1. 5. 5. 9. 8. 2.]]\n"
     ]
    },
    {
     "data": {
      "text/plain": [
       "array([[0., 0., 0., 0., 0., 0., 0., 0., 2., 1.],\n",
       "       [0., 0., 0., 0., 0., 0., 0., 0., 2., 5.],\n",
       "       [1., 1., 1., 1., 1., 1., 1., 1., 3., 5.],\n",
       "       [1., 1., 1., 1., 1., 1., 1., 1., 4., 9.],\n",
       "       [1., 1., 1., 1., 1., 1., 1., 1., 5., 8.],\n",
       "       [1., 1., 1., 1., 1., 1., 1., 1., 1., 2.]])"
      ]
     },
     "execution_count": 89,
     "metadata": {},
     "output_type": "execute_result"
    }
   ],
   "source": [
    "M5 = np.vstack((M3,M4)) # stack vertical \n",
    "print(M5)\n",
    "M5.T"
   ]
  },
  {
   "cell_type": "code",
   "execution_count": 90,
   "metadata": {},
   "outputs": [
    {
     "name": "stdout",
     "output_type": "stream",
     "text": [
      "[1. 1. 1. 1. 1. 1. 1. 1. 1. 1.]\n"
     ]
    }
   ],
   "source": [
    "# Create a 1D NumPy array of ones of length 10:\n",
    "w = np.ones(10)\n",
    "print(w)"
   ]
  },
  {
   "cell_type": "code",
   "execution_count": 91,
   "metadata": {
    "scrolled": true
   },
   "outputs": [
    {
     "name": "stdout",
     "output_type": "stream",
     "text": [
      "[[1. 0. 0. 0. 0. 0. 0. 0.]\n",
      " [0. 1. 0. 0. 0. 0. 0. 0.]\n",
      " [0. 0. 1. 0. 0. 0. 0. 0.]\n",
      " [0. 0. 0. 1. 0. 0. 0. 0.]\n",
      " [0. 0. 0. 0. 1. 0. 0. 0.]\n",
      " [0. 0. 0. 0. 0. 1. 0. 0.]\n",
      " [0. 0. 0. 0. 0. 0. 1. 0.]\n",
      " [0. 0. 0. 0. 0. 0. 0. 1.]]\n"
     ]
    }
   ],
   "source": [
    "# Create the identity matrix of size 8:\n",
    "I = np.eye(8)\n",
    "print(I)"
   ]
  },
  {
   "cell_type": "code",
   "execution_count": 92,
   "metadata": {},
   "outputs": [
    {
     "name": "stdout",
     "output_type": "stream",
     "text": [
      "[[1. 0.]\n",
      " [0. 0.]\n",
      " [0. 0.]\n",
      " [0. 0.]\n",
      " [0. 1.]\n",
      " [0. 0.]\n",
      " [0. 0.]\n",
      " [0. 0.]\n",
      " [0. 0.]\n",
      " [1. 0.]\n",
      " [0. 0.]\n",
      " [0. 0.]\n",
      " [0. 0.]\n",
      " [0. 1.]\n",
      " [0. 0.]\n",
      " [0. 0.]\n",
      " [0. 0.]\n",
      " [0. 0.]\n",
      " [1. 0.]\n",
      " [0. 0.]\n",
      " [0. 0.]\n",
      " [0. 0.]\n",
      " [0. 1.]\n",
      " [0. 0.]\n",
      " [0. 0.]\n",
      " [0. 0.]\n",
      " [0. 0.]\n",
      " [1. 0.]\n",
      " [0. 0.]\n",
      " [0. 0.]\n",
      " [0. 0.]\n",
      " [0. 1.]]\n"
     ]
    }
   ],
   "source": [
    "I3 = I.reshape(32, 2)\n",
    "print(I3)"
   ]
  },
  {
   "cell_type": "code",
   "execution_count": 90,
   "metadata": {},
   "outputs": [
    {
     "data": {
      "text/plain": [
       "array([0.83955418, 0.36695914, 0.04044813, 0.16880262, 0.50221557,\n",
       "       0.71942654, 0.49558592, 0.17121426, 0.84532703, 0.33483598])"
      ]
     },
     "execution_count": 90,
     "metadata": {},
     "output_type": "execute_result"
    }
   ],
   "source": [
    "random.seed(4)\n",
    "\n",
    "np.random.rand(10)   #crea 10 valores aleatorios"
   ]
  },
  {
   "cell_type": "code",
   "execution_count": 99,
   "metadata": {},
   "outputs": [
    {
     "data": {
      "text/plain": [
       "array([0.97013988, 0.14538263, 0.74926613, 0.42933554, 0.43022219])"
      ]
     },
     "execution_count": 99,
     "metadata": {},
     "output_type": "execute_result"
    }
   ],
   "source": [
    "x1 = np.random.rand(5) \n",
    "x1"
   ]
  },
  {
   "cell_type": "code",
   "execution_count": 100,
   "metadata": {
    "scrolled": false
   },
   "outputs": [
    {
     "data": {
      "text/plain": [
       "array([ 4.87863271,  1.56120431,  1.93359257,  3.67539287,  4.24659298,\n",
       "        2.42295583,  2.56433658,  3.38087675,  2.70221932,  0.84180773,\n",
       "        2.78529992,  2.25885783,  1.89039266,  4.17444822,  3.72032322,\n",
       "        4.31786388,  6.15341893,  4.06729653,  3.89054804,  2.75583874,\n",
       "        1.85709654,  1.54076242,  1.31768696,  4.57344863,  2.21486487,\n",
       "        3.68497022,  3.23109349,  1.64733404,  4.62913755,  2.14417541,\n",
       "        3.50228993,  4.81360049,  2.74837422,  2.54925761,  2.60733886,\n",
       "        1.71553561,  2.88919481,  3.76714782,  5.108373  ,  2.09829862,\n",
       "        4.88359563,  2.11485336,  2.28187848,  1.10237016,  4.04330409,\n",
       "        2.26878173,  2.91063201,  2.62398586,  4.50301216,  3.21680876,\n",
       "        3.931889  ,  3.59201718,  2.5095828 ,  2.5724093 ,  3.28696417,\n",
       "        4.74278473,  1.92634039,  1.38217291,  5.12587886,  2.00161577,\n",
       "        3.91788164,  5.67762989,  1.2602967 ,  3.31618619,  3.80837839,\n",
       "        3.48127146,  3.83514999,  0.02176207,  1.74139258,  2.77897123,\n",
       "        1.28212705,  4.11607403,  1.35370876,  3.14155947,  3.18782073,\n",
       "        2.75714418,  1.83294755,  2.24599468,  3.0361542 ,  1.19934317,\n",
       "        2.59856594,  1.37418192,  3.37660597,  3.14151703,  4.25534878,\n",
       "        2.60884778,  4.3543624 ,  3.1099318 ,  2.32781164,  4.97383761,\n",
       "        3.32288337,  2.13045897,  4.06971925,  2.03414465,  2.69574138,\n",
       "        1.49444443,  2.7210357 ,  3.54899153,  6.20951907,  1.93091492,\n",
       "        3.1841753 ,  4.22429323,  2.01585688,  2.75368329,  4.56123285,\n",
       "        4.479448  ,  4.69341714,  3.55524878,  3.67303941,  4.5749197 ,\n",
       "        1.87041204,  3.96561129,  2.85199165,  3.78858926,  2.20976916,\n",
       "        3.69793985,  2.57818875,  1.6566143 ,  1.99538289, -0.13946502,\n",
       "        4.56848526,  2.04265854,  3.08618297,  3.3699187 ,  3.09949056,\n",
       "        3.41915274,  3.90771159,  1.20943845,  3.22729011,  5.22673704,\n",
       "        2.71111697,  4.188456  ,  3.10833549,  1.78155933,  5.10054665,\n",
       "        5.20889821,  4.05943913,  4.22959426,  3.14296171,  2.65655702,\n",
       "        1.82240857,  3.06558828,  3.30850032,  4.70356973,  3.89767196,\n",
       "        2.59921979,  5.28806715,  2.88353918,  4.47149237,  3.86405496,\n",
       "        3.42460469,  4.11207012,  1.55577371,  3.73375952,  2.46730569,\n",
       "        5.15777338,  3.82978859,  3.83303435,  2.31731794,  3.79960926,\n",
       "        1.22571263,  3.19079192,  1.38638636,  1.90015739,  4.37869908,\n",
       "        2.78277958,  3.34647595,  2.48043109,  2.31871942,  2.97613463,\n",
       "        3.83433158,  3.38950876,  2.33129271,  1.52650546,  2.1051844 ,\n",
       "        2.34233294,  2.05023515,  2.90844297,  2.88631248,  3.63610662,\n",
       "        3.11555998,  2.16545804,  4.15614335,  3.68404631,  3.79013466,\n",
       "        3.32436947,  2.49334458,  1.61288962,  4.25327993,  1.72258118,\n",
       "        3.47046515,  2.57030081,  2.2037502 ,  3.14097668,  2.72194111,\n",
       "        1.89019317,  3.21751   ,  3.12484901,  3.41286945,  1.4694057 ,\n",
       "        2.20208764,  1.52250943,  2.4808886 ,  4.22303861,  3.79576235,\n",
       "        0.70305508,  2.23583964,  4.2979876 ,  1.7697749 ,  3.0395171 ,\n",
       "        1.92256229,  2.9331972 ,  4.22184466,  2.76619506,  0.99875658,\n",
       "        1.93545626,  3.28322814,  3.37623524,  2.82063697,  5.66611219,\n",
       "        3.29649583,  1.85415168,  2.9086718 ,  5.55469433,  4.8246764 ,\n",
       "        4.84569052,  1.49896762,  3.24138127,  3.63030225,  2.68303724,\n",
       "        4.24113349,  2.91160298,  1.88101226,  4.33219944,  0.27938321,\n",
       "        0.41464181,  2.32371734,  5.29508585,  2.31985869,  2.38107629,\n",
       "        5.09081638,  3.36664172,  2.18830584,  2.58421244,  2.27249028,\n",
       "        2.28319998,  2.33011927,  4.05221981,  0.78032256,  3.28460301,\n",
       "        1.24591815,  3.27519619,  1.3138635 ,  2.04019181,  3.27656987,\n",
       "        2.6689068 ,  2.48642512,  1.82680053,  2.51912197,  2.75067582,\n",
       "        2.71818152,  3.09389247,  3.30603737,  4.12619706,  4.3567759 ,\n",
       "        2.59825119,  1.77957213,  5.71754652,  2.26281383,  2.31226944,\n",
       "        3.82388911,  2.05893301,  3.68990293,  1.31102794,  2.7483899 ,\n",
       "        2.83056021,  3.53355947,  3.36438786,  3.75407019,  2.61947376,\n",
       "        3.43523123,  1.87801677,  2.8093828 ,  2.0283563 ,  1.24957106,\n",
       "        3.68855916,  3.57287831,  5.87854171,  2.55234102,  2.59570487,\n",
       "        4.47580114,  3.12143885,  2.90151847,  4.2220435 ,  4.78766617,\n",
       "        4.86721979,  2.64231567,  2.92625872,  1.46681678,  1.94149   ,\n",
       "        1.80468424,  0.54346533,  2.95690015,  2.69382201,  2.89672159,\n",
       "        1.58944665,  1.89791836,  5.2963796 ,  3.76184255,  2.84971005,\n",
       "        3.71926483,  2.4923255 ,  1.16108449,  5.0462819 ,  1.83599248,\n",
       "        2.03380678,  2.96530509,  3.30289989,  3.87118291,  3.29674481,\n",
       "        2.6804921 ,  4.00733623,  2.71881778,  2.9827196 ,  3.16832291,\n",
       "        3.18291439,  3.18484882,  0.6093941 ,  2.00320924,  1.79961004,\n",
       "        3.13238606,  4.15718918,  4.1837277 ,  1.11591899,  3.97568532,\n",
       "        4.2682085 ,  2.73517017,  2.84581302,  2.29504217,  2.14197588,\n",
       "        1.95710063,  0.22234631,  3.04409623,  2.87329436,  2.50645194,\n",
       "        4.98400904,  2.86369731,  4.30745259,  3.22663826,  1.60541982,\n",
       "        1.98171903,  3.32305717,  3.17462857,  2.49689836,  4.89232501,\n",
       "        3.12357992,  3.27934186,  2.30904835,  2.71328942,  2.16506773,\n",
       "        1.67784277,  3.85267277,  2.68903589,  3.73360171,  2.01940249,\n",
       "        2.80024709,  2.065925  ,  2.79035454,  3.53781794,  2.7436661 ,\n",
       "        2.06911312,  1.26867717,  4.13090433,  1.95567112,  0.50589174,\n",
       "        3.17527734,  1.75090368,  1.40630702,  4.30059433,  1.19440167,\n",
       "        1.96470589,  4.78395882,  2.38901743,  1.31752898,  2.74711007,\n",
       "        4.84021507,  3.94950953,  3.68339381,  3.49209162,  3.26408068,\n",
       "        2.22224815,  2.21609126,  2.15523471,  4.87996028,  1.6865345 ,\n",
       "        3.07247157,  2.22012919,  4.49625606,  4.42708407,  1.22229121,\n",
       "        0.4109884 ,  3.74117381,  3.46919494,  1.43827299,  1.28971961,\n",
       "        0.72459342,  2.31074887,  2.11350141,  1.46980405,  3.85684366,\n",
       "        2.82638709,  5.26082346,  4.10001018,  2.38270823,  4.19290644,\n",
       "        3.35214234,  2.336412  ,  2.01851738,  1.41889872,  0.94711422,\n",
       "        1.28580718,  3.77584574,  1.84401352,  1.78040622,  3.70189378,\n",
       "        1.94680127,  2.08475735,  1.85361507,  3.60014281,  4.84711114,\n",
       "        2.64907723,  3.05104064,  3.10328243,  3.08876213,  2.9663525 ,\n",
       "        4.38279715,  0.86933278,  1.82633085,  4.21412736,  3.09449343,\n",
       "        4.13392916,  3.42653299,  3.52259706,  2.91885253,  3.39974184,\n",
       "        1.17919383,  3.86189551,  3.75701453,  3.16455714,  0.28074939,\n",
       "        3.31372052,  3.22454871,  2.13590686,  3.11242099,  3.01629949,\n",
       "        3.35621182,  1.88036002,  4.69487595,  2.8660057 ,  3.28208046,\n",
       "        4.28645963,  3.45221732,  4.19991553,  4.50171546,  4.04286546,\n",
       "        4.33376392,  2.2965182 ,  2.94977058,  2.80256039,  2.62406579,\n",
       "        4.95303747,  3.82633742,  4.99966654,  5.45882324,  2.23508762,\n",
       "        3.22474065,  3.1902764 ,  4.86048904,  4.51472343,  2.91991716,\n",
       "        2.90290311,  2.94943529,  2.43827511,  3.81066436,  3.00605724,\n",
       "        2.52509057,  3.82888854,  3.46109971,  3.52477017,  4.25988578,\n",
       "        4.98947745,  1.6801442 ,  1.9549994 ,  1.18198094,  1.53203449,\n",
       "        2.11913866,  2.68743023,  3.26591427,  2.2216664 ,  0.46808436])"
      ]
     },
     "execution_count": 100,
     "metadata": {},
     "output_type": "execute_result"
    }
   ],
   "source": [
    "#Aleatorios\n",
    "import random \n",
    "\n",
    "random.seed(175)  #semilla aleatoria para producir números aleatorios\n",
    "\n",
    "x1 = np.random.rand(500)      # 500 números de uniform distribution [0,1] =rand \n",
    "x2 = np.random.rand(500)      # uniform distribution [0,1]\n",
    "x3 = np.random.rand(500)      # uniform distribution [0,1]\n",
    "x4 = np.random.rand(500)      # uniform distribution [0,1]\n",
    "e = np.random.normal(0,1,500) # normal distribution mean = 0 and sd = 1\n",
    "\n",
    "# Poblacional regression (Data Generating Process GDP)\n",
    "\n",
    "\n",
    "Y = 1 + 0.8*x1 + 1.2*x2 + 0.5*x3 + 1.5*x4 + e\n",
    "Y"
   ]
  },
  {
   "cell_type": "code",
   "execution_count": 101,
   "metadata": {},
   "outputs": [
    {
     "data": {
      "text/plain": [
       "array([[1.        , 0.42065599, 0.7702674 , 0.46013913, 0.97209977],\n",
       "       [1.        , 0.54306598, 0.34923081, 0.32033356, 0.85355502],\n",
       "       [1.        , 0.03555558, 0.26934049, 0.88846397, 0.59526898],\n",
       "       ...,\n",
       "       [1.        , 0.73293105, 0.01222204, 0.18080452, 0.55615452],\n",
       "       [1.        , 0.65842668, 0.22881853, 0.69012669, 0.11184282],\n",
       "       [1.        , 0.1756457 , 0.72036714, 0.41167129, 0.0796391 ]])"
      ]
     },
     "execution_count": 101,
     "metadata": {},
     "output_type": "execute_result"
    }
   ],
   "source": [
    "X = np.column_stack((np.ones(500),x1,x2,x3,x4))  #difernetes tamños de X\n",
    "#juntar todo en una sola matriz\n",
    "X"
   ]
  },
  {
   "cell_type": "code",
   "execution_count": 102,
   "metadata": {},
   "outputs": [
    {
     "name": "stdout",
     "output_type": "stream",
     "text": [
      "[0.90137591 0.82888202 1.50221568 0.50139047 1.36575401]\n"
     ]
    }
   ],
   "source": [
    "beta = np.linalg.inv(X.T @ X) @ ((X.T) @ Y )\n",
    "\n",
    "# inversa de una matriz\n",
    "# multiplicar matriz @\n",
    "print(beta)"
   ]
  },
  {
   "cell_type": "markdown",
   "metadata": {},
   "source": [
    "# References\n",
    "\n",
    "## Numpy \n",
    "https://numpy.org/doc/stable/reference/arrays.html\n",
    "\n",
    "https://www.kaggle.com/code/hkumls/intensive-python-tutorial-numpy/notebook"
   ]
  }
 ],
 "metadata": {
  "kernelspec": {
   "display_name": "Python 3 (ipykernel)",
   "language": "python",
   "name": "python3"
  },
  "language_info": {
   "codemirror_mode": {
    "name": "ipython",
    "version": 3
   },
   "file_extension": ".py",
   "mimetype": "text/x-python",
   "name": "python",
   "nbconvert_exporter": "python",
   "pygments_lexer": "ipython3",
   "version": "3.9.12"
  }
 },
 "nbformat": 4,
 "nbformat_minor": 4
}
