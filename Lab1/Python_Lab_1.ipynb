{
 "cells": [
  {
   "cell_type": "markdown",
   "metadata": {},
   "source": [
    "# Laboratorio 1 Python\n",
    "\n",
    "## <a id='1.0'> 1.0 Types of variables  </a> \n"
   ]
  },
  {
   "cell_type": "code",
   "execution_count": null,
   "metadata": {},
   "outputs": [],
   "source": [
    "#En el espacio de cuadro: no dentro del código\n",
    "\n",
    "# Crtl + Enter  correr\n",
    "# B             añadir linea de codigo\n",
    "# DD            borrar linea de codigo\n",
    "# Z             recuperar\n",
    "\n",
    "# (seleccionar):\n",
    "# Crtl +  /                pasar de código a comentario (vicev)\n",
    "# Shift + M                unir celdas de codigo\n",
    "# Crtl  + Shift + -        dividir celdas de codigo\n",
    "#  Shift + tecla ↑↓        seleccionar varias líneas de codigo  "
   ]
  },
  {
   "cell_type": "code",
   "execution_count": 14,
   "metadata": {},
   "outputs": [
    {
     "name": "stdout",
     "output_type": "stream",
     "text": [
      "3.141 <class 'float'>\n",
      "3 <class 'int'>\n",
      "3.0 <class 'float'>\n",
      "My first python code <class 'str'>\n"
     ]
    }
   ],
   "source": [
    "a1 = 3.141\n",
    "print(a1, type(a1))\n",
    "\n",
    "c = int(a1)  #entero de numero decimal\n",
    "print(c, type(c))\n",
    "\n",
    "d=float(c)  #para que tenga decimal de nuevo\n",
    "print(d, type(d))\n",
    "\n",
    "c1 = 'My first python code'  \n",
    "print(c1, type(c1)) # providing varaibles's type "
   ]
  },
  {
   "cell_type": "code",
   "execution_count": 15,
   "metadata": {},
   "outputs": [
    {
     "name": "stdout",
     "output_type": "stream",
     "text": [
      "First python code \n",
      " at R y python Class\n",
      "First python code : at R y python Class\n"
     ]
    }
   ],
   "source": [
    "# 1. Incluir espacios entre x1 y x2 string\n",
    "\n",
    "c1 = \"First python code\"\n",
    "c2 = \"at R y python Class\"\n",
    "\n",
    "    #1. parrafos diferentes      print(x1 ,\\n, x2) \n",
    "\n",
    "print(c1,'\\n',c2)  \n",
    "\n",
    "    #2. cotinuidad en línea      print(x1, \" : \", x2)\n",
    "\n",
    "print(c1 + \" : \" + c2)"
   ]
  },
  {
   "cell_type": "code",
   "execution_count": 19,
   "metadata": {},
   "outputs": [
    {
     "name": "stdout",
     "output_type": "stream",
     "text": [
      "First python code : semester 2022-1\n",
      "First python code : semester 2022-1\n",
      "First python code : semester 2022-1\n"
     ]
    }
   ],
   "source": [
    "    # 3.  f-string\n",
    "c1 = \"First python code\"\n",
    "        # crea un string llamando a un string\n",
    "        # f'{es una variable string c1} ==> no hay coma\n",
    "print(f'{c1} : semester 2022-1')\n",
    "\n",
    "c1 = \"First python code\"\n",
    "dato = 2022\n",
    "\n",
    "print(f'{c1} : semester {dato}-1')  #print(f' jsd {} nakjds ')\n",
    "print('{} : semester {}-1'.format(c1,dato))   #en format(se incluye x1,x2)"
   ]
  },
  {
   "cell_type": "code",
   "execution_count": 23,
   "metadata": {},
   "outputs": [
    {
     "name": "stdout",
     "output_type": "stream",
     "text": [
      "Fisrt letter is : F\n",
      "Fisrt word is : First\n"
     ]
    },
    {
     "data": {
      "text/plain": [
       "'First s'"
      ]
     },
     "execution_count": 23,
     "metadata": {},
     "output_type": "execute_result"
    }
   ],
   "source": [
    "#2. Sustraer de string\n",
    "\n",
    "c1 = \"First string\"\n",
    "\n",
    "print('Fisrt letter is :',c1[0])  #letra\n",
    "\n",
    "print('Fisrt word is :',c1[0:5])   #frase\n",
    "\n",
    "c1[0:7]"
   ]
  },
  {
   "cell_type": "markdown",
   "metadata": {},
   "source": [
    "## <a id='1.2'> 1.2 Boolean  (true=1, false=0)  </a> \n",
    "\n",
    "It’s used to represent the truth value of an expression."
   ]
  },
  {
   "cell_type": "code",
   "execution_count": 24,
   "metadata": {
    "scrolled": true
   },
   "outputs": [
    {
     "data": {
      "text/plain": [
       "True"
      ]
     },
     "execution_count": 24,
     "metadata": {},
     "output_type": "execute_result"
    }
   ],
   "source": [
    "#3. NOTA: EL PREDETERMINADO ES LA PALABRA T/F , CON int() SE CONVIERTE A NÚMERO\n",
    "\"a\" == \"a\""
   ]
  },
  {
   "cell_type": "code",
   "execution_count": 27,
   "metadata": {},
   "outputs": [
    {
     "data": {
      "text/plain": [
       "False"
      ]
     },
     "execution_count": 27,
     "metadata": {},
     "output_type": "execute_result"
    }
   ],
   "source": [
    "1 > 1"
   ]
  },
  {
   "cell_type": "code",
   "execution_count": 41,
   "metadata": {},
   "outputs": [
    {
     "data": {
      "text/plain": [
       "True"
      ]
     },
     "execution_count": 41,
     "metadata": {},
     "output_type": "execute_result"
    }
   ],
   "source": [
    "z1 = (1==1)  # z1 = (true) = true\n",
    "z1 "
   ]
  },
  {
   "cell_type": "code",
   "execution_count": 43,
   "metadata": {},
   "outputs": [
    {
     "data": {
      "text/plain": [
       "1"
      ]
     },
     "execution_count": 43,
     "metadata": {},
     "output_type": "execute_result"
    }
   ],
   "source": [
    "int(z1)  # true is 1 in numerical system"
   ]
  },
  {
   "cell_type": "code",
   "execution_count": 25,
   "metadata": {},
   "outputs": [
    {
     "name": "stdout",
     "output_type": "stream",
     "text": [
      "False\n"
     ]
    },
    {
     "data": {
      "text/plain": [
       "0"
      ]
     },
     "execution_count": 25,
     "metadata": {},
     "output_type": "execute_result"
    }
   ],
   "source": [
    "z2 = (10 > 20) \n",
    "print(z2)\n",
    "int(z2) # false is 0 in numerical system"
   ]
  },
  {
   "cell_type": "markdown",
   "metadata": {},
   "source": [
    "## <a id='1.3'> 1.3 Tuple ()  </a> \n",
    "\n",
    "It is an ordered and immutable Python object, ES INMUTABLE"
   ]
  },
  {
   "cell_type": "code",
   "execution_count": 26,
   "metadata": {},
   "outputs": [
    {
     "name": "stdout",
     "output_type": "stream",
     "text": [
      "(1, 4, 8, 10, 20, 15, 4, 5, 3, 8) <class 'tuple'>\n"
     ]
    }
   ],
   "source": [
    "T1 = (1,4,8,10,20,15,4,5,3,8)\n",
    "print(T1,type(T1))"
   ]
  },
  {
   "cell_type": "code",
   "execution_count": 17,
   "metadata": {
    "scrolled": true
   },
   "outputs": [
    {
     "name": "stdout",
     "output_type": "stream",
     "text": [
      " Suma: 78 \n",
      " Minimo: 1 \n",
      " Maximo: 20\n"
     ]
    }
   ],
   "source": [
    "#4. Operaciones aritméticas (tambien se hacen en lista)\n",
    "\n",
    "print(' Suma:', sum(T1),\"\\n\", \"Minimo:\", min(T1), '\\n', \"Maximo:\", max(T1))"
   ]
  },
  {
   "cell_type": "code",
   "execution_count": 27,
   "metadata": {},
   "outputs": [
    {
     "data": {
      "text/plain": [
       "10"
      ]
     },
     "execution_count": 27,
     "metadata": {},
     "output_type": "execute_result"
    }
   ],
   "source": [
    "#5. numero de elementos: len()\n",
    "\n",
    "len(T1) # lenght of tuple"
   ]
  },
  {
   "cell_type": "markdown",
   "metadata": {},
   "source": [
    "### 6. Indexing Tuple: se extrae desde el 0"
   ]
  },
  {
   "cell_type": "code",
   "execution_count": 39,
   "metadata": {},
   "outputs": [
    {
     "name": "stdout",
     "output_type": "stream",
     "text": [
      "(1, 4, 1, 10, 20)\n",
      "8\n"
     ]
    },
    {
     "data": {
      "text/plain": [
       "9"
      ]
     },
     "execution_count": 39,
     "metadata": {},
     "output_type": "execute_result"
    }
   ],
   "source": [
    "T1 = (1,4,1,10,20,15,4,5,3,8)\n",
    "\n",
    "   #a. extraer grupo de elementos\n",
    "T1[0:5]\n",
    "print(T1[0:5])\n",
    "    \n",
    "    #b. extraer ultimo elemento\n",
    "T1[-1]\n",
    "print(T1[-1])\n",
    " \n",
    "    #c. T1.index(x1) posicion donde se encuetra numero x1\n",
    "T1.index(8)"
   ]
  },
  {
   "cell_type": "code",
   "execution_count": 22,
   "metadata": {},
   "outputs": [
    {
     "ename": "TypeError",
     "evalue": "'tuple' object does not support item assignment",
     "output_type": "error",
     "traceback": [
      "\u001b[1;31m---------------------------------------------------------------------------\u001b[0m",
      "\u001b[1;31mTypeError\u001b[0m                                 Traceback (most recent call last)",
      "Input \u001b[1;32mIn [22]\u001b[0m, in \u001b[0;36m<cell line: 2>\u001b[1;34m()\u001b[0m\n\u001b[0;32m      1\u001b[0m \u001b[38;5;66;03m# It is not possible to change\u001b[39;00m\n\u001b[1;32m----> 2\u001b[0m T1[\u001b[38;5;241m0\u001b[39m] \u001b[38;5;241m=\u001b[39m \u001b[38;5;241m4\u001b[39m\n",
      "\u001b[1;31mTypeError\u001b[0m: 'tuple' object does not support item assignment"
     ]
    }
   ],
   "source": [
    "# No possible to change porque es una Tupla\n",
    "T1[0] = 4   "
   ]
  },
  {
   "cell_type": "markdown",
   "metadata": {},
   "source": [
    "## <a id='1.4'> 1.4 List  </a> \n",
    "\n",
    "#### It is an ordered and mutable Python container. Puede ser ALTERADA"
   ]
  },
  {
   "cell_type": "code",
   "execution_count": 40,
   "metadata": {},
   "outputs": [
    {
     "name": "stdout",
     "output_type": "stream",
     "text": [
      "[] <class 'list'>\n"
     ]
    }
   ],
   "source": [
    "L1 = []\n",
    "print(L1, type(L1))"
   ]
  },
  {
   "cell_type": "code",
   "execution_count": 42,
   "metadata": {},
   "outputs": [
    {
     "data": {
      "text/plain": [
       "['ATE', 'BARRANCO', 'BREÑA', 'CALLAO', 'CARABAYLLO']"
      ]
     },
     "execution_count": 42,
     "metadata": {},
     "output_type": "execute_result"
    }
   ],
   "source": [
    "dis1 = [\"ATE\", 'BARRANCO','BREÑA', 'CALLAO', 'CARABAYLLO']\n",
    "dis1"
   ]
  },
  {
   "cell_type": "code",
   "execution_count": 45,
   "metadata": {},
   "outputs": [
    {
     "data": {
      "text/plain": [
       "['ATE',\n",
       " 'BARRANCO',\n",
       " 'BREÑA',\n",
       " 'CALLAO',\n",
       " 'CARABAYLLO',\n",
       " 'CHACLACAYO',\n",
       " 'CHORRILLOS',\n",
       " 'CIENEGUILLA',\n",
       " 'COMAS',\n",
       " 'EL_AGUSTINO',\n",
       " 'INDEPENDENCIA']"
      ]
     },
     "execution_count": 45,
     "metadata": {},
     "output_type": "execute_result"
    }
   ],
   "source": [
    "dis2 = dis1+['CHACLACAYO','CHORRILLOS','CIENEGUILLA'\n",
    "        ,'COMAS','EL_AGUSTINO','INDEPENDENCIA']\n",
    "dis2"
   ]
  },
  {
   "cell_type": "code",
   "execution_count": 46,
   "metadata": {},
   "outputs": [
    {
     "data": {
      "text/plain": [
       "11"
      ]
     },
     "execution_count": 46,
     "metadata": {},
     "output_type": "execute_result"
    }
   ],
   "source": [
    "    #a. Numero de elementos de lista\n",
    "len(dis2)"
   ]
  },
  {
   "cell_type": "code",
   "execution_count": 50,
   "metadata": {},
   "outputs": [
    {
     "name": "stdout",
     "output_type": "stream",
     "text": [
      "BARRANCO\n"
     ]
    },
    {
     "data": {
      "text/plain": [
       "['BREÑA', 'CALLAO', 'CARABAYLLO']"
      ]
     },
     "execution_count": 50,
     "metadata": {},
     "output_type": "execute_result"
    }
   ],
   "source": [
    "    #b. Idenxing: Que aparezca elemento en posicion 1\n",
    "\n",
    "dis2[1]\n",
    "print(dis2[1])\n",
    "dis2[2:5]   # (5-1=4)\n",
    "\n",
    "dis2[-5:-1]  #ultima 1 hasta 5 menos"
   ]
  },
  {
   "cell_type": "code",
   "execution_count": 47,
   "metadata": {
    "scrolled": false
   },
   "outputs": [
    {
     "name": "stdout",
     "output_type": "stream",
     "text": [
      "['CALLAO', 'BARRANCO', 'BREÑA', 'CALLAO', 'CARABAYLLO', 'CHACLACAYO', 'CHORRILLOS', 'CIENEGUILLA', 'COMAS', 'EL_AGUSTINO', 'INDEPENDENCIA']\n"
     ]
    }
   ],
   "source": [
    "    #c. ALTERAR elementos: Transponer\n",
    "        # lista[posicion a alterar]= con lo que se reemplaza\n",
    "   \n",
    "dis2[0] = \"CALLAO\"\n",
    "print(dis2)"
   ]
  },
  {
   "cell_type": "code",
   "execution_count": 51,
   "metadata": {},
   "outputs": [
    {
     "name": "stdout",
     "output_type": "stream",
     "text": [
      "[1, 5, 5, 5, 8, 8, 9, 10, 13, 13, 20]\n"
     ]
    }
   ],
   "source": [
    "   #c. ALTERAR elementos: Ordenar\n",
    "\n",
    "num = [13,5,5,8,9,10,5,8,13,1,20]\n",
    "num.sort()\n",
    "print(num)"
   ]
  },
  {
   "cell_type": "code",
   "execution_count": 53,
   "metadata": {},
   "outputs": [
    {
     "name": "stdout",
     "output_type": "stream",
     "text": [
      "[1, 5, 5, 5, 8, 8, 9, 10, 13, 13, 20, 102, 102]\n",
      "[1, 5, 5, 5, 8, 8, 9, 10, 13, 13, 20, 102, 102, 10, 20, 30]\n"
     ]
    }
   ],
   "source": [
    "   #c. ALTERAR elementos: Agregar  lista.append(valores a unir)\n",
    "\n",
    "num.append(102)    # agregar numero\n",
    "print(num)\n",
    "\n",
    "\n",
    "num2 = [10,20,30]  # agregar lista\n",
    "num.extend(num2)\n",
    "print(num)"
   ]
  },
  {
   "cell_type": "code",
   "execution_count": 54,
   "metadata": {
    "scrolled": false
   },
   "outputs": [
    {
     "name": "stdout",
     "output_type": "stream",
     "text": [
      "Suma: 361 \n",
      " Minimo: 1 \n",
      " Maximo: 102\n"
     ]
    }
   ],
   "source": [
    "    #d. Operaciones: (tambien se hacen en lista)\n",
    "print(\"Suma:\", sum(num),'\\n', \"Minimo:\", min(num), '\\n', \"Maximo:\", max(num))"
   ]
  },
  {
   "cell_type": "markdown",
   "metadata": {},
   "source": [
    "## <a id='1.5'> 1.5 Diccionario  </a> \n",
    "\n",
    "Hay un nombre y valor         { keys: valor }\n"
   ]
  },
  {
   "cell_type": "code",
   "execution_count": 56,
   "metadata": {},
   "outputs": [
    {
     "name": "stdout",
     "output_type": "stream",
     "text": [
      "{'Majes': 40520, 'Mollendo': 40701, 'Islay': 40704, 'Cotahuasi': 40801, 'Alca': 40802} /n <class 'dict'>\n"
     ]
    }
   ],
   "source": [
    "#  x = { 'Nombre etiqueta' : [x1 x2 x3], numero, string}\n",
    "\n",
    "Postal_code = {'Majes': 40520, 'Mollendo': 40701, 'Islay': 40704, 'Cotahuasi': 40801, 'Alca': 40802 }\n",
    "print(Postal_code, type(Postal_code))"
   ]
  },
  {
   "cell_type": "code",
   "execution_count": 57,
   "metadata": {},
   "outputs": [
    {
     "data": {
      "text/plain": [
       "dict_keys(['Majes', 'Mollendo', 'Islay', 'Cotahuasi', 'Alca'])"
      ]
     },
     "execution_count": 57,
     "metadata": {},
     "output_type": "execute_result"
    }
   ],
   "source": [
    "    #a. Solo mostrar llaves\n",
    "Postal_code.keys()"
   ]
  },
  {
   "cell_type": "code",
   "execution_count": 59,
   "metadata": {},
   "outputs": [
    {
     "data": {
      "text/plain": [
       "40802"
      ]
     },
     "execution_count": 59,
     "metadata": {},
     "output_type": "execute_result"
    }
   ],
   "source": [
    "    #b. Obtener informacion sobre una llave \n",
    "#b.1    \n",
    "Postal_code['Alca']\n",
    "\n",
    "#b.2\n",
    "Postal_code.get('Alca')"
   ]
  },
  {
   "cell_type": "code",
   "execution_count": 60,
   "metadata": {},
   "outputs": [
    {
     "data": {
      "text/plain": [
       "{'Majes': 40520, 'Mollendo': 40701, 'Cotahuasi': 40801, 'Alca': 40802}"
      ]
     },
     "execution_count": 60,
     "metadata": {},
     "output_type": "execute_result"
    }
   ],
   "source": [
    "    #c. Eliminar llave + elemento \n",
    "\n",
    "Postal_code.pop('Islay')\n",
    "Postal_code"
   ]
  },
  {
   "cell_type": "code",
   "execution_count": 61,
   "metadata": {},
   "outputs": [],
   "source": [
    "    #d. Añadir llave + elemento\n",
    "#d.1\n",
    "Postal_code.update( { \"CHARCANA\" :  40803 } )\n",
    "\n",
    "#d.2\n",
    "#diccioanrio dentro de otro diccionario\n",
    "Postal_code.update( {\"LOMAS\": {\"UBIGEO\": 40311, \"Poverty Rate\" : \"18.2%\", \"Population\" : \"20 mil\"}})\n"
   ]
  },
  {
   "cell_type": "code",
   "execution_count": 62,
   "metadata": {},
   "outputs": [
    {
     "data": {
      "text/plain": [
       "{'Majes': 40520,\n",
       " 'Mollendo': 40701,\n",
       " 'Cotahuasi': 40801,\n",
       " 'Alca': 40802,\n",
       " 'CHARCANA': 40803,\n",
       " 'LOMAS': {'UBIGEO': 40311, 'Poverty Rate': '18.2%', 'Population': '20 mil'}}"
      ]
     },
     "execution_count": 62,
     "metadata": {},
     "output_type": "execute_result"
    }
   ],
   "source": [
    "Postal_code"
   ]
  },
  {
   "cell_type": "code",
   "execution_count": 63,
   "metadata": {},
   "outputs": [
    {
     "data": {
      "text/plain": [
       "'18.2%'"
      ]
     },
     "execution_count": 63,
     "metadata": {},
     "output_type": "execute_result"
    }
   ],
   "source": [
    "     #b. Obtener informacion sobre una llave \n",
    "#b.3\n",
    "Postal_code.get('LOMAS').get('Poverty Rate')\n",
    "\n",
    "Postal_code['LOMAS']['Poverty Rate']"
   ]
  },
  {
   "cell_type": "code",
   "execution_count": 67,
   "metadata": {},
   "outputs": [
    {
     "data": {
      "text/plain": [
       "{'Fray Martin': 15001,\n",
       " 'Santa Rosa de Puquio': 15003,\n",
       " 'Cuchicorral': 15004,\n",
       " 'Santiago de Punchauca': 15006,\n",
       " 'La Cruz (11 Amigos)': 15018,\n",
       " 'Cerro Cañon': 15019,\n",
       " 'Cabaña Suche': 15046,\n",
       " 'San Lorenzo': 15122,\n",
       " 'Jose Carlos Mariategui': 15079,\n",
       " 'Pascal': 15081,\n",
       " 'La Esperanza': 15082,\n",
       " 'Fundo Pancha Paula': 15083,\n",
       " 'Olfa': 15088,\n",
       " 'Rio Seco': 15123,\n",
       " 'Paraiso': 15004,\n",
       " 'El Rosario': 15011,\n",
       " 'Cerro Puquio': 15012,\n",
       " 'La Campana': 15019,\n",
       " 'Las Animas': 15022,\n",
       " 'Vetancio': 15023,\n",
       " 'Roma Alta': 15026,\n",
       " 'San Jose': 15476,\n",
       " 'San Pedro de Carabayllo': 15121,\n",
       " 'Huacoy': 15483,\n",
       " 'Fundo Pampa Libre': 15487,\n",
       " 'Ex Fundo Santa Ines': 15491,\n",
       " 'Reposo': 15494,\n",
       " 'Carmelito': 15498,\n",
       " 'Santa Elena': 15047,\n",
       " 'Don Luis': 15049,\n",
       " 'Santa Ines Parcela': 15063,\n",
       " 'Asociacion Santa Ines': 15082,\n",
       " 'Roma Baja': 15083,\n",
       " 'Residencial Santa Lucia': 15121,\n",
       " 'San Francisco': 15122,\n",
       " 'Santa Margarita - Molinos': 15313,\n",
       " 'Sipan Peru': 15316,\n",
       " 'Fundo Cuadros': 15318,\n",
       " 'Bello Horizonte': 15319,\n",
       " 'El Hueco': 15320,\n",
       " 'Ex Fundo Mariategui': 15321,\n",
       " 'Naranjito': 15324,\n",
       " 'Vista Hermosa': 15320,\n",
       " 'El Sabroso de Jose Carlos Mariategui': 15320,\n",
       " 'Granja Carabayllo': 15320,\n",
       " 'Agropecuario Valle el Chillon': 15320,\n",
       " 'Camino Real': 15320,\n",
       " 'Copacabana': 15320,\n",
       " 'El Trebol': 15121,\n",
       " 'Tablada la Virgen': 15320,\n",
       " 'San Fernando de Carabayllo': 15320,\n",
       " 'San Fernando de Copacabana': 15121,\n",
       " 'La Manzana': 15320,\n",
       " 'Chacra Grande': 15320,\n",
       " 'Torres de Copacabana': 15121,\n",
       " 'Chaclacayo': 15122,\n",
       " 'Chorrillos': 15121,\n",
       " 'Cieneguilla': 15121,\n",
       " 'Lindero': 15121,\n",
       " 'Pichicato': 15320,\n",
       " 'San Isidro': 15004,\n",
       " 'San Vicente': 15320,\n",
       " 'Piedra Liza': 15320,\n",
       " 'Santa Rosa de Chontay (Chontay)': 15320,\n",
       " 'La Libertad': 15320,\n",
       " 'El Agustino': 15121,\n",
       " 'Independencia': 15121,\n",
       " 'Jesus Maria': 15121,\n",
       " 'La Molina': 15320,\n",
       " 'La Victoria': 15121,\n",
       " 'Lince': 15319,\n",
       " 'Las Palmeras': 15121,\n",
       " 'Chosica': 15121,\n",
       " 'Lurin': 15121,\n",
       " 'Los Almacigos': 15320,\n",
       " 'Rinconada del Puruhuay': 15320,\n",
       " 'Fundo Santa Genoveva': 15121,\n",
       " 'Los Maderos': 15121,\n",
       " 'Casco Viejo': 15121,\n",
       " 'Vista Alegre': 15121,\n",
       " 'Buena Vista Alta': 15320,\n",
       " 'Lomas Pucara': 15320,\n",
       " 'Fundo la Querencia': 15320,\n",
       " 'Magdalena del Mar': 15122,\n",
       " 'Pueblo Libre': 15122,\n",
       " 'Miraflores': 15122,\n",
       " 'Pachacamac': 15122,\n",
       " 'Puente Manchay': 15122,\n",
       " 'Tambo Inga': 15122,\n",
       " 'Pampa Flores': 15122,\n",
       " 'Manchay Alto Lote B': 15122,\n",
       " 'Invasion Cementerio': 15121,\n",
       " 'Manchay Bajo': 15121,\n",
       " 'Santa Rosa de Mal Paso': 15122,\n",
       " 'Cardal': 15122,\n",
       " 'Jatosisa': 15121,\n",
       " 'Tomina': 15121,\n",
       " 'Pucusana': 15122,\n",
       " 'Honda': 15122,\n",
       " 'Quipa': 15121,\n",
       " 'Los Pelicanos': 15122,\n",
       " 'Playa Puerto Bello': 15122,\n",
       " 'Ñaves': 15122,\n",
       " 'Granja Santa Elena': 15472,\n",
       " 'Alvatroz II': 15476,\n",
       " 'Poseidon - Lobo Varado': 15054,\n",
       " 'Playa Minka Mar': 15056,\n",
       " 'Playa Acantilado': 15057,\n",
       " 'Puente Piedra': 15058,\n",
       " 'Punta Hermosa': 15063,\n",
       " 'Capilla Lucumo': 15064,\n",
       " 'Cucuya': 15066,\n",
       " 'Pampapacta': 15067,\n",
       " 'Avicola San Cirilo de Loma Negra - 03': 15593,\n",
       " 'Avicola San Cirilo de Loma Negra - 02': 15594,\n",
       " 'Avicola San Cirilo de Loma Negra - 01': 15593,\n",
       " 'Pampa Mamay': 15593,\n",
       " 'Cerro Botija': 15593,\n",
       " 'Agricultores y Ganaderos': 15593,\n",
       " 'Pampa Malanche Avicola Puma': 15593,\n",
       " 'Punta Negra': 15593,\n",
       " 'Chancheria': 15593,\n",
       " 'Rimac': 15311,\n",
       " 'San Bartolo': 15312,\n",
       " 'Plantel 41': 15313,\n",
       " 'Granja 4': 15314,\n",
       " 'Granja 5': 15316,\n",
       " 'Granja 07': 15324,\n",
       " 'Granja 44': 15326,\n",
       " 'Granja 47': 15327,\n",
       " 'Santa Maria I': 15328,\n",
       " 'Las Torres Santa Fe': 15332,\n",
       " 'San Francisco de Borja': 15003,\n",
       " 'San Juan de Lurigancho': 15006,\n",
       " 'Ciudad de Dios': 15007,\n",
       " 'San Luis': 15008,\n",
       " 'Barrio Obrero Industrial': 15009,\n",
       " 'San Miguel': 15011,\n",
       " 'Santa Anita - los Ficus': 15018,\n",
       " 'Santa Maria del Mar': 15022,\n",
       " 'Don Bruno': 15311,\n",
       " 'Santa Rosa': 15328,\n",
       " 'Santiago de Surco': 15331,\n",
       " 'Surquillo': 15332,\n",
       " 'Villa el Salvador': 15333,\n",
       " 'Villa Maria del Triunfo': 15046,\n",
       " 'Pueblo libre': 15001}"
      ]
     },
     "execution_count": 67,
     "metadata": {},
     "output_type": "execute_result"
    }
   ],
   "source": [
    "    #e. CREAR DICCIONARIO\n",
    "#1. Configurar keys + values\n",
    "# keys\n",
    "cities = ['Fray Martin','Santa Rosa de Puquio','Cuchicorral','Santiago de Punchauca','La Cruz (11 Amigos)','Cerro Cañon','Cabaña Suche','San Lorenzo','Jose Carlos Mariategui','Pascal','La Esperanza','Fundo Pancha Paula','Olfa','Rio Seco','Paraiso','El Rosario','Cerro Puquio','La Campana','Las Animas','Vetancio','Roma Alta','San Jose','San Pedro de Carabayllo','Huacoy','Fundo Pampa Libre','Ex Fundo Santa Ines','Reposo','Carmelito','Santa Elena','Don Luis','Santa Ines Parcela','Asociacion Santa Ines','Roma Baja','Residencial Santa Lucia','San Francisco','Santa Margarita - Molinos','Sipan Peru','Fundo Cuadros','Bello Horizonte','El Hueco','Ex Fundo Mariategui','Naranjito','Vista Hermosa','El Sabroso de Jose Carlos Mariategui','Granja Carabayllo','Agropecuario Valle el Chillon','Camino Real','Copacabana','El Trebol','Tablada la Virgen','San Fernando de Carabayllo','San Fernando de Copacabana','La Manzana','Chacra Grande','Torres de Copacabana','San Pedro de Carabayllo','San Lorenzo','Chaclacayo','Chorrillos','Cieneguilla','Lindero','Pichicato','San Isidro','San Vicente','Piedra Liza','Santa Rosa de Chontay (Chontay)','La Libertad','El Agustino','Independencia','Jesus Maria','La Molina','La Victoria','Lince','Las Palmeras','Chosica','Lurin','Los Almacigos','Rinconada del Puruhuay','Fundo Santa Genoveva','Los Maderos','Casco Viejo','Vista Alegre','Buena Vista Alta','Lomas Pucara','Fundo la Querencia','Magdalena del Mar','Pueblo Libre','Miraflores','Pachacamac','Puente Manchay','Tambo Inga','Pampa Flores','Manchay Alto Lote B','Invasion Cementerio','Manchay Bajo','Santa Rosa de Mal Paso','Cardal','Jatosisa','Tomina','Pucusana','Honda','Quipa','Los Pelicanos','Playa Puerto Bello','Ñaves','Granja Santa Elena','Alvatroz II','Poseidon - Lobo Varado','Playa Minka Mar','Playa Acantilado','Puente Piedra','Punta Hermosa','Capilla Lucumo','Cucuya','Pampapacta','Avicola San Cirilo de Loma Negra - 03','Avicola San Cirilo de Loma Negra - 02','Avicola San Cirilo de Loma Negra - 01','Pampa Mamay','Cerro Botija','Agricultores y Ganaderos','Pampa Malanche Avicola Puma','Punta Negra','Chancheria','Rimac','San Bartolo','Plantel 41','Granja 4','Granja 5','Granja 07','Granja 44','Granja 47','Santa Maria I','Las Torres Santa Fe','San Francisco de Borja','San Isidro','San Juan de Lurigancho','Ciudad de Dios','San Luis','Barrio Obrero Industrial','San Miguel','Santa Anita - los Ficus','Santa Maria del Mar','Don Bruno','Santa Rosa','Santiago de Surco','Surquillo','Villa el Salvador','Villa Maria del Triunfo', 'Pueblo libre']\n",
    "# values\n",
    "postal_code1 = [15001,15003,15004,15006,15018,15019,15046,15072,15079,15081,15082,15083,15088,15123,15004,15011,15012,15019,15022,15023,15026,15476,15479,15483,15487,15491,15494,15498,15047,15049,15063,15082,15083,15121,15122,15313,15316,15318,15319,15320,15321,15324,15320,15320,15320,15320,15320,15320,15121,15320,15320,15121,15320,15320,15121,15121,15122,15122,15121,15121,15121,15320,15320,15320,15320,15320,15320,15121,15121,15121,15320,15121,15319,15121,15121,15121,15320,15320,15121,15121,15121,15121,15320,15320,15320,15122,15122,15122,15122,15122,15122,15122,15122,15121,15121,15122,15122,15121,15121,15122,15122,15121,15122,15122,15122,15472,15476,15054,15056,15057,15058,15063,15064,15066,15067,15593,15594,15593,15593,15593,15593,15593,15593,15593,15311,15312,15313,15314,15316,15324,15326,15327,15328,15332,15003,15004,15006,15007,15008,15009,15011,15018,15022,15311,15328,15331,15332,15333,15046, 15001]\n",
    "\n",
    "\n",
    "#2. x1= dict(zip(keys_lista, values_lista))\n",
    "# Return a dictionarie\n",
    "ct_pc = dict( zip( cities , postal_code1) )\n",
    "\n",
    "ct_pc"
   ]
  },
  {
   "cell_type": "markdown",
   "metadata": {},
   "source": [
    "## <a id='1.6'> 1.6 Arrays = Flechas (filas) and Matrix  </a> \n"
   ]
  },
  {
   "cell_type": "code",
   "execution_count": 69,
   "metadata": {},
   "outputs": [],
   "source": [
    "import numpy as np\n",
    "\n",
    "# A library is a collection of modules or a single module. \n",
    "# Libraries are the tools we will use to make our program."
   ]
  },
  {
   "cell_type": "code",
   "execution_count": 85,
   "metadata": {},
   "outputs": [
    {
     "name": "stdout",
     "output_type": "stream",
     "text": [
      "[1 2 3 4 5] <class 'numpy.ndarray'>\n",
      "[ 0  2  4  6  8 10 12 14 16 18]\n",
      "[ 1  2  3  4  5  6  7  8  9 10]\n",
      "[0, 1, 2, 3, 4, 5, 6, 7, 8, 9, 10]\n"
     ]
    }
   ],
   "source": [
    "# 1 DIMENSION\n",
    "    \n",
    "    # x1= np.array([valores]), donde d1= [valores] es un diccionario\n",
    "a = np.array( [1, 2, 3, 4, 5] )\n",
    "print(a, type(a))\n",
    "\n",
    "    #crear con formula: np.arange(x1,x2,n), flecha de x1 a x2-1, incrementa en n\n",
    "y = np.arange( 0, 20, 2 )\n",
    "print(y)\n",
    "\n",
    "    #by deafult one by one ==> y = np.arange(x1,x2, 1)\n",
    "\n",
    "y = np.arange( 1, 11)  \n",
    "print(y)\n",
    "    \n",
    "     #range(k) es lista de 0 hasta k-1\n",
    "rango_lista= list(range(11))  \n",
    "print(rango_lista)"
   ]
  },
  {
   "cell_type": "code",
   "execution_count": 51,
   "metadata": {
    "scrolled": true
   },
   "outputs": [
    {
     "data": {
      "text/plain": [
       "3.0"
      ]
     },
     "execution_count": 51,
     "metadata": {},
     "output_type": "execute_result"
    }
   ],
   "source": [
    "np.mean(a)  #media de vector\n",
    "np.std(a)  #desviacion N-1\n",
    "np.std(a,ddof=1)  #desviacion N"
   ]
  },
  {
   "cell_type": "markdown",
   "metadata": {},
   "source": [
    "Standar deviation in Python by default\n",
    "\n",
    "\\begin{equation}\n",
    " sd(x) = \\sqrt{\\frac{\\sum(x_i-\\bar{x})^2}{N-1}}\n",
    "\\end{equation}"
   ]
  },
  {
   "cell_type": "markdown",
   "metadata": {},
   "source": [
    "Standar deviation in Python \n",
    "\n",
    "\\begin{equation}\n",
    " sd(x) = \\sqrt{\\frac{\\sum(x_i-\\bar{x})^2}{N}}\n",
    "\\end{equation}"
   ]
  },
  {
   "cell_type": "code",
   "execution_count": 73,
   "metadata": {},
   "outputs": [
    {
     "name": "stdout",
     "output_type": "stream",
     "text": [
      "[[1 2 3]\n",
      " [4 5 6]]\n"
     ]
    }
   ],
   "source": [
    "# 2D DIMENSIONES\n",
    "M = np.array( [ [1, 2, 3], [4, 5, 6] ] )\n",
    "\n",
    "print(M)"
   ]
  },
  {
   "cell_type": "code",
   "execution_count": 80,
   "metadata": {
    "scrolled": true
   },
   "outputs": [
    {
     "name": "stdout",
     "output_type": "stream",
     "text": [
      " Rows   :  2 \n",
      " Columns:  3\n"
     ]
    }
   ],
   "source": [
    "# Dimensiones contabilizar:\n",
    "    # Matrix.shape (filas, columnas) \n",
    "\n",
    "M.shape\n",
    "M.shape[0]  # 0= filas\n",
    "M.shape[1]  # 1= columnas\n",
    "\n",
    "print(\" Rows   : \",M.shape[0],\"\\n\", \"Columns: \", M.shape[1])"
   ]
  },
  {
   "cell_type": "markdown",
   "metadata": {},
   "source": []
  },
  {
   "cell_type": "code",
   "execution_count": 92,
   "metadata": {},
   "outputs": [
    {
     "name": "stdout",
     "output_type": "stream",
     "text": [
      "[2 2 2 2]\n",
      "[ 0  0  0  0  1  1  1  1  2  2  2  2  3  3  3  3  4  4  4  4  5  5  5  5\n",
      "  6  6  6  6  7  7  7  7  8  8  8  8  9  9  9  9 10 10 10 10]\n",
      "[2 2 2 2 3 3 3 3 4 4 4 4]\n",
      "[1 2 1 2 1 2 1 2]\n",
      "[ 0  1  2  3  4  5  6  7  8  9 10  0  1  2  3  4  5  6  7  8  9 10  0  1\n",
      "  2  3  4  5  6  7  8  9 10  0  1  2  3  4  5  6  7  8  9 10  0  1  2  3\n",
      "  4  5  6  7  8  9 10]\n",
      "[0 4 5 0 4 5 0 4 5 0 4 5]\n",
      "[array([0, 1, 2]), array([3, 4, 5]), array([6, 7]), array([8, 9])]\n"
     ]
    }
   ],
   "source": [
    "# Repetir valores:\n",
    "\n",
    "\n",
    "    #a. np.repeat(x1,n)  x1 se repite n veces\n",
    "print(np.repeat(2, 4))  \n",
    "    #b. np.repeat(lista, n)  lista se repite n veces, ordenado x numeros\n",
    "print(np.repeat(range(11), 4))  \n",
    "print(np.repeat([2,3,4], 4)) \n",
    "\n",
    "    #c. np.title(array, n)  array o lista se repite n veces\n",
    "print(np.tile(np.array([1,2]), 4)) \n",
    "print(np.tile(range(11),5))  \n",
    "print(np.tile([0,4,5],4))\n",
    "\n",
    "    #d. np.array_split(np.arange(x1,x2),n))  del x1 a x2 se agrupa en n grupos\n",
    "\n",
    "print(np.array_split(np.arange(0,10),4))  # de [0,10] se agrupa en 4 grupos"
   ]
  },
  {
   "cell_type": "markdown",
   "metadata": {},
   "source": [
    "### Matrix"
   ]
  },
  {
   "cell_type": "code",
   "execution_count": 81,
   "metadata": {},
   "outputs": [],
   "source": [
    "#cada elemento debe ser un vector\n",
    "A = np.array([np.arange(0,10), np.arange(10,20), np.arange(30,40), np.arange(-20,-10), np.arange(2,21,2)])"
   ]
  },
  {
   "cell_type": "code",
   "execution_count": 82,
   "metadata": {},
   "outputs": [
    {
     "data": {
      "text/plain": [
       "array([[  0,   1,   2,   3,   4,   5,   6,   7,   8,   9],\n",
       "       [ 10,  11,  12,  13,  14,  15,  16,  17,  18,  19],\n",
       "       [ 30,  31,  32,  33,  34,  35,  36,  37,  38,  39],\n",
       "       [-20, -19, -18, -17, -16, -15, -14, -13, -12, -11],\n",
       "       [  2,   4,   6,   8,  10,  12,  14,  16,  18,  20]])"
      ]
     },
     "execution_count": 82,
     "metadata": {},
     "output_type": "execute_result"
    }
   ],
   "source": [
    "A"
   ]
  },
  {
   "cell_type": "code",
   "execution_count": 83,
   "metadata": {},
   "outputs": [
    {
     "data": {
      "text/plain": [
       "array([[ 30,  31,  32,  33,  34,  35,  36,  37,  38,  39],\n",
       "       [-20, -19, -18, -17, -16, -15, -14, -13, -12, -11],\n",
       "       [  2,   4,   6,   8,  10,  12,  14,  16,  18,  20]])"
      ]
     },
     "execution_count": 83,
     "metadata": {},
     "output_type": "execute_result"
    }
   ],
   "source": [
    "#Sacar filas\n",
    "A[2:5,:]  # rows selecrtion\n"
   ]
  },
  {
   "cell_type": "code",
   "execution_count": 84,
   "metadata": {},
   "outputs": [
    {
     "data": {
      "text/plain": [
       "array([[  0,   1,   2,   3,   4,   5],\n",
       "       [ 10,  11,  12,  13,  14,  15],\n",
       "       [ 30,  31,  32,  33,  34,  35],\n",
       "       [-20, -19, -18, -17, -16, -15],\n",
       "       [  2,   4,   6,   8,  10,  12]])"
      ]
     },
     "execution_count": 84,
     "metadata": {},
     "output_type": "execute_result"
    }
   ],
   "source": [
    "#Sacar columnas\n",
    "A[:,0:6]  # columns selecrtion"
   ]
  },
  {
   "cell_type": "code",
   "execution_count": 85,
   "metadata": {},
   "outputs": [
    {
     "name": "stdout",
     "output_type": "stream",
     "text": [
      "[[0. 0.]\n",
      " [0. 0.]\n",
      " [0. 0.]\n",
      " [0. 0.]\n",
      " [0. 0.]\n",
      " [0. 0.]\n",
      " [0. 0.]\n",
      " [0. 0.]]\n"
     ]
    }
   ],
   "source": [
    "M1 = np.zeros( (8, 2) )\n",
    "print(M1)"
   ]
  },
  {
   "cell_type": "code",
   "execution_count": 86,
   "metadata": {
    "scrolled": false
   },
   "outputs": [
    {
     "name": "stdout",
     "output_type": "stream",
     "text": [
      "[[1. 1. 1. 1.]\n",
      " [1. 1. 1. 1.]\n",
      " [1. 1. 1. 1.]\n",
      " [1. 1. 1. 1.]\n",
      " [1. 1. 1. 1.]\n",
      " [1. 1. 1. 1.]\n",
      " [1. 1. 1. 1.]\n",
      " [1. 1. 1. 1.]]\n"
     ]
    }
   ],
   "source": [
    "M2 = np.ones( (8, 4) )\n",
    "print(M2)"
   ]
  },
  {
   "cell_type": "markdown",
   "metadata": {},
   "source": [
    "## Join matrix"
   ]
  },
  {
   "cell_type": "code",
   "execution_count": 87,
   "metadata": {
    "scrolled": true
   },
   "outputs": [
    {
     "data": {
      "text/plain": [
       "array([[0., 0., 1., 1., 1., 1.],\n",
       "       [0., 0., 1., 1., 1., 1.],\n",
       "       [0., 0., 1., 1., 1., 1.],\n",
       "       [0., 0., 1., 1., 1., 1.],\n",
       "       [0., 0., 1., 1., 1., 1.],\n",
       "       [0., 0., 1., 1., 1., 1.],\n",
       "       [0., 0., 1., 1., 1., 1.],\n",
       "       [0., 0., 1., 1., 1., 1.]])"
      ]
     },
     "execution_count": 87,
     "metadata": {},
     "output_type": "execute_result"
    }
   ],
   "source": [
    "#Juntar matrices M1 + M2  con h (orizontal)\n",
    "\n",
    "M3 = np.hstack((M1,M2))  # stack horizontal \n",
    "M3"
   ]
  },
  {
   "cell_type": "code",
   "execution_count": 88,
   "metadata": {},
   "outputs": [
    {
     "name": "stdout",
     "output_type": "stream",
     "text": [
      "[[2 2 3 4 5 1]\n",
      " [1 5 5 9 8 2]]\n"
     ]
    }
   ],
   "source": [
    "M4 = np.array([[2,2,3,4,5,1],[1,5,5,9,8,2]])\n",
    "print(M4)"
   ]
  },
  {
   "cell_type": "code",
   "execution_count": 89,
   "metadata": {},
   "outputs": [
    {
     "name": "stdout",
     "output_type": "stream",
     "text": [
      "[[0. 0. 1. 1. 1. 1.]\n",
      " [0. 0. 1. 1. 1. 1.]\n",
      " [0. 0. 1. 1. 1. 1.]\n",
      " [0. 0. 1. 1. 1. 1.]\n",
      " [0. 0. 1. 1. 1. 1.]\n",
      " [0. 0. 1. 1. 1. 1.]\n",
      " [0. 0. 1. 1. 1. 1.]\n",
      " [0. 0. 1. 1. 1. 1.]\n",
      " [2. 2. 3. 4. 5. 1.]\n",
      " [1. 5. 5. 9. 8. 2.]]\n"
     ]
    },
    {
     "data": {
      "text/plain": [
       "array([[0., 0., 0., 0., 0., 0., 0., 0., 2., 1.],\n",
       "       [0., 0., 0., 0., 0., 0., 0., 0., 2., 5.],\n",
       "       [1., 1., 1., 1., 1., 1., 1., 1., 3., 5.],\n",
       "       [1., 1., 1., 1., 1., 1., 1., 1., 4., 9.],\n",
       "       [1., 1., 1., 1., 1., 1., 1., 1., 5., 8.],\n",
       "       [1., 1., 1., 1., 1., 1., 1., 1., 1., 2.]])"
      ]
     },
     "execution_count": 89,
     "metadata": {},
     "output_type": "execute_result"
    }
   ],
   "source": [
    "M5 = np.vstack((M3,M4)) # stack vertical \n",
    "print(M5)\n",
    "M5.T"
   ]
  },
  {
   "cell_type": "code",
   "execution_count": 90,
   "metadata": {},
   "outputs": [
    {
     "name": "stdout",
     "output_type": "stream",
     "text": [
      "[1. 1. 1. 1. 1. 1. 1. 1. 1. 1.]\n"
     ]
    }
   ],
   "source": [
    "# Create a 1D NumPy array of ones of length 10:\n",
    "w = np.ones(10)\n",
    "print(w)"
   ]
  },
  {
   "cell_type": "code",
   "execution_count": 91,
   "metadata": {
    "scrolled": true
   },
   "outputs": [
    {
     "name": "stdout",
     "output_type": "stream",
     "text": [
      "[[1. 0. 0. 0. 0. 0. 0. 0.]\n",
      " [0. 1. 0. 0. 0. 0. 0. 0.]\n",
      " [0. 0. 1. 0. 0. 0. 0. 0.]\n",
      " [0. 0. 0. 1. 0. 0. 0. 0.]\n",
      " [0. 0. 0. 0. 1. 0. 0. 0.]\n",
      " [0. 0. 0. 0. 0. 1. 0. 0.]\n",
      " [0. 0. 0. 0. 0. 0. 1. 0.]\n",
      " [0. 0. 0. 0. 0. 0. 0. 1.]]\n"
     ]
    }
   ],
   "source": [
    "# Create the identity matrix of size 8:\n",
    "I = np.eye(8)\n",
    "print(I)"
   ]
  },
  {
   "cell_type": "code",
   "execution_count": 87,
   "metadata": {},
   "outputs": [
    {
     "ename": "NameError",
     "evalue": "name 'I' is not defined",
     "output_type": "error",
     "traceback": [
      "\u001b[1;31m---------------------------------------------------------------------------\u001b[0m",
      "\u001b[1;31mNameError\u001b[0m                                 Traceback (most recent call last)",
      "Input \u001b[1;32mIn [87]\u001b[0m, in \u001b[0;36m<cell line: 1>\u001b[1;34m()\u001b[0m\n\u001b[1;32m----> 1\u001b[0m I3 \u001b[38;5;241m=\u001b[39m \u001b[43mI\u001b[49m\u001b[38;5;241m.\u001b[39mreshape(\u001b[38;5;241m32\u001b[39m, \u001b[38;5;241m2\u001b[39m)\n",
      "\u001b[1;31mNameError\u001b[0m: name 'I' is not defined"
     ]
    }
   ],
   "source": [
    "I3 = I.reshape(32, 2)\n",
    "#print(I3)"
   ]
  },
  {
   "cell_type": "code",
   "execution_count": 90,
   "metadata": {},
   "outputs": [
    {
     "data": {
      "text/plain": [
       "array([0.83955418, 0.36695914, 0.04044813, 0.16880262, 0.50221557,\n",
       "       0.71942654, 0.49558592, 0.17121426, 0.84532703, 0.33483598])"
      ]
     },
     "execution_count": 90,
     "metadata": {},
     "output_type": "execute_result"
    }
   ],
   "source": [
    "random.seed(4)\n",
    "\n",
    "np.random.rand(10)   #crea 10 valores aleatorios"
   ]
  },
  {
   "cell_type": "code",
   "execution_count": 99,
   "metadata": {},
   "outputs": [
    {
     "data": {
      "text/plain": [
       "array([0.97013988, 0.14538263, 0.74926613, 0.42933554, 0.43022219])"
      ]
     },
     "execution_count": 99,
     "metadata": {},
     "output_type": "execute_result"
    }
   ],
   "source": [
    "x1 = np.random.rand(5) \n",
    "x1"
   ]
  },
  {
   "cell_type": "code",
   "execution_count": 86,
   "metadata": {
    "scrolled": false
   },
   "outputs": [],
   "source": [
    "#Aleatorios\n",
    "import random \n",
    "\n",
    "random.seed(175)  #semilla aleatoria para producir números aleatorios\n",
    "\n",
    "x1 = np.random.rand(500)      # 500 números de uniform distribution [0,1] =rand \n",
    "x2 = np.random.rand(500)      # uniform distribution [0,1]\n",
    "x3 = np.random.rand(500)      # uniform distribution [0,1]\n",
    "x4 = np.random.rand(500)      # uniform distribution [0,1]\n",
    "e = np.random.normal(0,1,500) # normal distribution mean = 0 and sd = 1\n",
    "\n",
    "# Poblacional regression (Data Generating Process GDP)\n",
    "\n",
    "\n",
    "Y = 1 + 0.8*x1 + 1.2*x2 + 0.5*x3 + 1.5*x4 + e"
   ]
  },
  {
   "cell_type": "code",
   "execution_count": 101,
   "metadata": {},
   "outputs": [
    {
     "data": {
      "text/plain": [
       "array([[1.        , 0.42065599, 0.7702674 , 0.46013913, 0.97209977],\n",
       "       [1.        , 0.54306598, 0.34923081, 0.32033356, 0.85355502],\n",
       "       [1.        , 0.03555558, 0.26934049, 0.88846397, 0.59526898],\n",
       "       ...,\n",
       "       [1.        , 0.73293105, 0.01222204, 0.18080452, 0.55615452],\n",
       "       [1.        , 0.65842668, 0.22881853, 0.69012669, 0.11184282],\n",
       "       [1.        , 0.1756457 , 0.72036714, 0.41167129, 0.0796391 ]])"
      ]
     },
     "execution_count": 101,
     "metadata": {},
     "output_type": "execute_result"
    }
   ],
   "source": [
    "X = np.column_stack((np.ones(500),x1,x2,x3,x4))  #difernetes tamños de X\n",
    "#juntar todo en una sola matriz\n",
    "X"
   ]
  },
  {
   "cell_type": "code",
   "execution_count": 102,
   "metadata": {},
   "outputs": [
    {
     "name": "stdout",
     "output_type": "stream",
     "text": [
      "[0.90137591 0.82888202 1.50221568 0.50139047 1.36575401]\n"
     ]
    }
   ],
   "source": [
    "beta = np.linalg.inv(X.T @ X) @ ((X.T) @ Y )\n",
    "\n",
    "# inversa de una matriz\n",
    "# multiplicar matriz @\n",
    "print(beta)"
   ]
  },
  {
   "cell_type": "markdown",
   "metadata": {},
   "source": [
    "# References\n",
    "\n",
    "## Numpy \n",
    "https://numpy.org/doc/stable/reference/arrays.html\n",
    "\n",
    "https://www.kaggle.com/code/hkumls/intensive-python-tutorial-numpy/notebook"
   ]
  }
 ],
 "metadata": {
  "kernelspec": {
   "display_name": "Python 3 (ipykernel)",
   "language": "python",
   "name": "python3"
  },
  "language_info": {
   "codemirror_mode": {
    "name": "ipython",
    "version": 3
   },
   "file_extension": ".py",
   "mimetype": "text/x-python",
   "name": "python",
   "nbconvert_exporter": "python",
   "pygments_lexer": "ipython3",
   "version": "3.9.12"
  }
 },
 "nbformat": 4,
 "nbformat_minor": 4
}
