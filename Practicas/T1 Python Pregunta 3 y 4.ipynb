{
 "cells": [
  {
   "cell_type": "code",
   "execution_count": 13,
   "id": "eb426231",
   "metadata": {},
   "outputs": [],
   "source": [
    "#Importar galerias\n",
    "import numpy as np\n",
    "import pandas as pd\n",
    "import random\n",
    "from scipy.stats import t"
   ]
  },
  {
   "cell_type": "code",
   "execution_count": 14,
   "id": "1e4ad43e",
   "metadata": {},
   "outputs": [
    {
     "name": "stdout",
     "output_type": "stream",
     "text": [
      "10000\n"
     ]
    }
   ],
   "source": [
    "#PREGUNTA 3 #########################################################################\n",
    "#Y, Proceso generador de datos con 5 variables (1 + x1 + x2 + x3 + x4 )\n",
    "\n",
    "np.random.seed(170)\n",
    "\n",
    "x1 = np.random.rand(10000)  \n",
    "x2 = np.random.rand(10000)  \n",
    "x3 = np.random.rand(10000)  \n",
    "x4 = np.random.rand(10000) \n",
    "x5 = np.random.rand(10000)  \n",
    "e = np.random.normal(0,1,10000) # normal distribution\n",
    "\n",
    "\n",
    "Y = 1 + 0.8*x1 + 1.2*x2 + 0.5*x3 + 1.5*x4  + e\n",
    "print(Y.size)  #10 mil observaciones"
   ]
  },
  {
   "cell_type": "code",
   "execution_count": 15,
   "id": "dab23cd1",
   "metadata": {},
   "outputs": [],
   "source": [
    "#Informacion omitiendo una variable, se omite x4\n",
    "mat = np.column_stack((Y, np.ones(10000),x1,x2,x3)) "
   ]
  },
  {
   "cell_type": "code",
   "execution_count": 16,
   "id": "985d2806",
   "metadata": {},
   "outputs": [
    {
     "name": "stdout",
     "output_type": "stream",
     "text": [
      "   Muestra_tamano       OLS  standar_error\n",
      "0            10.0  1.762864       1.034679\n",
      "1            10.0 -1.289283       1.183143\n",
      "2            10.0  1.703140       1.131276\n",
      "3            10.0  2.565389       1.341874\n",
      "   Muestra_tamano       OLS  standar_error\n",
      "0            50.0  2.330939       0.564480\n",
      "1            50.0  0.226899       0.557084\n",
      "2            50.0  0.890242       0.557368\n",
      "3            50.0  0.456047       0.535727\n",
      "   Muestra_tamano       OLS  standar_error\n",
      "0            80.0  1.848696       0.386030\n",
      "1            80.0  0.614000       0.398003\n",
      "2            80.0  1.717269       0.399618\n",
      "3            80.0  0.173237       0.379192\n",
      "   Muestra_tamano       OLS  standar_error\n",
      "0           120.0  1.239140       0.292674\n",
      "1           120.0  0.806612       0.310058\n",
      "2           120.0  1.370872       0.321418\n",
      "3           120.0  1.079093       0.334514\n",
      "   Muestra_tamano       OLS  standar_error\n",
      "0           200.0  1.562910       0.239431\n",
      "1           200.0  0.929787       0.265135\n",
      "2           200.0  1.054319       0.249602\n",
      "3           200.0  0.691927       0.250240\n",
      "   Muestra_tamano       OLS  standar_error\n",
      "0           500.0  1.697841       0.159147\n",
      "1           500.0  0.914588       0.176233\n",
      "2           500.0  1.043835       0.180363\n",
      "3           500.0  0.808244       0.176949\n",
      "   Muestra_tamano       OLS  standar_error\n",
      "0           800.0  2.079006       0.122677\n",
      "1           800.0  0.343252       0.138319\n",
      "2           800.0  1.155962       0.136911\n",
      "3           800.0  0.313635       0.134062\n",
      "   Muestra_tamano       OLS  standar_error\n",
      "0          1000.0  1.765818       0.107978\n",
      "1          1000.0  0.752401       0.116785\n",
      "2          1000.0  1.226310       0.117556\n",
      "3          1000.0  0.475950       0.114154\n",
      "   Muestra_tamano       OLS  standar_error\n",
      "0          5000.0  1.863690       0.048394\n",
      "1          5000.0  0.679352       0.052801\n",
      "2          5000.0  1.213820       0.052586\n",
      "3          5000.0  0.425584       0.052961\n"
     ]
    }
   ],
   "source": [
    "muestra = (10, 50, 80 , 120 , 200, 500, 800, 1000, 5000)\n",
    "\n",
    "for m in muestra:\n",
    "    \n",
    "    elegidos=random.sample(range(10000), m)     #vector de indices de las posiciones de las observaciones elegidos en la muestra\n",
    "    observ= mat[elegidos,:]                     #matriz con observaciones elegidas\n",
    "   \n",
    "    #vector de X\n",
    "    X = observ[:,1:] \n",
    "    #vector de Y\n",
    "    Y = observ[:,0]                             \n",
    "    \n",
    "    #1. Construir beta\n",
    "    beta = np.linalg.inv(X.T @ X) @ ((X.T) @ Y )\n",
    "    beta\n",
    "\n",
    "    #2. Error estandar\n",
    "    y_est =  X @ beta                                                        #2.b. Y estimado = vector \n",
    "        \n",
    "    n  = X.shape[0]                                                          #2.c. numero de observaciones\n",
    "        \n",
    "    k  = X.shape[1] - 1                                                      #2.d. x - unos\n",
    "        \n",
    "    nk = n - k                                                               #2.e. grados de libertad\n",
    "        \n",
    "    sigma2 =  sum(list( map( lambda x: x**2 , Y - y_est)   )) / nk           #2.f. SCR/ (n-k) = e'e /(n-k) = s^2 =sigma^2\n",
    "        \n",
    "    Var   = sigma2*np.linalg.inv(X.T @ X)                                     #2.g. Var_Cov(betas) = s^2 * (X'X)-1\n",
    "    \n",
    "    sd    = np.sqrt( np.diag(Var) )                                          #2.h. desv(betas)=var(betas)^(1/2)\n",
    "\n",
    "    #3. Tamano de la muestra m\n",
    "    tamano=np.ones(len(beta))*m                                              # se crea vector para colocarlo en la tabla\n",
    "    \n",
    "    \n",
    "    df    = pd.DataFrame( {\"Muestra_tamano\": tamano, \"OLS\": beta , \"standar_error\" : sd })  \n",
    "    print(df)"
   ]
  },
  {
   "cell_type": "code",
   "execution_count": 17,
   "id": "827b1c20",
   "metadata": {},
   "outputs": [
    {
     "name": "stdout",
     "output_type": "stream",
     "text": [
      "800\n"
     ]
    }
   ],
   "source": [
    "#PREGUNTA 4 ########################################################################\n",
    "# Y, proceso generador de datos con 8 variables \n",
    "\n",
    "np.random.seed(170)\n",
    "\n",
    "x1 = np.random.rand(800)  \n",
    "x2 = np.random.rand(800)  \n",
    "x3 = np.random.rand(800)  \n",
    "x4 = np.random.rand(800) \n",
    "x5 = np.random.rand(800)  \n",
    "x6 = np.random.rand(800) \n",
    "x7 = np.random.rand(800) \n",
    "e = np.random.normal(0,1,800) # normal distribution\n",
    "\n",
    "Y = 1 + 0.8*x1 + 1.2*x2 + 0.5*x3 + 1.5*x4 + 2*x5 + 3*x6 + 1.5*x7 + e\n",
    "print(Y.size)   #800 observaciones\n",
    "\n",
    "X = np.column_stack((np.ones(800),x1,x2,x3,x4,x5,x6,x7))"
   ]
  },
  {
   "cell_type": "code",
   "execution_count": 18,
   "id": "db7c2d79",
   "metadata": {},
   "outputs": [],
   "source": [
    "#1. Definir funcion          \n",
    "    #Incluye,\n",
    "        #argumento de que incluye intercepto por default\n",
    "        #argumento de heterocedasticidad     (es homocedastico por default)\n",
    "        \n",
    "def ols(M,Y, inter=True, homo=True):\n",
    "    \n",
    "#2. Estimaciones\n",
    "    #Beta\n",
    "    beta = np.linalg.inv(X.T @ X) @ ((X.T) @ Y )                             #2.a. estimar beta\n",
    "        \n",
    "    y_est =  X @ beta                                                        #2.b. Y estimado  y Y media\n",
    "    y_mean=np.mean(Y) \n",
    "    \n",
    "    n  = X.shape[0]                                                          #2.c. numero de observaciones\n",
    "    k  = X.shape[1] - 1                                                      #2.d. numeros de x - unos \n",
    "    nk = n - k                                                               #2.e. grados de libertad\n",
    "    \n",
    "    ee= list( map( lambda x: x**2 , Y - y_est))                              #2.f. Vector de residuos^2\n",
    "        \n",
    "    SCR =  sum(ee)                                                           #2.g. Sumatoria Cuadrado de Residuos\n",
    "    SCT =  sum(list( map( lambda x: x**2 , Y - y_mean)))                     #2.h. Sumatoria Cuadrados Totales\n",
    "    \n",
    "    # Root-MSE    \n",
    "    root_mse = np.sqrt(SCR/ n)                                          \n",
    "    \n",
    "    # R cuadrado\n",
    "    R_cuadrado = 1- SCR/SCT\n",
    "    \n",
    "    diccionario   = {'R2': R_cuadrado ,'Rootmse': root_mse  }\n",
    "        \n",
    "    if inter and homo: \n",
    "        \n",
    "        sigma2 =  SCR / nk                                                    #2.f. SCR/ (n-k) = e'e /(n-k) = s^2\n",
    "        \n",
    "        Var   = sigma2*np.linalg.inv(X.T @ X)                                 #2.g. Var_Cov(betas) = s^2 * (X'X)-1\n",
    "      \n",
    "        sd    = np.sqrt( np.diag(Var) )                                       #2.h. desv(betas)=var(betas)^1/2 , solo diag\n",
    "                                                                                        \n",
    "        t_est = np.absolute(beta/sd)                                          #2.i. t_est = |beta-0|/sd ==> para cada beta \n",
    "        \n",
    "        pvalue= (1 - t.cdf(t_est, df=nk) ) * 2                                #2.j. p_value ==> para cada beta\n",
    "     \n",
    "        superior= beta + 1.96 * sd                                            #2.h. límites \n",
    "        inferior= beta - 1.96 * sd\n",
    "        \n",
    "        df = pd.DataFrame( {\"Estimacion_OLS\": beta , \"standar_error\" : sd , \"Pvalue\" : pvalue, \"Limit_sup\": superior, \"Limit_inf\": inferior}) \n",
    "      \n",
    "    elif inter and (homo is False):   \n",
    "\n",
    "        White= np.eye(n)*ee                                                      #2.a. Matriz de corrección de White\n",
    "        \n",
    "        VarCorg=np.linalg.inv(X.T @ X) @ X.T @White @ X @ np.linalg.inv(X.T@X)   #2.g. Var_Cov(betas) corregida             \n",
    "        \n",
    "        sd    = np.sqrt( np.diag(VarCorg) )                                      #2.h. desv(betas)=var(betas)^1/2 , solo diag\n",
    "                                                                                        \n",
    "        t_est = np.absolute(beta/sd)                                             #2.i. t_est =|beta-0|/sd ==> para cada beta \n",
    "        \n",
    "        pvalue= (1 - t.cdf(t_est, df=nk) ) * 2                                   #2.j. p_value ==> para cada beta\n",
    "     \n",
    "        superior= beta + 1.96 * sd                                               #2.h limites\n",
    "        inferior= beta - 1.96 * sd\n",
    "        \n",
    "        df = pd.DataFrame( {\"Estimacion_OLS\": beta , \"standar_error\" : sd , \"Pvalue\" : pvalue, \"Limit_sup\": superior, \"Limit_inf\": inferior}) \n",
    "      \n",
    "    print(df, \"\\n\", diccionario)"
   ]
  },
  {
   "cell_type": "code",
   "execution_count": 19,
   "id": "6537be6f",
   "metadata": {},
   "outputs": [
    {
     "name": "stdout",
     "output_type": "stream",
     "text": [
      "   Estimacion_OLS  standar_error        Pvalue  Limit_sup  Limit_inf\n",
      "0        1.214653       0.165610  5.508927e-13   1.539248   0.890058\n",
      "1        0.728137       0.123197  5.067673e-09   0.969603   0.486671\n",
      "2        1.247746       0.120894  0.000000e+00   1.484699   1.010793\n",
      "3        0.532272       0.122616  1.602150e-05   0.772599   0.291945\n",
      "4        1.239678       0.120271  0.000000e+00   1.475409   1.003946\n",
      "5        1.829955       0.121558  0.000000e+00   2.068208   1.591702\n",
      "6        2.992847       0.120800  0.000000e+00   3.229616   2.756079\n",
      "7        1.477507       0.123787  0.000000e+00   1.720129   1.234886 \n",
      " {'R2': 0.6090321142428282, 'Rootmse': 0.9918590768405482}\n"
     ]
    }
   ],
   "source": [
    "ols(X,Y)"
   ]
  },
  {
   "cell_type": "code",
   "execution_count": null,
   "id": "e9f37028",
   "metadata": {},
   "outputs": [],
   "source": [
    "ols(X,Y,homo=False)             \n",
    "#Cuando hay heterocedasticidad, la varianza modificada afecta el error estandar, pvalu, limites.\n",
    "#No cambia los R2 y Rootmse pues solo explican como los betas estimados ajustan la linea de regresion, y con la matriz de white\n",
    "#los betas no han cambiado"
   ]
  }
 ],
 "metadata": {
  "kernelspec": {
   "display_name": "Python 3 (ipykernel)",
   "language": "python",
   "name": "python3"
  },
  "language_info": {
   "codemirror_mode": {
    "name": "ipython",
    "version": 3
   },
   "file_extension": ".py",
   "mimetype": "text/x-python",
   "name": "python",
   "nbconvert_exporter": "python",
   "pygments_lexer": "ipython3",
   "version": "3.9.12"
  }
 },
 "nbformat": 4,
 "nbformat_minor": 5
}
